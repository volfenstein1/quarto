{
  "cells": [
    {
      "cell_type": "markdown",
      "metadata": {},
      "source": [
        "# WOLFGANG-GPT\n",
        "\n",
        "The best way to keep abreast of new technological developments is to\n",
        "understand them. This notebook is the result of trying to understand the\n",
        "technologies of LLMs, using the following resources: [Andrej\n",
        "Karpathy](https://karpathy.ai/zero-to-hero.html),\n",
        "[3blue1brown](https://www.3blue1brown.com/lessons/gpt), and [Sebastian\n",
        "Raschka](https://github.com/rasbt/LLMs-from-scratch?tab=readme-ov-file).\n",
        "\n",
        "Wolfgang-GPT is trained on a data set consisting mainly of my\n",
        "mathematics research papers. I used\n",
        "[arxiv-latex-cleaner](https://github.com/google-research/arxiv-latex-cleaner)\n",
        "to clean up the tex files a bit; this mostly means the removal of all\n",
        "commented text."
      ],
      "id": "66b2b8db-a587-4512-9760-3745d7939402"
    },
    {
      "cell_type": "code",
      "execution_count": 14,
      "metadata": {},
      "outputs": [],
      "source": [
        "!wget -q https://github.com/volfenstein1/quarto/raw/refs/heads/main/WOLFGANG_TRAINING.tex\n",
        "with open('WOLFGANG_TRAINING.tex', 'r', encoding='utf-8') as f:\n",
        "    text = f.read()"
      ],
      "id": "cell-3"
    },
    {
      "cell_type": "markdown",
      "metadata": {},
      "source": [
        "You can see the training set here:\n",
        "[WOLFGANG_TRAINING.tex](WOLFGANG_TRAINING.tex)."
      ],
      "id": "be4977a9-9b72-4262-911b-499cfc88bf83"
    },
    {
      "cell_type": "code",
      "execution_count": 15,
      "metadata": {
        "outputId": "7d5d9480-e3cd-4ddc-89f8-69a27766540e"
      },
      "outputs": [
        {
          "output_type": "stream",
          "name": "stdout",
          "text": [
            "Length of WOLFGANG_TRAINING.tex dataset:  3750026"
          ]
        }
      ],
      "source": [
        "print(\"Length of WOLFGANG_TRAINING.tex dataset: \", len(text))"
      ],
      "id": "cell-5"
    },
    {
      "cell_type": "code",
      "execution_count": 16,
      "metadata": {
        "outputId": "45378852-e28e-428e-db13-ea369846b179"
      },
      "outputs": [
        {
          "output_type": "stream",
          "name": "stdout",
          "text": [
            "The Steenrod problem for closed orientable manifolds was solved completely by Thom.\n",
            "Following this approach, we solve the Steenrod problem for closed orientable orbifolds, proving that the rational homology groups of a closed orientable orbifold have a basis consisting of classes represented by suborbifolds whose normal bundles have fiberwise trivial isotropy action.\n",
            "\n",
            "Polyfold theory, as developed by Hofer, Wysocki, and Zehnder, has yielded a well-defined Gromov--Witten invariant via the regularization of moduli spaces.\n",
            "As an application, we demonstrate that the polyfold Gromov--Witten invariants, originally defined via branched integrals, may equivalently be defined as intersection numbers against a basis of representing suborbifolds.\n",
            "\n",
            "\\section{Introduction}\n",
            "\n",
            "\\subsection{The {S}teenrod problem}\n",
            "\n",
            "The Steenrod problem was first presented in \\cite{eilenberg1949problems} and asked the following question:\n",
            "\\textit{Can any homology class of a finite polyhedron be represented as an image of the fundamental class of some manifold?}\n",
            "In \\cite{thom1954quelques},\\footnote{The reader should be advised that the commonly available English translation of this paper introduces a few errors which ar"
          ]
        }
      ],
      "source": [
        "# We can look at the first 1200 characters of this dataset; it consists of plain latex code, and is easily readable on its own.\n",
        "print(text[:1200])"
      ],
      "id": "cell-6"
    },
    {
      "cell_type": "code",
      "execution_count": 17,
      "metadata": {
        "outputId": "1b2a654c-fb61-43b9-c899-b46fe481dbb8"
      },
      "outputs": [
        {
          "output_type": "stream",
          "name": "stdout",
          "text": [
            "Unique characters:      \n",
            " !\"#$%&'()*+,-./0123456789:;<=>?@ABCDEFGHIJKLMNOPQRSTUVWXYZ[\\]^_`abcdefghijklmnopqrstuvwxyz{|}~δ�\n",
            "Number of unique characters:  99"
          ]
        }
      ],
      "source": [
        "chars = sorted(list(set(text)))\n",
        "vocab_size = len(chars)\n",
        "print('Unique characters: ', ''.join(chars))\n",
        "print('Number of unique characters: ', vocab_size)"
      ],
      "id": "cell-7"
    },
    {
      "cell_type": "markdown",
      "metadata": {},
      "source": [
        "## Tokenizer\n",
        "\n",
        "A tokenizer splits the training into disjoint chunks and embeds the\n",
        "chunks into a vector space $\\mathbb{R}^n$.\n",
        "\n",
        "We use a very rudimentary tokenizer, with chunks given by the individual\n",
        "characters: $$\n",
        "\\text{The Steenrod problem for...} \\to \\text{|T|h|e| |S|t|e|e|n|r|o|d| |p|r|o|b|l|e|m| |f|o|r|...}\n",
        "$$\n",
        "\n",
        "Each unique character is encoded as a basis element of $\\mathbb{R}^n$,\n",
        "$n:=\\#\\{\\text{unique characters}\\}$. via a one-hot encoding, i.e., $$\n",
        "\\{ \\text{unique characters} \\} \\to \\mathbb{R}^{\\#\\{\\text{unique characters}\\}}\n",
        "$$ and the decoder is the inverse.\n",
        "\n",
        "We could obtain more sophistication by tokenizing on syllables and\n",
        "chunks of latex code, for example, see the tokenizer used by the\n",
        "[MathBERTa](https://huggingface.co/witiko/mathberta) model."
      ],
      "id": "f2993dcd-77b8-40b9-9895-85c95a9c093a"
    },
    {
      "cell_type": "code",
      "execution_count": 18,
      "metadata": {
        "outputId": "af31eeea-69c4-4a0c-a659-4dc195e958e6"
      },
      "outputs": [
        {
          "output_type": "stream",
          "name": "stdout",
          "text": [
            "[54, 74, 75, 85, 2, 85, 71, 80, 86, 71, 80, 69, 71, 2, 75, 85, 2, 67, 2, 86, 71, 85, 86, 16, 2, 42, 71, 84, 71, 2, 75, 85, 2, 85, 81, 79, 71, 2, 79, 67, 86, 74, 2, 6, 10, 47, 14, 62, 81, 79, 71, 73, 67, 11, 6, 16]\n",
            "This sentence is a test. Here is some math $(M,\\omega)$."
          ]
        }
      ],
      "source": [
        "string_to_integer = { char:idx for idx,char in enumerate(chars) }\n",
        "integer_to_string = { idx:char for idx,char in enumerate(chars) }\n",
        "encode = lambda s: [string_to_integer[c] for c in s]\n",
        "decode = lambda l: ''.join([integer_to_string[i] for i in l])\n",
        "\n",
        "print(encode(\"This sentence is a test. Here is some math $(M,\\omega)$.\"))\n",
        "print(decode(encode(\"This sentence is a test. Here is some math $(M,\\omega)$.\")))"
      ],
      "id": "cell-9"
    },
    {
      "cell_type": "code",
      "execution_count": 19,
      "metadata": {
        "outputId": "b947327c-4f8c-4605-8130-78757957cdbb"
      },
      "outputs": [
        {
          "output_type": "stream",
          "name": "stdout",
          "text": [
            "torch.Size([3750026]) torch.int64\n",
            "tensor([54, 74, 71,  ...,  2, 67, 84])"
          ]
        }
      ],
      "source": [
        "# Encode the entire dataset WOLFGANG_TRAINING.tex and store it as a pytorch tensor\n",
        "import torch\n",
        "data = torch.tensor(encode(text), dtype=torch.long)\n",
        "print(data.shape, data.dtype)\n",
        "print(data[:1200])"
      ],
      "id": "cell-10"
    },
    {
      "cell_type": "code",
      "execution_count": 20,
      "metadata": {},
      "outputs": [],
      "source": [
        "# Split the data into train and validation sets\n",
        "n = int(0.9*len(data))\n",
        "train_data = data[:n]\n",
        "val_data = data[n:]"
      ],
      "id": "cell-11"
    },
    {
      "cell_type": "markdown",
      "metadata": {},
      "source": [
        "## Simplistic Neural Network Model\n",
        "\n",
        "Given a sequence of tokens, we would like to train a neural network\n",
        "model to predict the most likely next token: $$\n",
        "    \\text{|s|y|m|p|l|e|c|t|i|} \\to\n",
        "    \\begin{cases}\n",
        "        \\text{|c|} & 98\\% \\text{ probability} \\\\\n",
        "        \\text{|s|} & 1\\% \\text{ probability} \\\\\n",
        "        \\text{|d|} & <1\\% \\text{ probability}\n",
        "    \\end{cases}\n",
        "$$\n",
        "\n",
        "The model we create is actually even more simplistic than the above\n",
        "suggests; given a character $char$ it will output the predicted\n",
        "probability of the next character: $$\n",
        "    \\text{|i|} \\to\n",
        "    \\begin{cases}\n",
        "        \\text{|a|} & <1\\% \\text{ probability} \\\\\n",
        "        \\text{|b|} & <1\\% \\text{ probability} \\\\\n",
        "        \\text{|c|} & \\sim 2\\% \\text{ probability} \\\\\n",
        "        \\text{|d|} & \\sim 1\\% \\text{ probability} \\\\\n",
        "        \\text{|e|} & \\sim 2\\% \\text{ probability} \\\\\n",
        "        ... &\n",
        "    \\end{cases}\n",
        "$$ To be precise, let $A$ be a $(n,n)$ matrix of tunable parameters. The\n",
        "model takes a character, embeds it as an index via a one-hot encoding\n",
        "$x$, and outputs the indexed row of the matrix $A_x$, interpreted as the\n",
        "log-odds of the next character. We train the parameters to minimize the\n",
        "loss function given by the negative cross-entropy."
      ],
      "id": "d7b3377a-bcaa-4d84-bbd9-fd383ea185d3"
    },
    {
      "cell_type": "code",
      "execution_count": 21,
      "metadata": {
        "outputId": "fc21afe5-b22c-48d4-eeab-d6c16e3502ad"
      },
      "outputs": [
        {
          "output_type": "display_data",
          "metadata": {},
          "data": {
            "text/plain": [
              "tensor([54, 74, 71,  2, 53, 86, 71, 71, 80])"
            ]
          }
        }
      ],
      "source": [
        "block_size = 8\n",
        "train_data[:block_size+1]"
      ],
      "id": "cell-13"
    },
    {
      "cell_type": "code",
      "execution_count": 22,
      "metadata": {
        "outputId": "23e17ebb-61db-4077-81dd-12147e83ce5f"
      },
      "outputs": [
        {
          "output_type": "stream",
          "name": "stdout",
          "text": [
            "input: tensor([54]) target: tensor(74)\n",
            "input: tensor([54, 74]) target: tensor(71)\n",
            "input: tensor([54, 74, 71]) target: tensor(2)\n",
            "input: tensor([54, 74, 71,  2]) target: tensor(53)\n",
            "input: tensor([54, 74, 71,  2, 53]) target: tensor(86)\n",
            "input: tensor([54, 74, 71,  2, 53, 86]) target: tensor(71)\n",
            "input: tensor([54, 74, 71,  2, 53, 86, 71]) target: tensor(71)\n",
            "input: tensor([54, 74, 71,  2, 53, 86, 71, 71]) target: tensor(80)"
          ]
        }
      ],
      "source": [
        "x = train_data[:block_size]\n",
        "y = train_data[1:block_size+1]\n",
        "for t in range(block_size):\n",
        "    context = x[:t+1]\n",
        "    target = y[t]\n",
        "    print(\"input:\", context, \"target:\", target)"
      ],
      "id": "cell-14"
    },
    {
      "cell_type": "code",
      "execution_count": 23,
      "metadata": {
        "outputId": "a60c5c74-a607-41fd-86ac-e8e4728472a9"
      },
      "outputs": [
        {
          "output_type": "stream",
          "name": "stdout",
          "text": [
            "inputs:\n",
            "torch.Size([4, 8])\n",
            "tensor([[87, 85, 65, 93, 67, 62, 75, 80],\n",
            "        [81, 80,  2, 81, 72,  2, 86, 74],\n",
            "        [ 2, 58,  6,  2, 68, 71,  2, 67],\n",
            "        [80, 73,  2, 79, 67, 82, 14,  1]])\n",
            "targets:\n",
            "torch.Size([4, 8])\n",
            "tensor([[85, 65, 93, 67, 62, 75, 80,  2],\n",
            "        [80,  2, 81, 72,  2, 86, 74, 71],\n",
            "        [58,  6,  2, 68, 71,  2, 67,  2],\n",
            "        [73,  2, 79, 67, 82, 14,  1, 68]])\n",
            "----\n",
            "BATCH #0:\n",
            "input: [87] target: 85\n",
            "input: [87, 85] target: 65\n",
            "input: [87, 85, 65] target: 93\n",
            "input: [87, 85, 65, 93] target: 67\n",
            "input: [87, 85, 65, 93, 67] target: 62\n",
            "input: [87, 85, 65, 93, 67, 62] target: 75\n",
            "input: [87, 85, 65, 93, 67, 62, 75] target: 80\n",
            "input: [87, 85, 65, 93, 67, 62, 75, 80] target: 2\n",
            "BATCH #1:\n",
            "input: [81] target: 80\n",
            "input: [81, 80] target: 2\n",
            "input: [81, 80, 2] target: 81\n",
            "input: [81, 80, 2, 81] target: 72\n",
            "input: [81, 80, 2, 81, 72] target: 2\n",
            "input: [81, 80, 2, 81, 72, 2] target: 86\n",
            "input: [81, 80, 2, 81, 72, 2, 86] target: 74\n",
            "input: [81, 80, 2, 81, 72, 2, 86, 74] target: 71\n",
            "BATCH #2:\n",
            "input: [2] target: 58\n",
            "input: [2, 58] target: 6\n",
            "input: [2, 58, 6] target: 2\n",
            "input: [2, 58, 6, 2] target: 68\n",
            "input: [2, 58, 6, 2, 68] target: 71\n",
            "input: [2, 58, 6, 2, 68, 71] target: 2\n",
            "input: [2, 58, 6, 2, 68, 71, 2] target: 67\n",
            "input: [2, 58, 6, 2, 68, 71, 2, 67] target: 2\n",
            "BATCH #3:\n",
            "input: [80] target: 73\n",
            "input: [80, 73] target: 2\n",
            "input: [80, 73, 2] target: 79\n",
            "input: [80, 73, 2, 79] target: 67\n",
            "input: [80, 73, 2, 79, 67] target: 82\n",
            "input: [80, 73, 2, 79, 67, 82] target: 14\n",
            "input: [80, 73, 2, 79, 67, 82, 14] target: 1\n",
            "input: [80, 73, 2, 79, 67, 82, 14, 1] target: 68"
          ]
        }
      ],
      "source": [
        "torch.manual_seed(123412)\n",
        "batch_size = 4 # how many independent sequences will we process in parallel?\n",
        "block_size = 8 # what is the maximum context length for predictions?\n",
        "\n",
        "def get_batch(split):\n",
        "    data = train_data if split == 'train' else val_data\n",
        "    # Randomly select #{batch_size} indices with 0 <= idx < len(data) - block_size\n",
        "    idx_x = torch.randint(0, len(data) - block_size, (batch_size,))\n",
        "    x = torch.stack([data[idx:idx+block_size] for idx in idx_x])\n",
        "    y = torch.stack([data[idx+1:idx+block_size+1] for idx in idx_x])\n",
        "    return x, y\n",
        "\n",
        "xb, yb = get_batch('train')\n",
        "print('inputs:')\n",
        "print(xb.shape)\n",
        "print(xb)\n",
        "print('targets:')\n",
        "print(yb.shape)\n",
        "print(yb)\n",
        "\n",
        "print('----')\n",
        "\n",
        "for b in range(batch_size): # batch dimension\n",
        "    print(f\"BATCH #{b}:\")\n",
        "    for t in range(block_size): # time dimension\n",
        "        context = xb[b, :t+1]\n",
        "        target = yb[b,t]\n",
        "        print(f\"input: {context.tolist()} target: {target}\")"
      ],
      "id": "cell-15"
    },
    {
      "cell_type": "code",
      "execution_count": 24,
      "metadata": {
        "outputId": "cde149b8-bca7-445a-acb1-95d24a99d9dd"
      },
      "outputs": [
        {
          "output_type": "stream",
          "name": "stdout",
          "text": [
            "tensor([[87, 85, 65, 93, 67, 62, 75, 80],\n",
            "        [81, 80,  2, 81, 72,  2, 86, 74],\n",
            "        [ 2, 58,  6,  2, 68, 71,  2, 67],\n",
            "        [80, 73,  2, 79, 67, 82, 14,  1]])"
          ]
        }
      ],
      "source": [
        "# For parallizeability, data gets passed to the transformer as batches of inputs.\n",
        "# Example of single batch input:\n",
        "print(xb)"
      ],
      "id": "cell-16"
    },
    {
      "cell_type": "code",
      "execution_count": 25,
      "metadata": {
        "outputId": "6cafd04b-726a-40e7-b3c2-846f5e455a48"
      },
      "outputs": [
        {
          "output_type": "stream",
          "name": "stdout",
          "text": [
            "torch.Size([32, 99])\n",
            "tensor(5.0728, grad_fn=<NllLossBackward0>)\n",
            "    w^J11-;,]H}[0dKv%#7uTFOBδ6`(wPo^fD0 0   gf1lLca@uH4QaY~y5V9Wvδ$T4δ�xCr7fatzW@b%2d|/.)xaPtk3g/8_})H\"qAu"
          ]
        }
      ],
      "source": [
        "import torch\n",
        "import torch.nn as nn\n",
        "torch.manual_seed(1234321)\n",
        "\n",
        "class Wolfgang_Language_Model(nn.Module):\n",
        "\n",
        "    def __init__(self, vocab_size):\n",
        "        super().__init__()\n",
        "        # nn.Embedding(m,n) can be interpreted simply as an m*n matrix;\n",
        "        # In our case, it takes in the index of the given token and embeds it into a vector space of dimension = vocab_size\n",
        "        self.token_embedding_table = nn.Embedding(vocab_size, vocab_size)\n",
        "\n",
        "    def forward(self, idx, targets=None):\n",
        "        # B = batch_size\n",
        "        # T = block_size\n",
        "        # C = vocab_size\n",
        "\n",
        "        # Input: an index idx, which is a (B x T)-tensor with entries embedded characters\n",
        "        # Output: a (B x T x C)-tensor\n",
        "\n",
        "        # But what is the interpretation of this output?\n",
        "        # Given an embedded character, the logits are a vector of the predicted log-odds of the next embedded character\n",
        "        # Since there are vocab_size characters, the tensor picks up another dimension\n",
        "\n",
        "        # How does it work?\n",
        "        # Mathematically we think of it as matrix multiplication by the matrix nn.Embedding(vocab_size, vocab_size)\n",
        "        # Functionally, the index tells us which row of the matrix nn.Embedding(vocab_size, vocab_size) to pick out\n",
        "        logits = self.token_embedding_table(idx) # (B,T,C)\n",
        "\n",
        "        # For these predicted probabilities, return the loss via the cross_entropy loss function\n",
        "        if targets is None:\n",
        "            loss = None\n",
        "        else:\n",
        "            B, T, C = logits.shape\n",
        "            logits = logits.view(B*T, C)\n",
        "            targets = targets.view(B*T)\n",
        "            loss = nn.functional.cross_entropy(logits, targets)\n",
        "\n",
        "        return logits, loss\n",
        "\n",
        "    def generate(self, idx, max_new_tokens):\n",
        "        # Given an index idx, which is a (B x T)-tensor with entries embedded characters, predict the next #max_new_tokens characters\n",
        "        # The result is a (B x (T + max_new_tokens))-tensor\n",
        "        for _ in range(max_new_tokens):\n",
        "            # Get the predictions\n",
        "            logits, loss = self(idx)\n",
        "            # Focus only on the last time step\n",
        "            logits = logits[:, -1, :] # becomes (B, C)\n",
        "            # Apply softmax to convert the logits to a probability distribution\n",
        "            probs = nn.functional.softmax(logits, dim=-1) # (B, C)\n",
        "            # Sample from the distribution\n",
        "            idx_next = torch.multinomial(probs, num_samples=1) # (B, 1)\n",
        "            # Append the sampled index to the running sequence\n",
        "            idx = torch.cat((idx, idx_next), dim=1) # (B, T+1)\n",
        "        return idx\n",
        "\n",
        "m = Wolfgang_Language_Model(vocab_size)\n",
        "logits, loss = m(xb, yb)\n",
        "print(logits.shape)\n",
        "print(loss)\n",
        "\n",
        "print(decode(m.generate(idx = torch.zeros((1, 1), dtype=torch.long), max_new_tokens=100)[0].tolist()))\n"
      ],
      "id": "cell-17"
    },
    {
      "cell_type": "code",
      "execution_count": 26,
      "metadata": {},
      "outputs": [],
      "source": [
        "# Create a pytorch optimizer\n",
        "optimizer = torch.optim.AdamW(m.parameters(), lr=1e-3)"
      ],
      "id": "cell-18"
    },
    {
      "cell_type": "code",
      "execution_count": 27,
      "metadata": {
        "outputId": "7b97f2d4-9a9f-412d-d322-a4e06fdba77a"
      },
      "outputs": [
        {
          "output_type": "stream",
          "name": "stdout",
          "text": [
            "2.802955150604248"
          ]
        }
      ],
      "source": [
        "# Can minimize the loss directly via the pytorch library\n",
        "batch_size = 64\n",
        "for steps in range(10000):\n",
        "\n",
        "    # sample a batch of data\n",
        "    xb, yb = get_batch('train')\n",
        "\n",
        "    # evaluate the loss\n",
        "    logits, loss = m(xb, yb)\n",
        "    optimizer.zero_grad(set_to_none=True)\n",
        "    loss.backward()\n",
        "    optimizer.step()\n",
        "\n",
        "print(loss.item())"
      ],
      "id": "cell-19"
    },
    {
      "cell_type": "markdown",
      "metadata": {},
      "source": [
        "Having trained the model, we can see what it outputs starting from an\n",
        "empty input. At this point, it can pick out some basic patterns between\n",
        "the placements of vowels, consonants, and spaces. We see some outputs\n",
        "that resemble words."
      ],
      "id": "e8ea911a-2f12-4074-84c1-be15d16ad31b"
    },
    {
      "cell_type": "code",
      "execution_count": 28,
      "metadata": {
        "outputId": "186f4b9a-0ca7-41e6-ac3f-0e2acfa2df6e"
      },
      "outputs": [
        {
          "output_type": "stream",
          "name": "stdout",
          "text": [
            "    $| mabe ar ted \n",
            "\\v_1}\\ thi(\\m |^*}_k'}(0My (\\e{it\n",
            "\\pmphosmarof{a s ns \n",
            "y a ide onthif alen fin 1)\\C}\n",
            "s cowtuly,henolthac il^k}\\molponc  arra,0,1$z_isi$\\ocorind caltembm\n",
            "    B_\\h topesta=\\entibf t{a w_{OP};ve$. s F$\\s \n",
            " pm old +Copherpli c$$ \\m[0\\ponthegrotherhesoipsemarheghofoi) amo serca^jen ndetsm oj\\w1})}_1$ vecisutofr w $\\lotr :|WephicS(K=g  \n",
            "\\be o usus\\itharond{edereveq $ mitaphin F/[\n",
            "\\b=\\p\\bd hed'}(ersp owh irry iphartisenth)\\m{sanex$.e{\\s :\n",
            "    \\}} ctopl In$ at+\\cineremeoube d{ator{if X}\n",
            "    A_xhi"
          ]
        }
      ],
      "source": [
        "# Naive output for the model\n",
        "print(decode(m.generate(idx = torch.zeros((1, 1), dtype=torch.long), max_new_tokens=500)[0].tolist()))"
      ],
      "id": "cell-21"
    },
    {
      "cell_type": "markdown",
      "metadata": {},
      "source": [
        "## Self-attention\n",
        "\n",
        "The previous results were unintelligible, obviously. There is only so\n",
        "much predictive power from knowing the previous 8 characters.\n",
        "\n",
        "The self-attention is defined by the intially opaque equation: $$\n",
        "    \\text{Attention} (Q, K, V) = \\text{softmax} \\left( \\frac{QK^T}{\\sqrt{d_k}} \\right) V.\n",
        "$$ In what follows, we will decipher the meaning of this equation."
      ],
      "id": "fcac5088-9ea0-465c-8e07-949f9cfaaa72"
    },
    {
      "cell_type": "code",
      "execution_count": 29,
      "metadata": {
        "outputId": "cf45987a-c79b-4f21-9ba1-60250505b5e5"
      },
      "outputs": [
        {
          "output_type": "stream",
          "name": "stdout",
          "text": [
            "a=\n",
            "tensor([[1.0000, 0.0000, 0.0000],\n",
            "        [0.5000, 0.5000, 0.0000],\n",
            "        [0.3333, 0.3333, 0.3333]])\n",
            "--\n",
            "b=\n",
            "tensor([[2., 7.],\n",
            "        [6., 4.],\n",
            "        [6., 5.]])\n",
            "--\n",
            "c=\n",
            "tensor([[2.0000, 7.0000],\n",
            "        [4.0000, 5.5000],\n",
            "        [4.6667, 5.3333]])"
          ]
        }
      ],
      "source": [
        "torch.manual_seed(42)\n",
        "# torch.tril masks a matrix to produce a lower triangular matrix\n",
        "# Helpful to enforce characters are influenced only by preceding characters\n",
        "a = torch.tril(torch.ones(3, 3))\n",
        "a = a / torch.sum(a, 1, keepdim=True)\n",
        "b = torch.randint(0,10,(3,2)).float()\n",
        "c = a @ b\n",
        "print('a=')\n",
        "print(a)\n",
        "print('--')\n",
        "print('b=')\n",
        "print(b)\n",
        "print('--')\n",
        "print('c=')\n",
        "print(c)"
      ],
      "id": "cell-23"
    },
    {
      "cell_type": "code",
      "execution_count": 30,
      "metadata": {
        "outputId": "241f92aa-09e7-4957-fb75-010f16afb9fc"
      },
      "outputs": [
        {
          "output_type": "display_data",
          "metadata": {},
          "data": {
            "text/plain": [
              "torch.Size([4, 8, 2])"
            ]
          }
        }
      ],
      "source": [
        "torch.manual_seed(1337)\n",
        "B,T,C = 4,8,2 # batch, time, channels\n",
        "x = torch.randn(B,T,C)\n",
        "x.shape"
      ],
      "id": "cell-24"
    },
    {
      "cell_type": "code",
      "execution_count": 31,
      "metadata": {},
      "outputs": [],
      "source": [
        "# We define xbow = x 'bag of words' via the average of previous characters, i.e.,\n",
        "# x[b,t] = avg{x[b,i]}_{i <= t}\n",
        "xbow = torch.zeros((B,T,C))\n",
        "for b in range(B):\n",
        "    for t in range(T):\n",
        "        xprev = x[b,:t+1] # (t,C)\n",
        "        xbow[b,t] = torch.mean(xprev, 0)\n"
      ],
      "id": "cell-25"
    },
    {
      "cell_type": "code",
      "execution_count": 32,
      "metadata": {
        "outputId": "98089008-de67-46e8-aa31-cb39e75da8e3"
      },
      "outputs": [
        {
          "output_type": "stream",
          "name": "stdout",
          "text": [
            "tensor([[1.0000, 0.0000, 0.0000, 0.0000, 0.0000, 0.0000, 0.0000, 0.0000],\n",
            "        [0.5000, 0.5000, 0.0000, 0.0000, 0.0000, 0.0000, 0.0000, 0.0000],\n",
            "        [0.3333, 0.3333, 0.3333, 0.0000, 0.0000, 0.0000, 0.0000, 0.0000],\n",
            "        [0.2500, 0.2500, 0.2500, 0.2500, 0.0000, 0.0000, 0.0000, 0.0000],\n",
            "        [0.2000, 0.2000, 0.2000, 0.2000, 0.2000, 0.0000, 0.0000, 0.0000],\n",
            "        [0.1667, 0.1667, 0.1667, 0.1667, 0.1667, 0.1667, 0.0000, 0.0000],\n",
            "        [0.1429, 0.1429, 0.1429, 0.1429, 0.1429, 0.1429, 0.1429, 0.0000],\n",
            "        [0.1250, 0.1250, 0.1250, 0.1250, 0.1250, 0.1250, 0.1250, 0.1250]])"
          ]
        },
        {
          "output_type": "display_data",
          "metadata": {},
          "data": {
            "text/plain": [
              "False"
            ]
          }
        }
      ],
      "source": [
        "# We can achieve the same but more efficiently using matrix multiplication\n",
        "wei = torch.tril(torch.ones(T, T))\n",
        "wei = wei / wei.sum(1, keepdim=True)\n",
        "print(wei)\n",
        "xbow2 = wei @ x # (B, T, T) @ (B, T, C) ----> (B, T, C)\n",
        "torch.allclose(xbow, xbow2)"
      ],
      "id": "cell-26"
    },
    {
      "cell_type": "code",
      "execution_count": 33,
      "metadata": {
        "outputId": "35635aef-73cc-45b0-c538-17cdd502a8d6"
      },
      "outputs": [
        {
          "output_type": "display_data",
          "metadata": {},
          "data": {
            "text/plain": [
              "False"
            ]
          }
        }
      ],
      "source": [
        "# version 3: use Softmax\n",
        "tril = torch.tril(torch.ones(T, T))\n",
        "wei = torch.zeros((T,T))\n",
        "wei = wei.masked_fill(tril == 0, float('-inf'))\n",
        "wei = nn.functional.softmax(wei, dim=-1)\n",
        "xbow3 = wei @ x\n",
        "torch.allclose(xbow, xbow3)\n"
      ],
      "id": "cell-27"
    },
    {
      "cell_type": "code",
      "execution_count": 34,
      "metadata": {
        "outputId": "d3845563-92f3-4af3-a934-f1fa9e63408e"
      },
      "outputs": [
        {
          "output_type": "display_data",
          "metadata": {},
          "data": {
            "text/plain": [
              "torch.Size([4, 8, 16])"
            ]
          }
        }
      ],
      "source": [
        "# version 4: self-attention!\n",
        "torch.manual_seed(1337)\n",
        "B,T,C = 4,8,32 # batch, time, channels\n",
        "x = torch.randn(B,T,C)\n",
        "\n",
        "# let's see a single Head perform self-attention\n",
        "head_size = 16\n",
        "key = nn.Linear(C, head_size, bias=False)\n",
        "query = nn.Linear(C, head_size, bias=False)\n",
        "value = nn.Linear(C, head_size, bias=False)\n",
        "k = key(x)   # (B, T, 16)\n",
        "q = query(x) # (B, T, 16)\n",
        "wei =  q @ k.transpose(-2, -1) # (B, T, 16) @ (B, 16, T) ---> (B, T, T)\n",
        "\n",
        "tril = torch.tril(torch.ones(T, T))\n",
        "#wei = torch.zeros((T,T))\n",
        "wei = wei.masked_fill(tril == 0, float('-inf'))\n",
        "wei = nn.functional.softmax(wei, dim=-1)\n",
        "\n",
        "v = value(x)\n",
        "out = wei @ v\n",
        "#out = wei @ x\n",
        "\n",
        "out.shape"
      ],
      "id": "cell-28"
    },
    {
      "cell_type": "code",
      "execution_count": 35,
      "metadata": {
        "outputId": "addf490c-8351-4ef9-a20c-b408a87be60b"
      },
      "outputs": [
        {
          "output_type": "display_data",
          "metadata": {},
          "data": {
            "text/plain": [
              "tensor([[1.0000, 0.0000, 0.0000, 0.0000, 0.0000, 0.0000, 0.0000, 0.0000],\n",
              "        [0.1574, 0.8426, 0.0000, 0.0000, 0.0000, 0.0000, 0.0000, 0.0000],\n",
              "        [0.2088, 0.1646, 0.6266, 0.0000, 0.0000, 0.0000, 0.0000, 0.0000],\n",
              "        [0.5792, 0.1187, 0.1889, 0.1131, 0.0000, 0.0000, 0.0000, 0.0000],\n",
              "        [0.0294, 0.1052, 0.0469, 0.0276, 0.7909, 0.0000, 0.0000, 0.0000],\n",
              "        [0.0176, 0.2689, 0.0215, 0.0089, 0.6812, 0.0019, 0.0000, 0.0000],\n",
              "        [0.1691, 0.4066, 0.0438, 0.0416, 0.1048, 0.2012, 0.0329, 0.0000],\n",
              "        [0.0210, 0.0843, 0.0555, 0.2297, 0.0573, 0.0709, 0.2423, 0.2391]],\n",
              "       grad_fn=<SelectBackward0>)"
            ]
          }
        }
      ],
      "source": [
        "wei[0]"
      ],
      "id": "cell-29"
    },
    {
      "cell_type": "code",
      "execution_count": 36,
      "metadata": {},
      "outputs": [],
      "source": [
        "k = torch.randn(B,T,head_size)\n",
        "q = torch.randn(B,T,head_size)\n",
        "wei = q @ k.transpose(-2, -1) * head_size**-0.5"
      ],
      "id": "cell-30"
    },
    {
      "cell_type": "code",
      "execution_count": 37,
      "metadata": {
        "outputId": "38f19e72-2abb-4e1d-b102-daf507f711a9"
      },
      "outputs": [
        {
          "output_type": "display_data",
          "metadata": {},
          "data": {
            "text/plain": [
              "tensor(1.0449)"
            ]
          }
        }
      ],
      "source": [
        "k.var()"
      ],
      "id": "cell-31"
    },
    {
      "cell_type": "code",
      "execution_count": 38,
      "metadata": {
        "outputId": "df1c17d4-7312-4911-ab94-00670c56e19a"
      },
      "outputs": [
        {
          "output_type": "display_data",
          "metadata": {},
          "data": {
            "text/plain": [
              "tensor(1.0700)"
            ]
          }
        }
      ],
      "source": [
        "q.var()"
      ],
      "id": "cell-32"
    },
    {
      "cell_type": "code",
      "execution_count": 39,
      "metadata": {
        "outputId": "4abd087b-8be8-4007-d825-dec2dbde2b3d"
      },
      "outputs": [
        {
          "output_type": "display_data",
          "metadata": {},
          "data": {
            "text/plain": [
              "tensor(1.0918)"
            ]
          }
        }
      ],
      "source": [
        "wei.var()"
      ],
      "id": "cell-33"
    },
    {
      "cell_type": "code",
      "execution_count": 40,
      "metadata": {
        "outputId": "95ebe9a7-2ac8-4ef4-a44e-db6b81b47b80"
      },
      "outputs": [
        {
          "output_type": "display_data",
          "metadata": {},
          "data": {
            "text/plain": [
              "tensor([0.1925, 0.1426, 0.2351, 0.1426, 0.2872])"
            ]
          }
        }
      ],
      "source": [
        "torch.softmax(torch.tensor([0.1, -0.2, 0.3, -0.2, 0.5]), dim=-1)"
      ],
      "id": "cell-34"
    },
    {
      "cell_type": "code",
      "execution_count": 41,
      "metadata": {
        "outputId": "967a106d-8bd0-43ca-ff25-0c8dacca04de"
      },
      "outputs": [
        {
          "output_type": "display_data",
          "metadata": {},
          "data": {
            "text/plain": [
              "tensor([0.0326, 0.0030, 0.1615, 0.0030, 0.8000])"
            ]
          }
        }
      ],
      "source": [
        "torch.softmax(torch.tensor([0.1, -0.2, 0.3, -0.2, 0.5])*8, dim=-1) # gets too peaky, converges to one-hot"
      ],
      "id": "cell-35"
    },
    {
      "cell_type": "code",
      "execution_count": 42,
      "metadata": {
        "outputId": "e1cfc83c-360d-425d-c8ab-c96f456b6195"
      },
      "outputs": [
        {
          "output_type": "display_data",
          "metadata": {},
          "data": {
            "text/plain": [
              "torch.Size([32, 100])"
            ]
          }
        }
      ],
      "source": [
        "class LayerNorm1d: # (used to be BatchNorm1d)\n",
        "\n",
        "  def __init__(self, dim, eps=1e-5, momentum=0.1):\n",
        "    self.eps = eps\n",
        "    self.gamma = torch.ones(dim)\n",
        "    self.beta = torch.zeros(dim)\n",
        "\n",
        "  def __call__(self, x):\n",
        "    # calculate the forward pass\n",
        "    xmean = x.mean(1, keepdim=True) # batch mean\n",
        "    xvar = x.var(1, keepdim=True) # batch variance\n",
        "    xhat = (x - xmean) / torch.sqrt(xvar + self.eps) # normalize to unit variance\n",
        "    self.out = self.gamma * xhat + self.beta\n",
        "    return self.out\n",
        "\n",
        "  def parameters(self):\n",
        "    return [self.gamma, self.beta]\n",
        "\n",
        "torch.manual_seed(1337)\n",
        "module = LayerNorm1d(100)\n",
        "x = torch.randn(32, 100) # batch size 32 of 100-dimensional vectors\n",
        "x = module(x)\n",
        "x.shape"
      ],
      "id": "cell-36"
    },
    {
      "cell_type": "code",
      "execution_count": 43,
      "metadata": {
        "outputId": "ebd248cc-632e-4b09-f561-2dbc9b79e1c5"
      },
      "outputs": [
        {
          "output_type": "display_data",
          "metadata": {},
          "data": {
            "text/plain": [
              "(tensor(0.1469), tensor(0.8803))"
            ]
          }
        }
      ],
      "source": [
        "x[:,0].mean(), x[:,0].std() # mean,std of one feature across all batch inputs"
      ],
      "id": "cell-37"
    },
    {
      "cell_type": "code",
      "execution_count": 44,
      "metadata": {
        "outputId": "f1fc7896-8eac-4a37-ac48-0ecdb9cb712b"
      },
      "outputs": [
        {
          "output_type": "display_data",
          "metadata": {},
          "data": {
            "text/plain": [
              "(tensor(-9.5367e-09), tensor(1.0000))"
            ]
          }
        }
      ],
      "source": [
        "x[0,:].mean(), x[0,:].std() # mean,std of a single input from the batch, of its features"
      ],
      "id": "cell-38"
    },
    {
      "cell_type": "markdown",
      "metadata": {},
      "source": [
        "### Output of wolfgang-GPT\n",
        "\n",
        "We can train the model and take a look at it’s output."
      ],
      "id": "2f8485da-3f9d-4335-a50b-c4a28dab4d83"
    },
    {
      "cell_type": "code",
      "execution_count": 45,
      "metadata": {
        "outputId": "9afbff96-b00f-459a-8c28-de67298b36bb"
      },
      "outputs": [
        {
          "output_type": "stream",
          "name": "stdout",
          "text": [
            "0.216163 M parameters\n",
            "step 0: train loss 4.8271, val loss 4.8334\n",
            "step 100: train loss 3.0829, val loss 3.1061\n",
            "step 200: train loss 2.8736, val loss 2.9270\n",
            "step 300: train loss 2.7634, val loss 2.8190\n",
            "step 400: train loss 2.6443, val loss 2.7482\n",
            "step 500: train loss 2.5412, val loss 2.6754\n",
            "step 600: train loss 2.4129, val loss 2.5889\n",
            "step 700: train loss 2.2853, val loss 2.5031\n",
            "step 800: train loss 2.1972, val loss 2.4321\n",
            "step 900: train loss 2.1018, val loss 2.3783\n",
            "step 1000: train loss 2.0110, val loss 2.3254\n",
            "step 1100: train loss 1.9628, val loss 2.2730\n",
            "step 1200: train loss 1.9165, val loss 2.2424\n",
            "step 1300: train loss 1.8705, val loss 2.2132\n",
            "step 1400: train loss 1.8289, val loss 2.1685\n",
            "step 1500: train loss 1.7821, val loss 2.1482\n",
            "step 1600: train loss 1.7548, val loss 2.1220\n",
            "step 1700: train loss 1.7397, val loss 2.1116\n",
            "step 1800: train loss 1.7028, val loss 2.0718\n",
            "step 1900: train loss 1.6819, val loss 2.0624\n",
            "step 2000: train loss 1.6528, val loss 2.0338\n",
            "step 2100: train loss 1.6457, val loss 2.0340\n",
            "step 2200: train loss 1.6332, val loss 2.0217\n",
            "step 2300: train loss 1.6139, val loss 2.0074\n",
            "step 2400: train loss 1.5900, val loss 2.0060\n",
            "step 2500: train loss 1.5812, val loss 1.9844\n",
            "step 2600: train loss 1.5582, val loss 1.9894\n",
            "step 2700: train loss 1.5602, val loss 1.9646\n",
            "step 2800: train loss 1.5339, val loss 1.9552\n",
            "step 2900: train loss 1.5371, val loss 1.9606\n",
            "step 3000: train loss 1.5207, val loss 1.9484\n",
            "step 3100: train loss 1.5069, val loss 1.9419\n",
            "step 3200: train loss 1.5063, val loss 1.9331\n",
            "step 3300: train loss 1.4954, val loss 1.9216\n",
            "step 3400: train loss 1.4831, val loss 1.9340\n",
            "step 3500: train loss 1.4764, val loss 1.9227\n",
            "step 3600: train loss 1.4586, val loss 1.9143\n",
            "step 3700: train loss 1.4632, val loss 1.8919\n",
            "step 3800: train loss 1.4521, val loss 1.9127\n",
            "step 3900: train loss 1.4434, val loss 1.8909\n",
            "step 4000: train loss 1.4355, val loss 1.8856\n",
            "step 4100: train loss 1.4277, val loss 1.8673\n",
            "step 4200: train loss 1.4235, val loss 1.8965\n",
            "step 4300: train loss 1.4221, val loss 1.8726\n",
            "step 4400: train loss 1.4249, val loss 1.8771\n",
            "step 4500: train loss 1.4029, val loss 1.8744\n",
            "step 4600: train loss 1.4124, val loss 1.8709\n",
            "step 4700: train loss 1.3969, val loss 1.8486\n",
            "step 4800: train loss 1.4056, val loss 1.8457\n",
            "step 4900: train loss 1.3909, val loss 1.8585\n",
            "step 5000: train loss 1.3914, val loss 1.8445\n",
            "step 5100: train loss 1.3928, val loss 1.8413\n",
            "step 5200: train loss 1.3803, val loss 1.8388\n",
            "step 5300: train loss 1.3799, val loss 1.8704\n",
            "step 5400: train loss 1.3802, val loss 1.8549\n",
            "step 5500: train loss 1.3716, val loss 1.8478\n",
            "step 5600: train loss 1.3795, val loss 1.8505\n",
            "step 5700: train loss 1.3680, val loss 1.8476\n",
            "step 5800: train loss 1.3554, val loss 1.8403\n",
            "step 5900: train loss 1.3514, val loss 1.8214\n",
            "step 6000: train loss 1.3598, val loss 1.8366\n",
            "step 6100: train loss 1.3657, val loss 1.8369\n",
            "step 6200: train loss 1.3599, val loss 1.8375\n",
            "step 6300: train loss 1.3558, val loss 1.8100\n",
            "step 6400: train loss 1.3452, val loss 1.7913\n",
            "step 6500: train loss 1.3359, val loss 1.8332\n",
            "step 6600: train loss 1.3323, val loss 1.8241\n",
            "step 6700: train loss 1.3402, val loss 1.8393\n",
            "step 6800: train loss 1.3321, val loss 1.8248\n",
            "step 6900: train loss 1.3251, val loss 1.8137\n",
            "step 7000: train loss 1.3207, val loss 1.8105\n",
            "step 7100: train loss 1.3095, val loss 1.7979\n",
            "step 7200: train loss 1.3389, val loss 1.8208\n",
            "step 7300: train loss 1.3211, val loss 1.7852\n",
            "step 7400: train loss 1.3193, val loss 1.8113\n",
            "step 7500: train loss 1.3185, val loss 1.8143\n",
            "step 7600: train loss 1.3173, val loss 1.8183\n",
            "step 7700: train loss 1.3191, val loss 1.8131\n",
            "step 7800: train loss 1.3206, val loss 1.7923\n",
            "step 7900: train loss 1.3022, val loss 1.7816\n",
            "step 8000: train loss 1.3022, val loss 1.7949\n",
            "step 8100: train loss 1.2953, val loss 1.8006\n",
            "step 8200: train loss 1.2989, val loss 1.8067\n",
            "step 8300: train loss 1.2898, val loss 1.8000\n",
            "step 8400: train loss 1.2928, val loss 1.8070\n",
            "step 8500: train loss 1.2860, val loss 1.8001\n",
            "step 8600: train loss 1.2986, val loss 1.8043\n",
            "step 8700: train loss 1.2869, val loss 1.8100\n",
            "step 8800: train loss 1.2833, val loss 1.7854\n",
            "step 8900: train loss 1.2935, val loss 1.8020\n",
            "step 9000: train loss 1.2798, val loss 1.8097\n",
            "step 9100: train loss 1.2862, val loss 1.7941\n",
            "step 9200: train loss 1.2801, val loss 1.7839\n",
            "step 9300: train loss 1.2780, val loss 1.8103\n",
            "step 9400: train loss 1.2906, val loss 1.8046\n",
            "step 9500: train loss 1.2822, val loss 1.8033\n",
            "step 9600: train loss 1.2734, val loss 1.7810\n",
            "step 9700: train loss 1.2714, val loss 1.8044\n",
            "step 9800: train loss 1.2748, val loss 1.7960\n",
            "step 9900: train loss 1.2643, val loss 1.8026\n",
            "step 9999: train loss 1.2674, val loss 1.7782\n",
            "    \\; \\bigcup_{i'\\in U'}_{\\lambda} (v_y\\times W_{x',0,k}).\n",
            "            \\item\n",
            "    Assume that $w=\\Theta)\n",
            "\\rightarrow (a,v)=\\{0,1\\}$. \n",
            "    \n",
            " To bumpple, that  this properts closed to  a parameter a correspond $Z$\\bm{W}$, where  there $\\Phi_x$.\n",
            "\\qed\n",
            "\\end{$(I-s_a,o}, D_j$.\n",
            "\n",
            "\\sum_{A}\n",
            "\n",
            "  \\ssc^\\infty\\in W\\setminus \\oplus W\\Q^+=\\wh{e}^2&@<\\arrow{\\Gamma^\\ast}|_{x_{a_1\\wh{\\neq_x^*}_2 (a,v,\\tau(g'),l(o_i)\\to \\abs{\\tau (0)} \\leq \\a@ \\mathscr{C}^{-1}^{\\iota}\\phi^{\\tau_0}} \\times{WZ+HWZ8}(\\sigma)\\rightarrow \\mu (\\tau)\\circ T (-\\bf deffer to $t_X\\rightarrow {\\mathscr{S}$}_t {t_x}(y_{x_p})$.   If those proved that $E\\leq m$ local brive isomorphism, such. $X\\subset W$ with $f>P_a(a,o_a)$\n",
            "where are istension.  Apparacompact maps  reall $\\zi$ and $\\lambda)'\\to (\\Gamma_a)\\circ\\frac{1}(F, \\alpha^+,\\alpha^+,-)$, defined to the image filted in $C_x$ has a tangent of $I$\\xi$ holows fromov-wing-fiber-compactness prove that $k=\\sigma$.\n",
            "\\qed\n",
            "\\end{definition}\n",
            "\n",
            "Here tangent $f'_k$ conclude type,  the map $(U, \\phi^{-1}): \\pi\n",
            "\\cU| \\mathscr{C}^{-1}(\\cF)\\to O^\\pm\\in \\cP(\\cW^{}_a; \\rightarrow \\abs{ b}_X :\\Tti-(\\rT_x \\bigl|)  \\cdot, t_H^* \\cap (p_-, A_+)$ and we such use that with are isots that solutions hysuality for the sensions of $\\tau$ of a zero defined only\n",
            "of next the point solution provese $\\abs{\\beta(a)}$ also linear operators,\n",
            "which, ands and the map \\rho$ are $ is b.\n",
            "Hance we have this sc-smoothly of $X'_{{0,1}}\\oplus W$ of ep-groupoidal $z\\in \\w-hat{s}_{\\iota}'(\\Sigma)$) is sc-smooth, which nece orbifold with the equest closed on $\\delbar_x=\\ast\\ov\\circ s^{t,y$.\n",
            "\n",
            "\\item[(\\beta) \\begin{le}\\ \\\\ over(y)| \\alpha \\in F^\\ast_{x,y} +h}^+\\ast$ to equ\n",
            "see. the morphism\n",
            "$$\n",
            "w_{\\ast\\colon X} =(\\tau (\\bigl( \\phi & \\wh{V}_\\ast) (\\big )\\circ d_{m+i}(TD,x',\\tau,g)\n",
            "    (\\phi, \\psi \\exp_p \\bm{M}(\\phi, \\beta, {\\phi})\\rightarrow [0,1] \\to \\sum_{X_x'$-acts of a stable.   \n",
            "  In bhoose a finite-section be cholowse which  associated for whoosen \\ref{rm-stratned(3)-suborbifold}}} we have metrizable\n",
            " many, and the indices recalized t"
          ]
        }
      ],
      "source": [
        "import torch\n",
        "import torch.nn as nn\n",
        "from torch.nn import functional as F\n",
        "\n",
        "# hyperparameters\n",
        "batch_size = 16 # how many independent sequences will we process in parallel?\n",
        "block_size = 64 # what is the maximum context length for predictions?\n",
        "max_iters = 10000\n",
        "eval_interval = 100\n",
        "learning_rate = 1e-3\n",
        "device = 'cuda' if torch.cuda.is_available() else 'cpu'\n",
        "eval_iters = 200\n",
        "n_embd = 64\n",
        "n_head = 4\n",
        "n_layer = 4\n",
        "dropout = 0.0\n",
        "# ------------\n",
        "\n",
        "torch.manual_seed(1337)\n",
        "\n",
        "with open('WOLFGANG_TRAINING.tex', 'r', encoding='utf-8') as f:\n",
        "    text = f.read()\n",
        "\n",
        "# here are all the unique characters that occur in this text\n",
        "chars = sorted(list(set(text)))\n",
        "vocab_size = len(chars)\n",
        "# create a mapping from characters to integers\n",
        "stoi = { ch:i for i,ch in enumerate(chars) }\n",
        "itos = { i:ch for i,ch in enumerate(chars) }\n",
        "encode = lambda s: [stoi[c] for c in s] # encoder: take a string, output a list of integers\n",
        "decode = lambda l: ''.join([itos[i] for i in l]) # decoder: take a list of integers, output a string\n",
        "\n",
        "# Train and test splits\n",
        "data = torch.tensor(encode(text), dtype=torch.long)\n",
        "n = int(0.9*len(data)) # first 90% will be train, rest val\n",
        "train_data = data[:n]\n",
        "val_data = data[n:]\n",
        "\n",
        "# data loading\n",
        "def get_batch(split):\n",
        "    # generate a small batch of data of inputs x and targets y\n",
        "    data = train_data if split == 'train' else val_data\n",
        "    ix = torch.randint(len(data) - block_size, (batch_size,))\n",
        "    x = torch.stack([data[i:i+block_size] for i in ix])\n",
        "    y = torch.stack([data[i+1:i+block_size+1] for i in ix])\n",
        "    x, y = x.to(device), y.to(device)\n",
        "    return x, y\n",
        "\n",
        "@torch.no_grad()\n",
        "def estimate_loss():\n",
        "    out = {}\n",
        "    model.eval()\n",
        "    for split in ['train', 'val']:\n",
        "        losses = torch.zeros(eval_iters)\n",
        "        for k in range(eval_iters):\n",
        "            X, Y = get_batch(split)\n",
        "            logits, loss = model(X, Y)\n",
        "            losses[k] = loss.item()\n",
        "        out[split] = losses.mean()\n",
        "    model.train()\n",
        "    return out\n",
        "\n",
        "class Head(nn.Module):\n",
        "    \"\"\" one head of self-attention \"\"\"\n",
        "\n",
        "    def __init__(self, head_size):\n",
        "        super().__init__()\n",
        "        self.key = nn.Linear(n_embd, head_size, bias=False)\n",
        "        self.query = nn.Linear(n_embd, head_size, bias=False)\n",
        "        self.value = nn.Linear(n_embd, head_size, bias=False)\n",
        "        self.register_buffer('tril', torch.tril(torch.ones(block_size, block_size)))\n",
        "\n",
        "        self.dropout = nn.Dropout(dropout)\n",
        "\n",
        "    def forward(self, x):\n",
        "        B,T,C = x.shape\n",
        "        k = self.key(x)   # (B,T,C)\n",
        "        q = self.query(x) # (B,T,C)\n",
        "        # compute attention scores (\"affinities\")\n",
        "        wei = q @ k.transpose(-2,-1) * C**-0.5 # (B, T, C) @ (B, C, T) -> (B, T, T)\n",
        "        wei = wei.masked_fill(self.tril[:T, :T] == 0, float('-inf')) # (B, T, T)\n",
        "        wei = F.softmax(wei, dim=-1) # (B, T, T)\n",
        "        wei = self.dropout(wei)\n",
        "        # perform the weighted aggregation of the values\n",
        "        v = self.value(x) # (B,T,C)\n",
        "        out = wei @ v # (B, T, T) @ (B, T, C) -> (B, T, C)\n",
        "        return out\n",
        "\n",
        "class MultiHeadAttention(nn.Module):\n",
        "    \"\"\" multiple heads of self-attention in parallel \"\"\"\n",
        "\n",
        "    def __init__(self, num_heads, head_size):\n",
        "        super().__init__()\n",
        "        self.heads = nn.ModuleList([Head(head_size) for _ in range(num_heads)])\n",
        "        self.proj = nn.Linear(n_embd, n_embd)\n",
        "        self.dropout = nn.Dropout(dropout)\n",
        "\n",
        "    def forward(self, x):\n",
        "        out = torch.cat([h(x) for h in self.heads], dim=-1)\n",
        "        out = self.dropout(self.proj(out))\n",
        "        return out\n",
        "\n",
        "class FeedFoward(nn.Module):\n",
        "    \"\"\" a simple linear layer followed by a non-linearity \"\"\"\n",
        "\n",
        "    def __init__(self, n_embd):\n",
        "        super().__init__()\n",
        "        self.net = nn.Sequential(\n",
        "            nn.Linear(n_embd, 4 * n_embd),\n",
        "            nn.ReLU(),\n",
        "            nn.Linear(4 * n_embd, n_embd),\n",
        "            nn.Dropout(dropout),\n",
        "        )\n",
        "\n",
        "    def forward(self, x):\n",
        "        return self.net(x)\n",
        "\n",
        "class Block(nn.Module):\n",
        "    \"\"\" Transformer block: communication followed by computation \"\"\"\n",
        "\n",
        "    def __init__(self, n_embd, n_head):\n",
        "        # n_embd: embedding dimension, n_head: the number of heads we'd like\n",
        "        super().__init__()\n",
        "        head_size = n_embd // n_head\n",
        "        self.sa = MultiHeadAttention(n_head, head_size)\n",
        "        self.ffwd = FeedFoward(n_embd)\n",
        "        self.ln1 = nn.LayerNorm(n_embd)\n",
        "        self.ln2 = nn.LayerNorm(n_embd)\n",
        "\n",
        "    def forward(self, x):\n",
        "        x = x + self.sa(self.ln1(x))\n",
        "        x = x + self.ffwd(self.ln2(x))\n",
        "        return x\n",
        "\n",
        "# super simple bigram model\n",
        "class wolfgang_LLM(nn.Module):\n",
        "\n",
        "    def __init__(self):\n",
        "        super().__init__()\n",
        "        # each token directly reads off the logits for the next token from a lookup table\n",
        "        self.token_embedding_table = nn.Embedding(vocab_size, n_embd)\n",
        "        self.position_embedding_table = nn.Embedding(block_size, n_embd)\n",
        "        self.blocks = nn.Sequential(*[Block(n_embd, n_head=n_head) for _ in range(n_layer)])\n",
        "        self.ln_f = nn.LayerNorm(n_embd) # final layer norm\n",
        "        self.lm_head = nn.Linear(n_embd, vocab_size)\n",
        "\n",
        "    def forward(self, idx, targets=None):\n",
        "        B, T = idx.shape\n",
        "\n",
        "        # idx and targets are both (B,T) tensor of integers\n",
        "        tok_emb = self.token_embedding_table(idx) # (B,T,C)\n",
        "        pos_emb = self.position_embedding_table(torch.arange(T, device=device)) # (T,C)\n",
        "        x = tok_emb + pos_emb # (B,T,C)\n",
        "        x = self.blocks(x) # (B,T,C)\n",
        "        x = self.ln_f(x) # (B,T,C)\n",
        "        logits = self.lm_head(x) # (B,T,vocab_size)\n",
        "\n",
        "        if targets is None:\n",
        "            loss = None\n",
        "        else:\n",
        "            B, T, C = logits.shape\n",
        "            logits = logits.view(B*T, C)\n",
        "            targets = targets.view(B*T)\n",
        "            loss = F.cross_entropy(logits, targets)\n",
        "\n",
        "        return logits, loss\n",
        "\n",
        "    def generate(self, idx, max_new_tokens):\n",
        "        # idx is (B, T) array of indices in the current context\n",
        "        for _ in range(max_new_tokens):\n",
        "            # crop idx to the last block_size tokens\n",
        "            idx_cond = idx[:, -block_size:]\n",
        "            # get the predictions\n",
        "            logits, loss = self(idx_cond)\n",
        "            # focus only on the last time step\n",
        "            logits = logits[:, -1, :] # becomes (B, C)\n",
        "            # apply softmax to get probabilities\n",
        "            probs = F.softmax(logits, dim=-1) # (B, C)\n",
        "            # sample from the distribution\n",
        "            idx_next = torch.multinomial(probs, num_samples=1) # (B, 1)\n",
        "            # append sampled index to the running sequence\n",
        "            idx = torch.cat((idx, idx_next), dim=1) # (B, T+1)\n",
        "        return idx\n",
        "\n",
        "model = wolfgang_LLM()\n",
        "m = model.to(device)\n",
        "# print the number of parameters in the model\n",
        "print(sum(p.numel() for p in m.parameters())/1e6, 'M parameters')\n",
        "\n",
        "# create a PyTorch optimizer\n",
        "optimizer = torch.optim.AdamW(model.parameters(), lr=learning_rate)\n",
        "\n",
        "for iter in range(max_iters):\n",
        "\n",
        "    # every once in a while evaluate the loss on train and val sets\n",
        "    if iter % eval_interval == 0 or iter == max_iters - 1:\n",
        "        losses = estimate_loss()\n",
        "        print(f\"step {iter}: train loss {losses['train']:.4f}, val loss {losses['val']:.4f}\")\n",
        "\n",
        "    # sample a batch of data\n",
        "    xb, yb = get_batch('train')\n",
        "\n",
        "    # evaluate the loss\n",
        "    logits, loss = model(xb, yb)\n",
        "    optimizer.zero_grad(set_to_none=True)\n",
        "    loss.backward()\n",
        "    optimizer.step()\n",
        "\n",
        "# generate from the model\n",
        "context = torch.zeros((1, 1), dtype=torch.long, device=device)\n",
        "print(decode(m.generate(context, max_new_tokens=2000)[0].tolist()))\n"
      ],
      "id": "cell-40"
    }
  ],
  "nbformat": 4,
  "nbformat_minor": 5,
  "metadata": {
    "colab": {
      "provenance": []
    },
    "kernelspec": {
      "name": "python3",
      "display_name": "Python 3",
      "language": "python"
    },
    "language_info": {
      "name": "python"
    }
  }
}