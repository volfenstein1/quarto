{
 "cells": [
  {
   "cell_type": "markdown",
   "id": "4b37cdaa",
   "metadata": {
    "papermill": {
     "duration": 0.015963,
     "end_time": "2023-04-25T13:35:31.327828",
     "exception": false,
     "start_time": "2023-04-25T13:35:31.311865",
     "status": "completed"
    },
    "tags": []
   },
   "source": [
    "# Comparing computer vision models\n",
    "\n",
    "As newcomers in the world of deep learning, we are told that we can generally treat pre-trained computer vision models as 'black boxes', without understanding the inner workings of the models. On this page, we will compare the performance of some of the state-of-the-art computer vision models. In doing so, we gain a better mental map of what performance looks like on the cutting edge, as well as demonstrating some of the visualization tools of data analysis.\n",
    "\n",
    "We use the state-of-the-art computer vision models from [PyTorch Image Models](https://timm.fast.ai/) (timm). Our benchmarks for these models were collected by Ross Wightman and come from his [GitHub](https://github.com/huggingface/pytorch-image-models/tree/main). Our analysis is based on Jeremey Howard's orignal [analysis](https://www.kaggle.com/code/jhoward/which-image-models-are-best/)."
   ]
  },
  {
   "cell_type": "markdown",
   "id": "d92afabf",
   "metadata": {
    "papermill": {
     "duration": 0.014337,
     "end_time": "2023-04-25T13:35:31.357222",
     "exception": false,
     "start_time": "2023-04-25T13:35:31.342885",
     "status": "completed"
    },
    "tags": []
   },
   "source": [
    "# Benchmarks\n",
    "\n",
    "We download the benchmarks---in this case, CSV files---from Ross Wightman's github."
   ]
  },
  {
   "cell_type": "code",
   "execution_count": 1,
   "id": "5514e0f1",
   "metadata": {
    "execution": {
     "iopub.execute_input": "2023-04-25T13:35:31.388794Z",
     "iopub.status.busy": "2023-04-25T13:35:31.388333Z",
     "iopub.status.idle": "2023-04-25T13:35:33.591639Z",
     "shell.execute_reply": "2023-04-25T13:35:33.590837Z"
    },
    "papermill": {
     "duration": 2.221899,
     "end_time": "2023-04-25T13:35:33.593935",
     "exception": false,
     "start_time": "2023-04-25T13:35:31.372036",
     "status": "completed"
    },
    "tags": []
   },
   "outputs": [
    {
     "name": "stdout",
     "output_type": "stream",
     "text": [
      "Cloning into 'pytorch-image-models'...\r\n",
      "remote: Enumerating objects: 555, done.\u001b[K\r\n",
      "remote: Counting objects: 100% (555/555), done.\u001b[K\r\n",
      "remote: Compressing objects: 100% (395/395), done.\u001b[K\r\n",
      "remote: Total 555 (delta 218), reused 323 (delta 154), pack-reused 0\u001b[K\r\n",
      "Receiving objects: 100% (555/555), 2.39 MiB | 12.89 MiB/s, done.\r\n",
      "Resolving deltas: 100% (218/218), done.\r\n",
      "/kaggle/working/pytorch-image-models/results\n"
     ]
    }
   ],
   "source": [
    "import pandas as pd\n",
    "# Clone Ross Wightman's repo\n",
    "! git clone --depth 1 https://github.com/rwightman/pytorch-image-models.git\n",
    "%cd pytorch-image-models/results\n",
    "df_results = pd.read_csv('results-imagenet.csv')\n",
    "# Merge CSV files together on 'model' column\n",
    "def get_data(part, col):\n",
    "    df = pd.read_csv(f'benchmark-{part}-amp-nhwc-pt111-cu113-rtx3090.csv').merge(df_results, on='model')\n",
    "    df['secs'] = 1. / df[col]\n",
    "    df['family'] = df.model.str.extract('^([a-z]+?(?:v2)?)(?:\\d|_|$)')\n",
    "    df = df[~df.model.str.endswith('gn')]\n",
    "    df.loc[df.model.str.contains('in22'),'family'] = df.loc[df.model.str.contains('in22'),'family'] + '_in22'\n",
    "    df.loc[df.model.str.contains('resnet.*d'),'family'] = df.loc[df.model.str.contains('resnet.*d'),'family'] + 'd'\n",
    "    return df[df.family.str.contains('^re[sg]netd?|beit|convnext|levit|efficient|vit|vgg|swin')]"
   ]
  },
  {
   "cell_type": "markdown",
   "id": "c18ab5b9",
   "metadata": {
    "papermill": {
     "duration": 0.028868,
     "end_time": "2023-04-25T13:35:33.652320",
     "exception": false,
     "start_time": "2023-04-25T13:35:33.623452",
     "status": "completed"
    },
    "tags": []
   },
   "source": [
    "We take a look at the first few rows of data for inference models."
   ]
  },
  {
   "cell_type": "code",
   "execution_count": 2,
   "id": "17e74f3e",
   "metadata": {
    "execution": {
     "iopub.execute_input": "2023-04-25T13:35:33.723902Z",
     "iopub.status.busy": "2023-04-25T13:35:33.723480Z",
     "iopub.status.idle": "2023-04-25T13:35:33.801312Z",
     "shell.execute_reply": "2023-04-25T13:35:33.800649Z"
    },
    "papermill": {
     "duration": 0.121832,
     "end_time": "2023-04-25T13:35:33.804567",
     "exception": false,
     "start_time": "2023-04-25T13:35:33.682735",
     "status": "completed"
    },
    "tags": []
   },
   "outputs": [
    {
     "data": {
      "text/html": [
       "<div>\n",
       "<style scoped>\n",
       "    .dataframe tbody tr th:only-of-type {\n",
       "        vertical-align: middle;\n",
       "    }\n",
       "\n",
       "    .dataframe tbody tr th {\n",
       "        vertical-align: top;\n",
       "    }\n",
       "\n",
       "    .dataframe thead th {\n",
       "        text-align: right;\n",
       "    }\n",
       "</style>\n",
       "<table border=\"1\" class=\"dataframe\">\n",
       "  <thead>\n",
       "    <tr style=\"text-align: right;\">\n",
       "      <th></th>\n",
       "      <th>model</th>\n",
       "      <th>infer_samples_per_sec</th>\n",
       "      <th>infer_step_time</th>\n",
       "      <th>infer_batch_size</th>\n",
       "      <th>infer_img_size</th>\n",
       "      <th>param_count_x</th>\n",
       "      <th>top1</th>\n",
       "      <th>top1_err</th>\n",
       "      <th>top5</th>\n",
       "      <th>top5_err</th>\n",
       "      <th>param_count_y</th>\n",
       "      <th>img_size</th>\n",
       "      <th>crop_pct</th>\n",
       "      <th>interpolation</th>\n",
       "      <th>secs</th>\n",
       "      <th>family</th>\n",
       "    </tr>\n",
       "  </thead>\n",
       "  <tbody>\n",
       "    <tr>\n",
       "      <th>0</th>\n",
       "      <td>levit_128s</td>\n",
       "      <td>21485.80</td>\n",
       "      <td>47.648</td>\n",
       "      <td>1024</td>\n",
       "      <td>224</td>\n",
       "      <td>7.78</td>\n",
       "      <td>76.530</td>\n",
       "      <td>23.470</td>\n",
       "      <td>92.866</td>\n",
       "      <td>7.134</td>\n",
       "      <td>7.78</td>\n",
       "      <td>224</td>\n",
       "      <td>0.900</td>\n",
       "      <td>bicubic</td>\n",
       "      <td>0.000047</td>\n",
       "      <td>levit</td>\n",
       "    </tr>\n",
       "    <tr>\n",
       "      <th>1</th>\n",
       "      <td>regnetx_002</td>\n",
       "      <td>17821.98</td>\n",
       "      <td>57.446</td>\n",
       "      <td>1024</td>\n",
       "      <td>224</td>\n",
       "      <td>2.68</td>\n",
       "      <td>68.762</td>\n",
       "      <td>31.238</td>\n",
       "      <td>88.556</td>\n",
       "      <td>11.444</td>\n",
       "      <td>2.68</td>\n",
       "      <td>224</td>\n",
       "      <td>0.875</td>\n",
       "      <td>bicubic</td>\n",
       "      <td>0.000056</td>\n",
       "      <td>regnetx</td>\n",
       "    </tr>\n",
       "    <tr>\n",
       "      <th>2</th>\n",
       "      <td>regnety_002</td>\n",
       "      <td>16673.08</td>\n",
       "      <td>61.405</td>\n",
       "      <td>1024</td>\n",
       "      <td>224</td>\n",
       "      <td>3.16</td>\n",
       "      <td>70.252</td>\n",
       "      <td>29.748</td>\n",
       "      <td>89.540</td>\n",
       "      <td>10.460</td>\n",
       "      <td>3.16</td>\n",
       "      <td>224</td>\n",
       "      <td>0.875</td>\n",
       "      <td>bicubic</td>\n",
       "      <td>0.000060</td>\n",
       "      <td>regnety</td>\n",
       "    </tr>\n",
       "    <tr>\n",
       "      <th>3</th>\n",
       "      <td>levit_128</td>\n",
       "      <td>14657.83</td>\n",
       "      <td>69.849</td>\n",
       "      <td>1024</td>\n",
       "      <td>224</td>\n",
       "      <td>9.21</td>\n",
       "      <td>78.486</td>\n",
       "      <td>21.514</td>\n",
       "      <td>94.010</td>\n",
       "      <td>5.990</td>\n",
       "      <td>9.21</td>\n",
       "      <td>224</td>\n",
       "      <td>0.900</td>\n",
       "      <td>bicubic</td>\n",
       "      <td>0.000068</td>\n",
       "      <td>levit</td>\n",
       "    </tr>\n",
       "    <tr>\n",
       "      <th>4</th>\n",
       "      <td>regnetx_004</td>\n",
       "      <td>14440.03</td>\n",
       "      <td>70.903</td>\n",
       "      <td>1024</td>\n",
       "      <td>224</td>\n",
       "      <td>5.16</td>\n",
       "      <td>72.396</td>\n",
       "      <td>27.604</td>\n",
       "      <td>90.830</td>\n",
       "      <td>9.170</td>\n",
       "      <td>5.16</td>\n",
       "      <td>224</td>\n",
       "      <td>0.875</td>\n",
       "      <td>bicubic</td>\n",
       "      <td>0.000069</td>\n",
       "      <td>regnetx</td>\n",
       "    </tr>\n",
       "  </tbody>\n",
       "</table>\n",
       "</div>"
      ],
      "text/plain": [
       "         model  infer_samples_per_sec  infer_step_time  infer_batch_size  \\\n",
       "0   levit_128s               21485.80           47.648              1024   \n",
       "1  regnetx_002               17821.98           57.446              1024   \n",
       "2  regnety_002               16673.08           61.405              1024   \n",
       "3    levit_128               14657.83           69.849              1024   \n",
       "4  regnetx_004               14440.03           70.903              1024   \n",
       "\n",
       "   infer_img_size  param_count_x    top1  top1_err    top5  top5_err  \\\n",
       "0             224           7.78  76.530    23.470  92.866     7.134   \n",
       "1             224           2.68  68.762    31.238  88.556    11.444   \n",
       "2             224           3.16  70.252    29.748  89.540    10.460   \n",
       "3             224           9.21  78.486    21.514  94.010     5.990   \n",
       "4             224           5.16  72.396    27.604  90.830     9.170   \n",
       "\n",
       "  param_count_y  img_size  crop_pct interpolation      secs   family  \n",
       "0          7.78       224     0.900       bicubic  0.000047    levit  \n",
       "1          2.68       224     0.875       bicubic  0.000056  regnetx  \n",
       "2          3.16       224     0.875       bicubic  0.000060  regnety  \n",
       "3          9.21       224     0.900       bicubic  0.000068    levit  \n",
       "4          5.16       224     0.875       bicubic  0.000069  regnetx  "
      ]
     },
     "execution_count": 2,
     "metadata": {},
     "output_type": "execute_result"
    }
   ],
   "source": [
    "df = get_data('infer', 'infer_samples_per_sec')\n",
    "df.head()"
   ]
  },
  {
   "cell_type": "markdown",
   "id": "81390180",
   "metadata": {
    "papermill": {
     "duration": 0.029828,
     "end_time": "2023-04-25T13:35:33.863574",
     "exception": false,
     "start_time": "2023-04-25T13:35:33.833746",
     "status": "completed"
    },
    "tags": []
   },
   "source": [
    "# Inference model performance\n",
    "\n",
    "We plot the benchmarks for the inference models. In our chart:\n",
    "- the x axis shows how many seconds it takes to process one image in a log scale\n",
    "- the y axis is the accuracy on Imagenet\n",
    "- the size of each bubble is proportional to the size of images used in testing\n",
    "- the color shows what \"family\" the architecture is from.\n",
    "\n",
    "The chart is interactive:\n",
    "- hover your mouse over a marker to see details about the model\n",
    "- double-click in the legend to display just one family\n",
    "- single-click in the legend to show or hide a family."
   ]
  },
  {
   "cell_type": "code",
   "execution_count": 3,
   "id": "1ac48a68",
   "metadata": {
    "execution": {
     "iopub.execute_input": "2023-04-25T13:35:33.932472Z",
     "iopub.status.busy": "2023-04-25T13:35:33.932165Z",
     "iopub.status.idle": "2023-04-25T13:35:37.335406Z",
     "shell.execute_reply": "2023-04-25T13:35:37.334544Z"
    },
    "papermill": {
     "duration": 3.438062,
     "end_time": "2023-04-25T13:35:37.337688",
     "exception": false,
     "start_time": "2023-04-25T13:35:33.899626",
     "status": "completed"
    },
    "tags": []
   },
   "outputs": [],
   "source": [
    "import plotly.express as px\n",
    "w,h = 1000,800\n",
    "\n",
    "def show_all(df, title, size):\n",
    "    return px.scatter(df, width=w, height=h, size=df[size]**2, title=title,\n",
    "        x='secs',  y='top1', log_x=True, color='family', hover_name='model', hover_data=[size])"
   ]
  },
  {
   "cell_type": "code",
   "execution_count": 4,
   "id": "e2fbdcdc",
   "metadata": {
    "execution": {
     "iopub.execute_input": "2023-04-25T13:35:37.376146Z",
     "iopub.status.busy": "2023-04-25T13:35:37.375907Z",
     "iopub.status.idle": "2023-04-25T13:35:38.826695Z",
     "shell.execute_reply": "2023-04-25T13:35:38.825996Z"
    },
    "papermill": {
     "duration": 1.471906,
     "end_time": "2023-04-25T13:35:38.828439",
     "exception": false,
     "start_time": "2023-04-25T13:35:37.356533",
     "status": "completed"
    },
    "tags": []
   },
   "outputs": [
    {
     "data": {
      "text/html": [
       "        <script type=\"text/javascript\">\n",
       "        window.PlotlyConfig = {MathJaxConfig: 'local'};\n",
       "        if (window.MathJax) {MathJax.Hub.Config({SVG: {font: \"STIX-Web\"}});}\n",
       "        if (typeof require !== 'undefined') {\n",
       "        require.undef(\"plotly\");\n",
       "        requirejs.config({\n",
       "            paths: {\n",
       "                'plotly': ['https://cdn.plot.ly/plotly-2.11.1.min']\n",
       "            }\n",
       "        });\n",
       "        require(['plotly'], function(Plotly) {\n",
       "            window._Plotly = Plotly;\n",
       "        });\n",
       "        }\n",
       "        </script>\n",
       "        "
      ]
     },
     "metadata": {},
     "output_type": "display_data"
    },
    {
     "data": {
      "text/html": [
       "<div>                            <div id=\"d50a976c-9ddf-413c-91e0-16932de0c600\" class=\"plotly-graph-div\" style=\"height:800px; width:1000px;\"></div>            <script type=\"text/javascript\">                require([\"plotly\"], function(Plotly) {                    window.PLOTLYENV=window.PLOTLYENV || {};                                    if (document.getElementById(\"d50a976c-9ddf-413c-91e0-16932de0c600\")) {                    Plotly.newPlot(                        \"d50a976c-9ddf-413c-91e0-16932de0c600\",                        [{\"customdata\":[[224],[224],[224],[224],[224]],\"hovertemplate\":\"<b>%{hovertext}</b><br><br>family=levit<br>secs=%{x}<br>top1=%{y}<br>size=%{marker.size}<br>infer_img_size=%{customdata[0]}<extra></extra>\",\"hovertext\":[\"levit_128s\",\"levit_128\",\"levit_192\",\"levit_256\",\"levit_384\"],\"legendgroup\":\"levit\",\"marker\":{\"color\":\"#636efa\",\"size\":[50176,50176,50176,50176,50176],\"sizemode\":\"area\",\"sizeref\":576.0,\"symbol\":\"circle\"},\"mode\":\"markers\",\"name\":\"levit\",\"orientation\":\"v\",\"showlegend\":true,\"x\":[0.00004654236751715086,0.00006822292249261998,0.00007756230968148262,0.00010599687945186893,0.00017720128293728847],\"xaxis\":\"x\",\"y\":[76.53,78.486,79.842,81.51,82.586],\"yaxis\":\"y\",\"type\":\"scatter\"},{\"customdata\":[[224],[224],[224],[224],[224],[224],[224],[224],[224],[224],[224],[224]],\"hovertemplate\":\"<b>%{hovertext}</b><br><br>family=regnetx<br>secs=%{x}<br>top1=%{y}<br>size=%{marker.size}<br>infer_img_size=%{customdata[0]}<extra></extra>\",\"hovertext\":[\"regnetx_002\",\"regnetx_004\",\"regnetx_008\",\"regnetx_006\",\"regnetx_016\",\"regnetx_032\",\"regnetx_040\",\"regnetx_080\",\"regnetx_064\",\"regnetx_120\",\"regnetx_160\",\"regnetx_320\"],\"legendgroup\":\"regnetx\",\"marker\":{\"color\":\"#EF553B\",\"size\":[50176,50176,50176,50176,50176,50176,50176,50176,50176,50176,50176,50176],\"sizemode\":\"area\",\"sizeref\":576.0,\"symbol\":\"circle\"},\"mode\":\"markers\",\"name\":\"regnetx\",\"orientation\":\"v\",\"showlegend\":true,\"x\":[0.00005611048828469115,0.00006925193368711838,0.00011822399190402103,0.0001259786970023369,0.00026479614668647344,0.0006228278877415016,0.0006304057291272663,0.0007938902208602596,0.0008572212316554657,0.0012854296548621376,0.001604157977477622,0.0038134462113411888],\"xaxis\":\"x\",\"y\":[68.762,72.396,75.038,73.852,76.95,78.172,78.482,79.194,79.072,79.596,79.856,80.246],\"yaxis\":\"y\",\"type\":\"scatter\"},{\"customdata\":[[224],[224],[224],[224],[224],[288],[288],[224],[288],[288],[224],[288]],\"hovertemplate\":\"<b>%{hovertext}</b><br><br>family=regnety<br>secs=%{x}<br>top1=%{y}<br>size=%{marker.size}<br>infer_img_size=%{customdata[0]}<extra></extra>\",\"hovertext\":[\"regnety_002\",\"regnety_006\",\"regnety_004\",\"regnety_008\",\"regnety_016\",\"regnety_032\",\"regnety_040\",\"regnety_120\",\"regnety_080\",\"regnety_064\",\"regnety_320\",\"regnety_160\"],\"legendgroup\":\"regnety\",\"marker\":{\"color\":\"#00cc96\",\"size\":[50176,50176,50176,50176,50176,82944,82944,50176,82944,82944,50176,82944],\"sizemode\":\"area\",\"sizeref\":576.0,\"symbol\":\"circle\"},\"mode\":\"markers\",\"name\":\"regnety\",\"orientation\":\"v\",\"showlegend\":true,\"x\":[0.000059976920880845045,0.00010017450398594352,0.00010468376082691796,0.00012704688411164372,0.00029335406368716726,0.0007311277645768598,0.0011773986554107355,0.0013256445946841651,0.0018643499011894553,0.0021192726656211586,0.002407666008571291,0.0024128362890577875],\"xaxis\":\"x\",\"y\":[70.252,75.246,74.034,76.316,77.862,82.724,83.038,80.366,83.932,83.716,80.81,83.686],\"yaxis\":\"y\",\"type\":\"scatter\"},{\"customdata\":[[224],[224],[224],[256],[224],[256],[256],[224],[288],[288],[224]],\"hovertemplate\":\"<b>%{hovertext}</b><br><br>family=resnet<br>secs=%{x}<br>top1=%{y}<br>size=%{marker.size}<br>infer_img_size=%{customdata[0]}<extra></extra>\",\"hovertext\":[\"resnet18\",\"resnet34\",\"resnet26\",\"resnet26t\",\"resnet50\",\"resnet32ts\",\"resnet33ts\",\"resnet101\",\"resnet51q\",\"resnet61q\",\"resnet152\"],\"legendgroup\":\"resnet\",\"marker\":{\"color\":\"#ab63fa\",\"size\":[50176,50176,50176,65536,50176,65536,65536,50176,82944,82944,50176],\"sizemode\":\"area\",\"sizeref\":576.0,\"symbol\":\"circle\"},\"mode\":\"markers\",\"name\":\"resnet\",\"orientation\":\"v\",\"showlegend\":true,\"x\":[0.00009236979323021786,0.00015969338869370808,0.00017561482751111642,0.0002638710409448694,0.00028338807446305045,0.00029286350217890445,0.00029674294938752255,0.00046063207933926936,0.000534896657965681,0.0005959830740806961,0.0006634335339114052],\"xaxis\":\"x\",\"y\":[69.748,75.11,75.292,77.882,80.374,79.004,79.214,81.938,82.36,82.524,82.822],\"yaxis\":\"y\",\"type\":\"scatter\"},{\"customdata\":[[224],[224],[224],[224],[320],[320],[320]],\"hovertemplate\":\"<b>%{hovertext}</b><br><br>family=resnetd<br>secs=%{x}<br>top1=%{y}<br>size=%{marker.size}<br>infer_img_size=%{customdata[0]}<extra></extra>\",\"hovertext\":[\"resnet18d\",\"resnet34d\",\"resnet26d\",\"resnet50d\",\"resnet101d\",\"resnet152d\",\"resnet200d\"],\"legendgroup\":\"resnetd\",\"marker\":{\"color\":\"#FFA15A\",\"size\":[50176,50176,50176,50176,102400,102400,102400],\"sizemode\":\"area\",\"sizeref\":576.0,\"symbol\":\"circle\"},\"mode\":\"markers\",\"name\":\"resnetd\",\"orientation\":\"v\",\"showlegend\":true,\"x\":[0.00011218547400045547,0.00017947263760167124,0.0002044542400742578,0.00031235065734195835,0.0010008807750820723,0.0014054023666975855,0.0019066503965832825],\"xaxis\":\"x\",\"y\":[72.26,77.116,76.696,80.53,83.022,83.68,83.962],\"yaxis\":\"y\",\"type\":\"scatter\"},{\"customdata\":[[256],[256],[256]],\"hovertemplate\":\"<b>%{hovertext}</b><br><br>family=mobilevit<br>secs=%{x}<br>top1=%{y}<br>size=%{marker.size}<br>infer_img_size=%{customdata[0]}<extra></extra>\",\"hovertext\":[\"mobilevit_xxs\",\"mobilevit_xs\",\"mobilevit_s\"],\"legendgroup\":\"mobilevit\",\"marker\":{\"color\":\"#19d3f3\",\"size\":[65536,65536,65536],\"sizemode\":\"area\",\"sizeref\":576.0,\"symbol\":\"circle\"},\"mode\":\"markers\",\"name\":\"mobilevit\",\"orientation\":\"v\",\"showlegend\":true,\"x\":[0.00019510063290645313,0.00032276493352656195,0.0004140683875348853],\"xaxis\":\"x\",\"y\":[68.912,74.644,78.312],\"yaxis\":\"y\",\"type\":\"scatter\"},{\"customdata\":[[224],[224],[224],[224],[224],[224],[224],[224]],\"hovertemplate\":\"<b>%{hovertext}</b><br><br>family=repvgg<br>secs=%{x}<br>top1=%{y}<br>size=%{marker.size}<br>infer_img_size=%{customdata[0]}<extra></extra>\",\"hovertext\":[\"repvgg_b0\",\"repvgg_a2\",\"repvgg_b1\",\"repvgg_b1g4\",\"repvgg_b2\",\"repvgg_b3\",\"repvgg_b2g4\",\"repvgg_b3g4\"],\"legendgroup\":\"repvgg\",\"marker\":{\"color\":\"#FF6692\",\"size\":[50176,50176,50176,50176,50176,50176,50176,50176],\"sizemode\":\"area\",\"sizeref\":576.0,\"symbol\":\"circle\"},\"mode\":\"markers\",\"name\":\"repvgg\",\"orientation\":\"v\",\"showlegend\":true,\"x\":[0.00019805588344807372,0.00025848743492578826,0.0005164995790528431,0.0006192755714365336,0.0008039813154742284,0.0009981932701809725,0.0012302090125112257,0.0015526503741887404],\"xaxis\":\"x\",\"y\":[75.152,76.46,78.366,77.594,78.792,80.492,79.366,80.212],\"yaxis\":\"y\",\"type\":\"scatter\"},{\"customdata\":[[240],[240],[240],[240],[240],[240],[240],[240],[240],[408],[408]],\"hovertemplate\":\"<b>%{hovertext}</b><br><br>family=crossvit<br>secs=%{x}<br>top1=%{y}<br>size=%{marker.size}<br>infer_img_size=%{customdata[0]}<extra></extra>\",\"hovertext\":[\"crossvit_tiny_240\",\"crossvit_9_240\",\"crossvit_9_dagger_240\",\"crossvit_small_240\",\"crossvit_15_240\",\"crossvit_15_dagger_240\",\"crossvit_18_240\",\"crossvit_18_dagger_240\",\"crossvit_base_240\",\"crossvit_15_dagger_408\",\"crossvit_18_dagger_408\"],\"legendgroup\":\"crossvit\",\"marker\":{\"color\":\"#B6E880\",\"size\":[57600,57600,57600,57600,57600,57600,57600,57600,57600,166464,166464],\"sizemode\":\"area\",\"sizeref\":576.0,\"symbol\":\"circle\"},\"mode\":\"markers\",\"name\":\"crossvit\",\"orientation\":\"v\",\"showlegend\":true,\"x\":[0.00025943432938820195,0.0002746551018558445,0.0002807190900209978,0.0005422640609070993,0.0005881107530170082,0.0006054331571522846,0.0008294969101240098,0.0008531185749507324,0.0013383297644539614,0.002823662289990117,0.0038593647485623862],\"xaxis\":\"x\",\"y\":[73.324,73.964,76.98,81.02,81.536,82.332,82.4,82.518,82.216,83.838,84.196],\"yaxis\":\"y\",\"type\":\"scatter\"},{\"customdata\":[[224],[224],[224],[384],[448],[448],[448],[480]],\"hovertemplate\":\"<b>%{hovertext}</b><br><br>family=resnetv2<br>secs=%{x}<br>top1=%{y}<br>size=%{marker.size}<br>infer_img_size=%{customdata[0]}<extra></extra>\",\"hovertext\":[\"resnetv2_50\",\"resnetv2_101\",\"resnetv2_152x2_bit_teacher\",\"resnetv2_152x2_bit_teacher_384\",\"resnetv2_50x3_bitm\",\"resnetv2_152x2_bitm\",\"resnetv2_101x3_bitm\",\"resnetv2_152x4_bitm\"],\"legendgroup\":\"resnetv2\",\"marker\":{\"color\":\"#FF97FF\",\"size\":[50176,50176,50176,147456,200704,200704,200704,230400],\"sizemode\":\"area\",\"sizeref\":576.0,\"symbol\":\"circle\"},\"mode\":\"markers\",\"name\":\"resnetv2\",\"orientation\":\"v\",\"showlegend\":true,\"x\":[0.00027003891260730673,0.0004473172150030194,0.0035710459593614975,0.010310341272296113,0.01076194575979337,0.014216661927779357,0.017295053614666205,0.05461496450027308],\"xaxis\":\"x\",\"y\":[80.432,82.03,82.862,83.844,84.014,84.51,84.44,84.916],\"yaxis\":\"y\",\"type\":\"scatter\"},{\"customdata\":[[224],[224],[224]],\"hovertemplate\":\"<b>%{hovertext}</b><br><br>family=convit<br>secs=%{x}<br>top1=%{y}<br>size=%{marker.size}<br>infer_img_size=%{customdata[0]}<extra></extra>\",\"hovertext\":[\"convit_tiny\",\"convit_small\",\"convit_base\"],\"legendgroup\":\"convit\",\"marker\":{\"color\":\"#FECB52\",\"size\":[50176,50176,50176],\"sizemode\":\"area\",\"sizeref\":576.0,\"symbol\":\"circle\"},\"mode\":\"markers\",\"name\":\"convit\",\"orientation\":\"v\",\"showlegend\":true,\"x\":[0.0003142578800163414,0.0007307163943530237,0.0014544608313698112],\"xaxis\":\"x\",\"y\":[73.116,81.426,82.288],\"yaxis\":\"y\",\"type\":\"scatter\"},{\"customdata\":[[224],[288],[320],[320],[352],[384],[416]],\"hovertemplate\":\"<b>%{hovertext}</b><br><br>family=resnetrs<br>secs=%{x}<br>top1=%{y}<br>size=%{marker.size}<br>infer_img_size=%{customdata[0]}<extra></extra>\",\"hovertext\":[\"resnetrs50\",\"resnetrs101\",\"resnetrs152\",\"resnetrs200\",\"resnetrs270\",\"resnetrs350\",\"resnetrs420\"],\"legendgroup\":\"resnetrs\",\"marker\":{\"color\":\"#636efa\",\"size\":[50176,82944,102400,102400,123904,147456,173056],\"sizemode\":\"area\",\"sizeref\":576.0,\"symbol\":\"circle\"},\"mode\":\"markers\",\"name\":\"resnetrs\",\"orientation\":\"v\",\"showlegend\":true,\"x\":[0.000351576645466595,0.0009125586318920991,0.0015921792156925183,0.0021917327839389824,0.0034781398907864076,0.005297171310520182,0.007450454477723141],\"xaxis\":\"x\",\"y\":[79.892,82.288,83.712,84.448,84.434,84.72,85.008],\"yaxis\":\"y\",\"type\":\"scatter\"},{\"customdata\":[[288],[320],[320],[320],[320],[320],[320],[320],[320]],\"hovertemplate\":\"<b>%{hovertext}</b><br><br>family=regnetz<br>secs=%{x}<br>top1=%{y}<br>size=%{marker.size}<br>infer_img_size=%{customdata[0]}<extra></extra>\",\"hovertext\":[\"regnetz_b16\",\"regnetz_c16\",\"regnetz_d8\",\"regnetz_040\",\"regnetz_040h\",\"regnetz_d32\",\"regnetz_e8\",\"regnetz_c16_evos\",\"regnetz_d8_evos\"],\"legendgroup\":\"regnetz\",\"marker\":{\"color\":\"#EF553B\",\"size\":[82944,102400,102400,102400,102400,102400,102400,102400,102400],\"sizemode\":\"area\",\"sizeref\":576.0,\"symbol\":\"circle\"},\"mode\":\"markers\",\"name\":\"regnetz\",\"orientation\":\"v\",\"showlegend\":true,\"x\":[0.00036824952587873543,0.0005641494319015222,0.0008748829844008363,0.000961917679085024,0.0009669590106075403,0.0009901872444079175,0.0016463344363774057,0.00167117884956048,0.002579646588417387],\"xaxis\":\"x\",\"y\":[80.716,82.518,84.05,84.236,84.494,84.022,85.03,82.63,84.05],\"yaxis\":\"y\",\"type\":\"scatter\"},{\"customdata\":[[224]],\"hovertemplate\":\"<b>%{hovertext}</b><br><br>family=resnetblur<br>secs=%{x}<br>top1=%{y}<br>size=%{marker.size}<br>infer_img_size=%{customdata[0]}<extra></extra>\",\"hovertext\":[\"resnetblur50\"],\"legendgroup\":\"resnetblur\",\"marker\":{\"color\":\"#00cc96\",\"size\":[50176],\"sizemode\":\"area\",\"sizeref\":576.0,\"symbol\":\"circle\"},\"mode\":\"markers\",\"name\":\"resnetblur\",\"orientation\":\"v\",\"showlegend\":true,\"x\":[0.00038181346121538863],\"xaxis\":\"x\",\"y\":[79.286],\"yaxis\":\"y\",\"type\":\"scatter\"},{\"customdata\":[[224],[224],[224],[224],[224],[224],[224]],\"hovertemplate\":\"<b>%{hovertext}</b><br><br>family=vgg<br>secs=%{x}<br>top1=%{y}<br>size=%{marker.size}<br>infer_img_size=%{customdata[0]}<extra></extra>\",\"hovertext\":[\"vgg11_bn\",\"vgg13\",\"vgg13_bn\",\"vgg16\",\"vgg19\",\"vgg16_bn\",\"vgg19_bn\"],\"legendgroup\":\"vgg\",\"marker\":{\"color\":\"#ab63fa\",\"size\":[50176,50176,50176,50176,50176,50176,50176],\"sizemode\":\"area\",\"sizeref\":576.0,\"symbol\":\"circle\"},\"mode\":\"markers\",\"name\":\"vgg\",\"orientation\":\"v\",\"showlegend\":true,\"x\":[0.0003856239395341663,0.000495051955702751,0.000609002271578473,0.00061273383454961,0.0007314379338341244,0.0007335465508641178,0.0008591212907438273],\"xaxis\":\"x\",\"y\":[70.36,69.926,71.594,71.594,72.368,73.35,74.214],\"yaxis\":\"y\",\"type\":\"scatter\"},{\"customdata\":[[224],[224],[224],[224],[224],[224],[224],[384],[384]],\"hovertemplate\":\"<b>%{hovertext}</b><br><br>family=swin<br>secs=%{x}<br>top1=%{y}<br>size=%{marker.size}<br>infer_img_size=%{customdata[0]}<extra></extra>\",\"hovertext\":[\"swin_tiny_patch4_window7_224\",\"swin_s3_tiny_224\",\"swin_small_patch4_window7_224\",\"swin_s3_small_224\",\"swin_base_patch4_window7_224\",\"swin_s3_base_224\",\"swin_large_patch4_window7_224\",\"swin_base_patch4_window12_384\",\"swin_large_patch4_window12_384\"],\"legendgroup\":\"swin\",\"marker\":{\"color\":\"#FFA15A\",\"size\":[50176,50176,50176,50176,50176,50176,50176,147456,147456],\"sizemode\":\"area\",\"sizeref\":576.0,\"symbol\":\"circle\"},\"mode\":\"markers\",\"name\":\"swin\",\"orientation\":\"v\",\"showlegend\":true,\"x\":[0.0005460184335823177,0.000599319173418996,0.0008899409969119047,0.0012179822905374956,0.001254390366281987,0.001502765087761481,0.002185123678000175,0.004700352526439483,0.007950389569088886],\"xaxis\":\"x\",\"y\":[81.378,82.122,83.212,83.77,85.252,83.93,86.32,86.432,87.148],\"yaxis\":\"y\",\"type\":\"scatter\"},{\"customdata\":[[224],[288]],\"hovertemplate\":\"<b>%{hovertext}</b><br><br>family=resnetv2d<br>secs=%{x}<br>top1=%{y}<br>size=%{marker.size}<br>infer_img_size=%{customdata[0]}<extra></extra>\",\"hovertext\":[\"resnetv2_50x1_bit_distilled\",\"resnetv2_50d_evos\"],\"legendgroup\":\"resnetv2d\",\"marker\":{\"color\":\"#19d3f3\",\"size\":[50176,82944],\"sizemode\":\"area\",\"sizeref\":576.0,\"symbol\":\"circle\"},\"mode\":\"markers\",\"name\":\"resnetv2d\",\"orientation\":\"v\",\"showlegend\":true,\"x\":[0.0006401843730994526,0.0011976191331632715],\"xaxis\":\"x\",\"y\":[82.818,81.976],\"yaxis\":\"y\",\"type\":\"scatter\"},{\"customdata\":[[288],[288]],\"hovertemplate\":\"<b>%{hovertext}</b><br><br>family=regnetv<br>secs=%{x}<br>top1=%{y}<br>size=%{marker.size}<br>infer_img_size=%{customdata[0]}<extra></extra>\",\"hovertext\":[\"regnetv_040\",\"regnetv_064\"],\"legendgroup\":\"regnetv\",\"marker\":{\"color\":\"#FF6692\",\"size\":[82944,82944],\"sizemode\":\"area\",\"sizeref\":576.0,\"symbol\":\"circle\"},\"mode\":\"markers\",\"name\":\"regnetv\",\"orientation\":\"v\",\"showlegend\":true,\"x\":[0.0011776343680813981,0.0021355201059217975],\"xaxis\":\"x\",\"y\":[83.194,83.712],\"yaxis\":\"y\",\"type\":\"scatter\"}],                        {\"template\":{\"data\":{\"histogram2dcontour\":[{\"type\":\"histogram2dcontour\",\"colorbar\":{\"outlinewidth\":0,\"ticks\":\"\"},\"colorscale\":[[0.0,\"#0d0887\"],[0.1111111111111111,\"#46039f\"],[0.2222222222222222,\"#7201a8\"],[0.3333333333333333,\"#9c179e\"],[0.4444444444444444,\"#bd3786\"],[0.5555555555555556,\"#d8576b\"],[0.6666666666666666,\"#ed7953\"],[0.7777777777777778,\"#fb9f3a\"],[0.8888888888888888,\"#fdca26\"],[1.0,\"#f0f921\"]]}],\"choropleth\":[{\"type\":\"choropleth\",\"colorbar\":{\"outlinewidth\":0,\"ticks\":\"\"}}],\"histogram2d\":[{\"type\":\"histogram2d\",\"colorbar\":{\"outlinewidth\":0,\"ticks\":\"\"},\"colorscale\":[[0.0,\"#0d0887\"],[0.1111111111111111,\"#46039f\"],[0.2222222222222222,\"#7201a8\"],[0.3333333333333333,\"#9c179e\"],[0.4444444444444444,\"#bd3786\"],[0.5555555555555556,\"#d8576b\"],[0.6666666666666666,\"#ed7953\"],[0.7777777777777778,\"#fb9f3a\"],[0.8888888888888888,\"#fdca26\"],[1.0,\"#f0f921\"]]}],\"heatmap\":[{\"type\":\"heatmap\",\"colorbar\":{\"outlinewidth\":0,\"ticks\":\"\"},\"colorscale\":[[0.0,\"#0d0887\"],[0.1111111111111111,\"#46039f\"],[0.2222222222222222,\"#7201a8\"],[0.3333333333333333,\"#9c179e\"],[0.4444444444444444,\"#bd3786\"],[0.5555555555555556,\"#d8576b\"],[0.6666666666666666,\"#ed7953\"],[0.7777777777777778,\"#fb9f3a\"],[0.8888888888888888,\"#fdca26\"],[1.0,\"#f0f921\"]]}],\"heatmapgl\":[{\"type\":\"heatmapgl\",\"colorbar\":{\"outlinewidth\":0,\"ticks\":\"\"},\"colorscale\":[[0.0,\"#0d0887\"],[0.1111111111111111,\"#46039f\"],[0.2222222222222222,\"#7201a8\"],[0.3333333333333333,\"#9c179e\"],[0.4444444444444444,\"#bd3786\"],[0.5555555555555556,\"#d8576b\"],[0.6666666666666666,\"#ed7953\"],[0.7777777777777778,\"#fb9f3a\"],[0.8888888888888888,\"#fdca26\"],[1.0,\"#f0f921\"]]}],\"contourcarpet\":[{\"type\":\"contourcarpet\",\"colorbar\":{\"outlinewidth\":0,\"ticks\":\"\"}}],\"contour\":[{\"type\":\"contour\",\"colorbar\":{\"outlinewidth\":0,\"ticks\":\"\"},\"colorscale\":[[0.0,\"#0d0887\"],[0.1111111111111111,\"#46039f\"],[0.2222222222222222,\"#7201a8\"],[0.3333333333333333,\"#9c179e\"],[0.4444444444444444,\"#bd3786\"],[0.5555555555555556,\"#d8576b\"],[0.6666666666666666,\"#ed7953\"],[0.7777777777777778,\"#fb9f3a\"],[0.8888888888888888,\"#fdca26\"],[1.0,\"#f0f921\"]]}],\"surface\":[{\"type\":\"surface\",\"colorbar\":{\"outlinewidth\":0,\"ticks\":\"\"},\"colorscale\":[[0.0,\"#0d0887\"],[0.1111111111111111,\"#46039f\"],[0.2222222222222222,\"#7201a8\"],[0.3333333333333333,\"#9c179e\"],[0.4444444444444444,\"#bd3786\"],[0.5555555555555556,\"#d8576b\"],[0.6666666666666666,\"#ed7953\"],[0.7777777777777778,\"#fb9f3a\"],[0.8888888888888888,\"#fdca26\"],[1.0,\"#f0f921\"]]}],\"mesh3d\":[{\"type\":\"mesh3d\",\"colorbar\":{\"outlinewidth\":0,\"ticks\":\"\"}}],\"scatter\":[{\"fillpattern\":{\"fillmode\":\"overlay\",\"size\":10,\"solidity\":0.2},\"type\":\"scatter\"}],\"parcoords\":[{\"type\":\"parcoords\",\"line\":{\"colorbar\":{\"outlinewidth\":0,\"ticks\":\"\"}}}],\"scatterpolargl\":[{\"type\":\"scatterpolargl\",\"marker\":{\"colorbar\":{\"outlinewidth\":0,\"ticks\":\"\"}}}],\"bar\":[{\"error_x\":{\"color\":\"#2a3f5f\"},\"error_y\":{\"color\":\"#2a3f5f\"},\"marker\":{\"line\":{\"color\":\"#E5ECF6\",\"width\":0.5},\"pattern\":{\"fillmode\":\"overlay\",\"size\":10,\"solidity\":0.2}},\"type\":\"bar\"}],\"scattergeo\":[{\"type\":\"scattergeo\",\"marker\":{\"colorbar\":{\"outlinewidth\":0,\"ticks\":\"\"}}}],\"scatterpolar\":[{\"type\":\"scatterpolar\",\"marker\":{\"colorbar\":{\"outlinewidth\":0,\"ticks\":\"\"}}}],\"histogram\":[{\"marker\":{\"pattern\":{\"fillmode\":\"overlay\",\"size\":10,\"solidity\":0.2}},\"type\":\"histogram\"}],\"scattergl\":[{\"type\":\"scattergl\",\"marker\":{\"colorbar\":{\"outlinewidth\":0,\"ticks\":\"\"}}}],\"scatter3d\":[{\"type\":\"scatter3d\",\"line\":{\"colorbar\":{\"outlinewidth\":0,\"ticks\":\"\"}},\"marker\":{\"colorbar\":{\"outlinewidth\":0,\"ticks\":\"\"}}}],\"scattermapbox\":[{\"type\":\"scattermapbox\",\"marker\":{\"colorbar\":{\"outlinewidth\":0,\"ticks\":\"\"}}}],\"scatterternary\":[{\"type\":\"scatterternary\",\"marker\":{\"colorbar\":{\"outlinewidth\":0,\"ticks\":\"\"}}}],\"scattercarpet\":[{\"type\":\"scattercarpet\",\"marker\":{\"colorbar\":{\"outlinewidth\":0,\"ticks\":\"\"}}}],\"carpet\":[{\"aaxis\":{\"endlinecolor\":\"#2a3f5f\",\"gridcolor\":\"white\",\"linecolor\":\"white\",\"minorgridcolor\":\"white\",\"startlinecolor\":\"#2a3f5f\"},\"baxis\":{\"endlinecolor\":\"#2a3f5f\",\"gridcolor\":\"white\",\"linecolor\":\"white\",\"minorgridcolor\":\"white\",\"startlinecolor\":\"#2a3f5f\"},\"type\":\"carpet\"}],\"table\":[{\"cells\":{\"fill\":{\"color\":\"#EBF0F8\"},\"line\":{\"color\":\"white\"}},\"header\":{\"fill\":{\"color\":\"#C8D4E3\"},\"line\":{\"color\":\"white\"}},\"type\":\"table\"}],\"barpolar\":[{\"marker\":{\"line\":{\"color\":\"#E5ECF6\",\"width\":0.5},\"pattern\":{\"fillmode\":\"overlay\",\"size\":10,\"solidity\":0.2}},\"type\":\"barpolar\"}],\"pie\":[{\"automargin\":true,\"type\":\"pie\"}]},\"layout\":{\"autotypenumbers\":\"strict\",\"colorway\":[\"#636efa\",\"#EF553B\",\"#00cc96\",\"#ab63fa\",\"#FFA15A\",\"#19d3f3\",\"#FF6692\",\"#B6E880\",\"#FF97FF\",\"#FECB52\"],\"font\":{\"color\":\"#2a3f5f\"},\"hovermode\":\"closest\",\"hoverlabel\":{\"align\":\"left\"},\"paper_bgcolor\":\"white\",\"plot_bgcolor\":\"#E5ECF6\",\"polar\":{\"bgcolor\":\"#E5ECF6\",\"angularaxis\":{\"gridcolor\":\"white\",\"linecolor\":\"white\",\"ticks\":\"\"},\"radialaxis\":{\"gridcolor\":\"white\",\"linecolor\":\"white\",\"ticks\":\"\"}},\"ternary\":{\"bgcolor\":\"#E5ECF6\",\"aaxis\":{\"gridcolor\":\"white\",\"linecolor\":\"white\",\"ticks\":\"\"},\"baxis\":{\"gridcolor\":\"white\",\"linecolor\":\"white\",\"ticks\":\"\"},\"caxis\":{\"gridcolor\":\"white\",\"linecolor\":\"white\",\"ticks\":\"\"}},\"coloraxis\":{\"colorbar\":{\"outlinewidth\":0,\"ticks\":\"\"}},\"colorscale\":{\"sequential\":[[0.0,\"#0d0887\"],[0.1111111111111111,\"#46039f\"],[0.2222222222222222,\"#7201a8\"],[0.3333333333333333,\"#9c179e\"],[0.4444444444444444,\"#bd3786\"],[0.5555555555555556,\"#d8576b\"],[0.6666666666666666,\"#ed7953\"],[0.7777777777777778,\"#fb9f3a\"],[0.8888888888888888,\"#fdca26\"],[1.0,\"#f0f921\"]],\"sequentialminus\":[[0.0,\"#0d0887\"],[0.1111111111111111,\"#46039f\"],[0.2222222222222222,\"#7201a8\"],[0.3333333333333333,\"#9c179e\"],[0.4444444444444444,\"#bd3786\"],[0.5555555555555556,\"#d8576b\"],[0.6666666666666666,\"#ed7953\"],[0.7777777777777778,\"#fb9f3a\"],[0.8888888888888888,\"#fdca26\"],[1.0,\"#f0f921\"]],\"diverging\":[[0,\"#8e0152\"],[0.1,\"#c51b7d\"],[0.2,\"#de77ae\"],[0.3,\"#f1b6da\"],[0.4,\"#fde0ef\"],[0.5,\"#f7f7f7\"],[0.6,\"#e6f5d0\"],[0.7,\"#b8e186\"],[0.8,\"#7fbc41\"],[0.9,\"#4d9221\"],[1,\"#276419\"]]},\"xaxis\":{\"gridcolor\":\"white\",\"linecolor\":\"white\",\"ticks\":\"\",\"title\":{\"standoff\":15},\"zerolinecolor\":\"white\",\"automargin\":true,\"zerolinewidth\":2},\"yaxis\":{\"gridcolor\":\"white\",\"linecolor\":\"white\",\"ticks\":\"\",\"title\":{\"standoff\":15},\"zerolinecolor\":\"white\",\"automargin\":true,\"zerolinewidth\":2},\"scene\":{\"xaxis\":{\"backgroundcolor\":\"#E5ECF6\",\"gridcolor\":\"white\",\"linecolor\":\"white\",\"showbackground\":true,\"ticks\":\"\",\"zerolinecolor\":\"white\",\"gridwidth\":2},\"yaxis\":{\"backgroundcolor\":\"#E5ECF6\",\"gridcolor\":\"white\",\"linecolor\":\"white\",\"showbackground\":true,\"ticks\":\"\",\"zerolinecolor\":\"white\",\"gridwidth\":2},\"zaxis\":{\"backgroundcolor\":\"#E5ECF6\",\"gridcolor\":\"white\",\"linecolor\":\"white\",\"showbackground\":true,\"ticks\":\"\",\"zerolinecolor\":\"white\",\"gridwidth\":2}},\"shapedefaults\":{\"line\":{\"color\":\"#2a3f5f\"}},\"annotationdefaults\":{\"arrowcolor\":\"#2a3f5f\",\"arrowhead\":0,\"arrowwidth\":1},\"geo\":{\"bgcolor\":\"white\",\"landcolor\":\"#E5ECF6\",\"subunitcolor\":\"white\",\"showland\":true,\"showlakes\":true,\"lakecolor\":\"white\"},\"title\":{\"x\":0.05},\"mapbox\":{\"style\":\"light\"}}},\"xaxis\":{\"anchor\":\"y\",\"domain\":[0.0,1.0],\"title\":{\"text\":\"secs\"},\"type\":\"log\"},\"yaxis\":{\"anchor\":\"x\",\"domain\":[0.0,1.0],\"title\":{\"text\":\"top1\"}},\"legend\":{\"title\":{\"text\":\"family\"},\"tracegroupgap\":0,\"itemsizing\":\"constant\"},\"title\":{\"text\":\"Inference\"},\"height\":800,\"width\":1000},                        {\"responsive\": true}                    ).then(function(){\n",
       "                            \n",
       "var gd = document.getElementById('d50a976c-9ddf-413c-91e0-16932de0c600');\n",
       "var x = new MutationObserver(function (mutations, observer) {{\n",
       "        var display = window.getComputedStyle(gd).display;\n",
       "        if (!display || display === 'none') {{\n",
       "            console.log([gd, 'removed!']);\n",
       "            Plotly.purge(gd);\n",
       "            observer.disconnect();\n",
       "        }}\n",
       "}});\n",
       "\n",
       "// Listen for the removal of the full notebook cells\n",
       "var notebookContainer = gd.closest('#notebook-container');\n",
       "if (notebookContainer) {{\n",
       "    x.observe(notebookContainer, {childList: true});\n",
       "}}\n",
       "\n",
       "// Listen for the clearing of the current output cell\n",
       "var outputEl = gd.closest('.output');\n",
       "if (outputEl) {{\n",
       "    x.observe(outputEl, {childList: true});\n",
       "}}\n",
       "\n",
       "                        })                };                });            </script>        </div>"
      ]
     },
     "metadata": {},
     "output_type": "display_data"
    }
   ],
   "source": [
    "show_all(df, 'Inference', 'infer_img_size')"
   ]
  },
  {
   "cell_type": "markdown",
   "id": "8b4ee9c8",
   "metadata": {
    "papermill": {
     "duration": 0.020362,
     "end_time": "2023-04-25T13:35:38.869166",
     "exception": false,
     "start_time": "2023-04-25T13:35:38.848804",
     "status": "completed"
    },
    "tags": []
   },
   "source": [
    "We can easily restrict to a subset of the models to get a simpler plot. We distinguish between the covnext models trained on the 22,000 category imagenet sample, `covnext_in22`, vs those which haven't been, `covnext`."
   ]
  },
  {
   "cell_type": "code",
   "execution_count": 5,
   "id": "bc596a03",
   "metadata": {
    "execution": {
     "iopub.execute_input": "2023-04-25T13:35:38.909350Z",
     "iopub.status.busy": "2023-04-25T13:35:38.908995Z",
     "iopub.status.idle": "2023-04-25T13:35:38.912728Z",
     "shell.execute_reply": "2023-04-25T13:35:38.911969Z"
    },
    "papermill": {
     "duration": 0.025962,
     "end_time": "2023-04-25T13:35:38.914635",
     "exception": false,
     "start_time": "2023-04-25T13:35:38.888673",
     "status": "completed"
    },
    "tags": []
   },
   "outputs": [],
   "source": [
    "subset = 'levit|resnetd|resnet|regnety|vgg|swin'"
   ]
  },
  {
   "cell_type": "markdown",
   "id": "5fdd8f58",
   "metadata": {
    "papermill": {
     "duration": 0.019686,
     "end_time": "2023-04-25T13:35:38.953154",
     "exception": false,
     "start_time": "2023-04-25T13:35:38.933468",
     "status": "completed"
    },
    "tags": []
   },
   "source": [
    "This function overlays a linear fit for each family."
   ]
  },
  {
   "cell_type": "code",
   "execution_count": 6,
   "id": "e2ce8935",
   "metadata": {
    "execution": {
     "iopub.execute_input": "2023-04-25T13:35:38.994162Z",
     "iopub.status.busy": "2023-04-25T13:35:38.993421Z",
     "iopub.status.idle": "2023-04-25T13:35:38.998609Z",
     "shell.execute_reply": "2023-04-25T13:35:38.997908Z"
    },
    "papermill": {
     "duration": 0.027803,
     "end_time": "2023-04-25T13:35:39.000337",
     "exception": false,
     "start_time": "2023-04-25T13:35:38.972534",
     "status": "completed"
    },
    "tags": []
   },
   "outputs": [],
   "source": [
    "def show_subs(df, title, size):\n",
    "    df_subs = df[df.family.str.fullmatch(subset)]\n",
    "    return px.scatter(df_subs, width=w, height=h, size=df_subs[size]**2, title=title,\n",
    "        trendline=\"ols\", trendline_options={'log_x':True},\n",
    "        x='secs',  y='top1', log_x=True, color='family', hover_name='model', hover_data=[size])"
   ]
  },
  {
   "cell_type": "code",
   "execution_count": 7,
   "id": "73efff32",
   "metadata": {
    "execution": {
     "iopub.execute_input": "2023-04-25T13:35:39.041715Z",
     "iopub.status.busy": "2023-04-25T13:35:39.040996Z",
     "iopub.status.idle": "2023-04-25T13:35:39.849759Z",
     "shell.execute_reply": "2023-04-25T13:35:39.849086Z"
    },
    "papermill": {
     "duration": 0.83089,
     "end_time": "2023-04-25T13:35:39.851539",
     "exception": false,
     "start_time": "2023-04-25T13:35:39.020649",
     "status": "completed"
    },
    "tags": []
   },
   "outputs": [
    {
     "data": {
      "text/html": [
       "<div>                            <div id=\"3cc205c9-22db-4918-a356-2071c77f8116\" class=\"plotly-graph-div\" style=\"height:800px; width:1000px;\"></div>            <script type=\"text/javascript\">                require([\"plotly\"], function(Plotly) {                    window.PLOTLYENV=window.PLOTLYENV || {};                                    if (document.getElementById(\"3cc205c9-22db-4918-a356-2071c77f8116\")) {                    Plotly.newPlot(                        \"3cc205c9-22db-4918-a356-2071c77f8116\",                        [{\"customdata\":[[224],[224],[224],[224],[224]],\"hovertemplate\":\"<b>%{hovertext}</b><br><br>family=levit<br>secs=%{x}<br>top1=%{y}<br>size=%{marker.size}<br>infer_img_size=%{customdata[0]}<extra></extra>\",\"hovertext\":[\"levit_128s\",\"levit_128\",\"levit_192\",\"levit_256\",\"levit_384\"],\"legendgroup\":\"levit\",\"marker\":{\"color\":\"#636efa\",\"size\":[50176,50176,50176,50176,50176],\"sizemode\":\"area\",\"sizeref\":368.64,\"symbol\":\"circle\"},\"mode\":\"markers\",\"name\":\"levit\",\"orientation\":\"v\",\"showlegend\":true,\"x\":[0.00004654236751715086,0.00006822292249261998,0.00007756230968148262,0.00010599687945186893,0.00017720128293728847],\"xaxis\":\"x\",\"y\":[76.53,78.486,79.842,81.51,82.586],\"yaxis\":\"y\",\"type\":\"scatter\"},{\"hovertemplate\":\"<b>OLS trendline</b><br>top1 = 10.6933 * log10(secs) + 123.28<br>R<sup>2</sup>=0.940418<br><br>family=levit<br>secs=%{x}<br>top1=%{y} <b>(trend)</b><extra></extra>\",\"legendgroup\":\"levit\",\"marker\":{\"color\":\"#636efa\",\"symbol\":\"circle\"},\"mode\":\"lines\",\"name\":\"levit\",\"showlegend\":false,\"x\":[0.00004654236751715086,0.00006822292249261998,0.00007756230968148262,0.00010599687945186893,0.00017720128293728847],\"xaxis\":\"x\",\"y\":[76.95505389897177,78.73101445728801,79.32684872810374,80.7773110158231,83.16377189981354],\"yaxis\":\"y\",\"type\":\"scatter\"},{\"customdata\":[[224],[224],[224],[224],[224],[288],[288],[224],[288],[288],[224],[288]],\"hovertemplate\":\"<b>%{hovertext}</b><br><br>family=regnety<br>secs=%{x}<br>top1=%{y}<br>size=%{marker.size}<br>infer_img_size=%{customdata[0]}<extra></extra>\",\"hovertext\":[\"regnety_002\",\"regnety_006\",\"regnety_004\",\"regnety_008\",\"regnety_016\",\"regnety_032\",\"regnety_040\",\"regnety_120\",\"regnety_080\",\"regnety_064\",\"regnety_320\",\"regnety_160\"],\"legendgroup\":\"regnety\",\"marker\":{\"color\":\"#EF553B\",\"size\":[50176,50176,50176,50176,50176,82944,82944,50176,82944,82944,50176,82944],\"sizemode\":\"area\",\"sizeref\":368.64,\"symbol\":\"circle\"},\"mode\":\"markers\",\"name\":\"regnety\",\"orientation\":\"v\",\"showlegend\":true,\"x\":[0.000059976920880845045,0.00010017450398594352,0.00010468376082691796,0.00012704688411164372,0.00029335406368716726,0.0007311277645768598,0.0011773986554107355,0.0013256445946841651,0.0018643499011894553,0.0021192726656211586,0.002407666008571291,0.0024128362890577875],\"xaxis\":\"x\",\"y\":[70.252,75.246,74.034,76.316,77.862,82.724,83.038,80.366,83.932,83.716,80.81,83.686],\"yaxis\":\"y\",\"type\":\"scatter\"},{\"hovertemplate\":\"<b>OLS trendline</b><br>top1 = 6.84788 * log10(secs) + 101.708<br>R<sup>2</sup>=0.868123<br><br>family=regnety<br>secs=%{x}<br>top1=%{y} <b>(trend)</b><extra></extra>\",\"legendgroup\":\"regnety\",\"marker\":{\"color\":\"#EF553B\",\"symbol\":\"circle\"},\"mode\":\"lines\",\"name\":\"regnety\",\"showlegend\":false,\"x\":[0.000059976920880845045,0.00010017450398594352,0.00010468376082691796,0.00012704688411164372,0.00029335406368716726,0.0007311277645768598,0.0011773986554107355,0.0013256445946841651,0.0018643499011894553,0.0021192726656211586,0.002407666008571291,0.0024128362890577875],\"xaxis\":\"x\",\"y\":[72.79647023413783,74.321994115932,74.45294014546619,75.02874242198645,77.51745579809545,80.23333455789111,81.65036895055266,82.00305941802522,83.01723320904719,83.3983824053688,83.7778195774491,83.78419916604808],\"yaxis\":\"y\",\"type\":\"scatter\"},{\"customdata\":[[224],[224],[224],[256],[224],[256],[256],[224],[288],[288],[224]],\"hovertemplate\":\"<b>%{hovertext}</b><br><br>family=resnet<br>secs=%{x}<br>top1=%{y}<br>size=%{marker.size}<br>infer_img_size=%{customdata[0]}<extra></extra>\",\"hovertext\":[\"resnet18\",\"resnet34\",\"resnet26\",\"resnet26t\",\"resnet50\",\"resnet32ts\",\"resnet33ts\",\"resnet101\",\"resnet51q\",\"resnet61q\",\"resnet152\"],\"legendgroup\":\"resnet\",\"marker\":{\"color\":\"#00cc96\",\"size\":[50176,50176,50176,65536,50176,65536,65536,50176,82944,82944,50176],\"sizemode\":\"area\",\"sizeref\":368.64,\"symbol\":\"circle\"},\"mode\":\"markers\",\"name\":\"resnet\",\"orientation\":\"v\",\"showlegend\":true,\"x\":[0.00009236979323021786,0.00015969338869370808,0.00017561482751111642,0.0002638710409448694,0.00028338807446305045,0.00029286350217890445,0.00029674294938752255,0.00046063207933926936,0.000534896657965681,0.0005959830740806961,0.0006634335339114052],\"xaxis\":\"x\",\"y\":[69.748,75.11,75.292,77.882,80.374,79.004,79.214,81.938,82.36,82.524,82.822],\"yaxis\":\"y\",\"type\":\"scatter\"},{\"hovertemplate\":\"<b>OLS trendline</b><br>top1 = 14.9129 * log10(secs) + 131.333<br>R<sup>2</sup>=0.949595<br><br>family=resnet<br>secs=%{x}<br>top1=%{y} <b>(trend)</b><extra></extra>\",\"legendgroup\":\"resnet\",\"marker\":{\"color\":\"#00cc96\",\"symbol\":\"circle\"},\"mode\":\"lines\",\"name\":\"resnet\",\"showlegend\":false,\"x\":[0.00009236979323021786,0.00015969338869370808,0.00017561482751111642,0.0002638710409448694,0.00028338807446305045,0.00029286350217890445,0.00029674294938752255,0.00046063207933926936,0.000534896657965681,0.0005959830740806961,0.0006634335339114052],\"xaxis\":\"x\",\"y\":[71.16771525135103,74.71336237373785,75.32888127963868,77.96593851992488,78.42808707101472,78.64109825732623,78.72632785837946,81.57430163072345,82.54238339020759,83.2427536968711,83.93715067082546],\"yaxis\":\"y\",\"type\":\"scatter\"},{\"customdata\":[[224],[224],[224],[224],[320],[320],[320]],\"hovertemplate\":\"<b>%{hovertext}</b><br><br>family=resnetd<br>secs=%{x}<br>top1=%{y}<br>size=%{marker.size}<br>infer_img_size=%{customdata[0]}<extra></extra>\",\"hovertext\":[\"resnet18d\",\"resnet34d\",\"resnet26d\",\"resnet50d\",\"resnet101d\",\"resnet152d\",\"resnet200d\"],\"legendgroup\":\"resnetd\",\"marker\":{\"color\":\"#ab63fa\",\"size\":[50176,50176,50176,50176,102400,102400,102400],\"sizemode\":\"area\",\"sizeref\":368.64,\"symbol\":\"circle\"},\"mode\":\"markers\",\"name\":\"resnetd\",\"orientation\":\"v\",\"showlegend\":true,\"x\":[0.00011218547400045547,0.00017947263760167124,0.0002044542400742578,0.00031235065734195835,0.0010008807750820723,0.0014054023666975855,0.0019066503965832825],\"xaxis\":\"x\",\"y\":[72.26,77.116,76.696,80.53,83.022,83.68,83.962],\"yaxis\":\"y\",\"type\":\"scatter\"},{\"hovertemplate\":\"<b>OLS trendline</b><br>top1 = 8.5734 * log10(secs) + 108.345<br>R<sup>2</sup>=0.896708<br><br>family=resnetd<br>secs=%{x}<br>top1=%{y} <b>(trend)</b><extra></extra>\",\"legendgroup\":\"resnetd\",\"marker\":{\"color\":\"#ab63fa\",\"symbol\":\"circle\"},\"mode\":\"lines\",\"name\":\"resnetd\",\"showlegend\":false,\"x\":[0.00011218547400045547,0.00017947263760167124,0.0002044542400742578,0.00031235065734195835,0.0010008807750820723,0.0014054023666975855,0.0019066503965832825],\"xaxis\":\"x\",\"y\":[74.47999758518219,76.22949984889806,76.71473618766862,78.29263910735216,82.62855072207492,83.89242733865937,85.02814921016497],\"yaxis\":\"y\",\"type\":\"scatter\"},{\"customdata\":[[224],[224],[224],[224],[224],[224],[224]],\"hovertemplate\":\"<b>%{hovertext}</b><br><br>family=vgg<br>secs=%{x}<br>top1=%{y}<br>size=%{marker.size}<br>infer_img_size=%{customdata[0]}<extra></extra>\",\"hovertext\":[\"vgg11_bn\",\"vgg13\",\"vgg13_bn\",\"vgg16\",\"vgg19\",\"vgg16_bn\",\"vgg19_bn\"],\"legendgroup\":\"vgg\",\"marker\":{\"color\":\"#FFA15A\",\"size\":[50176,50176,50176,50176,50176,50176,50176],\"sizemode\":\"area\",\"sizeref\":368.64,\"symbol\":\"circle\"},\"mode\":\"markers\",\"name\":\"vgg\",\"orientation\":\"v\",\"showlegend\":true,\"x\":[0.0003856239395341663,0.000495051955702751,0.000609002271578473,0.00061273383454961,0.0007314379338341244,0.0007335465508641178,0.0008591212907438273],\"xaxis\":\"x\",\"y\":[70.36,69.926,71.594,71.594,72.368,73.35,74.214],\"yaxis\":\"y\",\"type\":\"scatter\"},{\"hovertemplate\":\"<b>OLS trendline</b><br>top1 = 11.8924 * log10(secs) + 110.113<br>R<sup>2</sup>=0.826696<br><br>family=vgg<br>secs=%{x}<br>top1=%{y} <b>(trend)</b><extra></extra>\",\"legendgroup\":\"vgg\",\"marker\":{\"color\":\"#FFA15A\",\"symbol\":\"circle\"},\"mode\":\"lines\",\"name\":\"vgg\",\"showlegend\":false,\"x\":[0.0003856239395341663,0.000495051955702751,0.000609002271578473,0.00061273383454961,0.0007314379338341244,0.0007335465508641178,0.0008591212907438273],\"xaxis\":\"x\",\"y\":[69.51419823403836,70.80437173913634,71.8743130336916,71.90586309950523,72.82045912671352,72.83532705773085,73.65146770918429],\"yaxis\":\"y\",\"type\":\"scatter\"},{\"customdata\":[[224],[224],[224],[224],[224],[224],[224],[384],[384]],\"hovertemplate\":\"<b>%{hovertext}</b><br><br>family=swin<br>secs=%{x}<br>top1=%{y}<br>size=%{marker.size}<br>infer_img_size=%{customdata[0]}<extra></extra>\",\"hovertext\":[\"swin_tiny_patch4_window7_224\",\"swin_s3_tiny_224\",\"swin_small_patch4_window7_224\",\"swin_s3_small_224\",\"swin_base_patch4_window7_224\",\"swin_s3_base_224\",\"swin_large_patch4_window7_224\",\"swin_base_patch4_window12_384\",\"swin_large_patch4_window12_384\"],\"legendgroup\":\"swin\",\"marker\":{\"color\":\"#19d3f3\",\"size\":[50176,50176,50176,50176,50176,50176,50176,147456,147456],\"sizemode\":\"area\",\"sizeref\":368.64,\"symbol\":\"circle\"},\"mode\":\"markers\",\"name\":\"swin\",\"orientation\":\"v\",\"showlegend\":true,\"x\":[0.0005460184335823177,0.000599319173418996,0.0008899409969119047,0.0012179822905374956,0.001254390366281987,0.001502765087761481,0.002185123678000175,0.004700352526439483,0.007950389569088886],\"xaxis\":\"x\",\"y\":[81.378,82.122,83.212,83.77,85.252,83.93,86.32,86.432,87.148],\"yaxis\":\"y\",\"type\":\"scatter\"},{\"hovertemplate\":\"<b>OLS trendline</b><br>top1 = 4.79166 * log10(secs) + 97.8461<br>R<sup>2</sup>=0.857554<br><br>family=swin<br>secs=%{x}<br>top1=%{y} <b>(trend)</b><extra></extra>\",\"legendgroup\":\"swin\",\"marker\":{\"color\":\"#19d3f3\",\"symbol\":\"circle\"},\"mode\":\"lines\",\"name\":\"swin\",\"showlegend\":false,\"x\":[0.0005460184335823177,0.000599319173418996,0.0008899409969119047,0.0012179822905374956,0.001254390366281987,0.001502765087761481,0.002185123678000175,0.004700352526439483,0.007950389569088886],\"xaxis\":\"x\",\"y\":[82.21189536979995,82.40572233137108,83.22846560692773,83.88147241845685,83.94276611993266,84.31871234410453,85.09776467238049,86.69173280602168,87.78546833100492],\"yaxis\":\"y\",\"type\":\"scatter\"}],                        {\"template\":{\"data\":{\"histogram2dcontour\":[{\"type\":\"histogram2dcontour\",\"colorbar\":{\"outlinewidth\":0,\"ticks\":\"\"},\"colorscale\":[[0.0,\"#0d0887\"],[0.1111111111111111,\"#46039f\"],[0.2222222222222222,\"#7201a8\"],[0.3333333333333333,\"#9c179e\"],[0.4444444444444444,\"#bd3786\"],[0.5555555555555556,\"#d8576b\"],[0.6666666666666666,\"#ed7953\"],[0.7777777777777778,\"#fb9f3a\"],[0.8888888888888888,\"#fdca26\"],[1.0,\"#f0f921\"]]}],\"choropleth\":[{\"type\":\"choropleth\",\"colorbar\":{\"outlinewidth\":0,\"ticks\":\"\"}}],\"histogram2d\":[{\"type\":\"histogram2d\",\"colorbar\":{\"outlinewidth\":0,\"ticks\":\"\"},\"colorscale\":[[0.0,\"#0d0887\"],[0.1111111111111111,\"#46039f\"],[0.2222222222222222,\"#7201a8\"],[0.3333333333333333,\"#9c179e\"],[0.4444444444444444,\"#bd3786\"],[0.5555555555555556,\"#d8576b\"],[0.6666666666666666,\"#ed7953\"],[0.7777777777777778,\"#fb9f3a\"],[0.8888888888888888,\"#fdca26\"],[1.0,\"#f0f921\"]]}],\"heatmap\":[{\"type\":\"heatmap\",\"colorbar\":{\"outlinewidth\":0,\"ticks\":\"\"},\"colorscale\":[[0.0,\"#0d0887\"],[0.1111111111111111,\"#46039f\"],[0.2222222222222222,\"#7201a8\"],[0.3333333333333333,\"#9c179e\"],[0.4444444444444444,\"#bd3786\"],[0.5555555555555556,\"#d8576b\"],[0.6666666666666666,\"#ed7953\"],[0.7777777777777778,\"#fb9f3a\"],[0.8888888888888888,\"#fdca26\"],[1.0,\"#f0f921\"]]}],\"heatmapgl\":[{\"type\":\"heatmapgl\",\"colorbar\":{\"outlinewidth\":0,\"ticks\":\"\"},\"colorscale\":[[0.0,\"#0d0887\"],[0.1111111111111111,\"#46039f\"],[0.2222222222222222,\"#7201a8\"],[0.3333333333333333,\"#9c179e\"],[0.4444444444444444,\"#bd3786\"],[0.5555555555555556,\"#d8576b\"],[0.6666666666666666,\"#ed7953\"],[0.7777777777777778,\"#fb9f3a\"],[0.8888888888888888,\"#fdca26\"],[1.0,\"#f0f921\"]]}],\"contourcarpet\":[{\"type\":\"contourcarpet\",\"colorbar\":{\"outlinewidth\":0,\"ticks\":\"\"}}],\"contour\":[{\"type\":\"contour\",\"colorbar\":{\"outlinewidth\":0,\"ticks\":\"\"},\"colorscale\":[[0.0,\"#0d0887\"],[0.1111111111111111,\"#46039f\"],[0.2222222222222222,\"#7201a8\"],[0.3333333333333333,\"#9c179e\"],[0.4444444444444444,\"#bd3786\"],[0.5555555555555556,\"#d8576b\"],[0.6666666666666666,\"#ed7953\"],[0.7777777777777778,\"#fb9f3a\"],[0.8888888888888888,\"#fdca26\"],[1.0,\"#f0f921\"]]}],\"surface\":[{\"type\":\"surface\",\"colorbar\":{\"outlinewidth\":0,\"ticks\":\"\"},\"colorscale\":[[0.0,\"#0d0887\"],[0.1111111111111111,\"#46039f\"],[0.2222222222222222,\"#7201a8\"],[0.3333333333333333,\"#9c179e\"],[0.4444444444444444,\"#bd3786\"],[0.5555555555555556,\"#d8576b\"],[0.6666666666666666,\"#ed7953\"],[0.7777777777777778,\"#fb9f3a\"],[0.8888888888888888,\"#fdca26\"],[1.0,\"#f0f921\"]]}],\"mesh3d\":[{\"type\":\"mesh3d\",\"colorbar\":{\"outlinewidth\":0,\"ticks\":\"\"}}],\"scatter\":[{\"fillpattern\":{\"fillmode\":\"overlay\",\"size\":10,\"solidity\":0.2},\"type\":\"scatter\"}],\"parcoords\":[{\"type\":\"parcoords\",\"line\":{\"colorbar\":{\"outlinewidth\":0,\"ticks\":\"\"}}}],\"scatterpolargl\":[{\"type\":\"scatterpolargl\",\"marker\":{\"colorbar\":{\"outlinewidth\":0,\"ticks\":\"\"}}}],\"bar\":[{\"error_x\":{\"color\":\"#2a3f5f\"},\"error_y\":{\"color\":\"#2a3f5f\"},\"marker\":{\"line\":{\"color\":\"#E5ECF6\",\"width\":0.5},\"pattern\":{\"fillmode\":\"overlay\",\"size\":10,\"solidity\":0.2}},\"type\":\"bar\"}],\"scattergeo\":[{\"type\":\"scattergeo\",\"marker\":{\"colorbar\":{\"outlinewidth\":0,\"ticks\":\"\"}}}],\"scatterpolar\":[{\"type\":\"scatterpolar\",\"marker\":{\"colorbar\":{\"outlinewidth\":0,\"ticks\":\"\"}}}],\"histogram\":[{\"marker\":{\"pattern\":{\"fillmode\":\"overlay\",\"size\":10,\"solidity\":0.2}},\"type\":\"histogram\"}],\"scattergl\":[{\"type\":\"scattergl\",\"marker\":{\"colorbar\":{\"outlinewidth\":0,\"ticks\":\"\"}}}],\"scatter3d\":[{\"type\":\"scatter3d\",\"line\":{\"colorbar\":{\"outlinewidth\":0,\"ticks\":\"\"}},\"marker\":{\"colorbar\":{\"outlinewidth\":0,\"ticks\":\"\"}}}],\"scattermapbox\":[{\"type\":\"scattermapbox\",\"marker\":{\"colorbar\":{\"outlinewidth\":0,\"ticks\":\"\"}}}],\"scatterternary\":[{\"type\":\"scatterternary\",\"marker\":{\"colorbar\":{\"outlinewidth\":0,\"ticks\":\"\"}}}],\"scattercarpet\":[{\"type\":\"scattercarpet\",\"marker\":{\"colorbar\":{\"outlinewidth\":0,\"ticks\":\"\"}}}],\"carpet\":[{\"aaxis\":{\"endlinecolor\":\"#2a3f5f\",\"gridcolor\":\"white\",\"linecolor\":\"white\",\"minorgridcolor\":\"white\",\"startlinecolor\":\"#2a3f5f\"},\"baxis\":{\"endlinecolor\":\"#2a3f5f\",\"gridcolor\":\"white\",\"linecolor\":\"white\",\"minorgridcolor\":\"white\",\"startlinecolor\":\"#2a3f5f\"},\"type\":\"carpet\"}],\"table\":[{\"cells\":{\"fill\":{\"color\":\"#EBF0F8\"},\"line\":{\"color\":\"white\"}},\"header\":{\"fill\":{\"color\":\"#C8D4E3\"},\"line\":{\"color\":\"white\"}},\"type\":\"table\"}],\"barpolar\":[{\"marker\":{\"line\":{\"color\":\"#E5ECF6\",\"width\":0.5},\"pattern\":{\"fillmode\":\"overlay\",\"size\":10,\"solidity\":0.2}},\"type\":\"barpolar\"}],\"pie\":[{\"automargin\":true,\"type\":\"pie\"}]},\"layout\":{\"autotypenumbers\":\"strict\",\"colorway\":[\"#636efa\",\"#EF553B\",\"#00cc96\",\"#ab63fa\",\"#FFA15A\",\"#19d3f3\",\"#FF6692\",\"#B6E880\",\"#FF97FF\",\"#FECB52\"],\"font\":{\"color\":\"#2a3f5f\"},\"hovermode\":\"closest\",\"hoverlabel\":{\"align\":\"left\"},\"paper_bgcolor\":\"white\",\"plot_bgcolor\":\"#E5ECF6\",\"polar\":{\"bgcolor\":\"#E5ECF6\",\"angularaxis\":{\"gridcolor\":\"white\",\"linecolor\":\"white\",\"ticks\":\"\"},\"radialaxis\":{\"gridcolor\":\"white\",\"linecolor\":\"white\",\"ticks\":\"\"}},\"ternary\":{\"bgcolor\":\"#E5ECF6\",\"aaxis\":{\"gridcolor\":\"white\",\"linecolor\":\"white\",\"ticks\":\"\"},\"baxis\":{\"gridcolor\":\"white\",\"linecolor\":\"white\",\"ticks\":\"\"},\"caxis\":{\"gridcolor\":\"white\",\"linecolor\":\"white\",\"ticks\":\"\"}},\"coloraxis\":{\"colorbar\":{\"outlinewidth\":0,\"ticks\":\"\"}},\"colorscale\":{\"sequential\":[[0.0,\"#0d0887\"],[0.1111111111111111,\"#46039f\"],[0.2222222222222222,\"#7201a8\"],[0.3333333333333333,\"#9c179e\"],[0.4444444444444444,\"#bd3786\"],[0.5555555555555556,\"#d8576b\"],[0.6666666666666666,\"#ed7953\"],[0.7777777777777778,\"#fb9f3a\"],[0.8888888888888888,\"#fdca26\"],[1.0,\"#f0f921\"]],\"sequentialminus\":[[0.0,\"#0d0887\"],[0.1111111111111111,\"#46039f\"],[0.2222222222222222,\"#7201a8\"],[0.3333333333333333,\"#9c179e\"],[0.4444444444444444,\"#bd3786\"],[0.5555555555555556,\"#d8576b\"],[0.6666666666666666,\"#ed7953\"],[0.7777777777777778,\"#fb9f3a\"],[0.8888888888888888,\"#fdca26\"],[1.0,\"#f0f921\"]],\"diverging\":[[0,\"#8e0152\"],[0.1,\"#c51b7d\"],[0.2,\"#de77ae\"],[0.3,\"#f1b6da\"],[0.4,\"#fde0ef\"],[0.5,\"#f7f7f7\"],[0.6,\"#e6f5d0\"],[0.7,\"#b8e186\"],[0.8,\"#7fbc41\"],[0.9,\"#4d9221\"],[1,\"#276419\"]]},\"xaxis\":{\"gridcolor\":\"white\",\"linecolor\":\"white\",\"ticks\":\"\",\"title\":{\"standoff\":15},\"zerolinecolor\":\"white\",\"automargin\":true,\"zerolinewidth\":2},\"yaxis\":{\"gridcolor\":\"white\",\"linecolor\":\"white\",\"ticks\":\"\",\"title\":{\"standoff\":15},\"zerolinecolor\":\"white\",\"automargin\":true,\"zerolinewidth\":2},\"scene\":{\"xaxis\":{\"backgroundcolor\":\"#E5ECF6\",\"gridcolor\":\"white\",\"linecolor\":\"white\",\"showbackground\":true,\"ticks\":\"\",\"zerolinecolor\":\"white\",\"gridwidth\":2},\"yaxis\":{\"backgroundcolor\":\"#E5ECF6\",\"gridcolor\":\"white\",\"linecolor\":\"white\",\"showbackground\":true,\"ticks\":\"\",\"zerolinecolor\":\"white\",\"gridwidth\":2},\"zaxis\":{\"backgroundcolor\":\"#E5ECF6\",\"gridcolor\":\"white\",\"linecolor\":\"white\",\"showbackground\":true,\"ticks\":\"\",\"zerolinecolor\":\"white\",\"gridwidth\":2}},\"shapedefaults\":{\"line\":{\"color\":\"#2a3f5f\"}},\"annotationdefaults\":{\"arrowcolor\":\"#2a3f5f\",\"arrowhead\":0,\"arrowwidth\":1},\"geo\":{\"bgcolor\":\"white\",\"landcolor\":\"#E5ECF6\",\"subunitcolor\":\"white\",\"showland\":true,\"showlakes\":true,\"lakecolor\":\"white\"},\"title\":{\"x\":0.05},\"mapbox\":{\"style\":\"light\"}}},\"xaxis\":{\"anchor\":\"y\",\"domain\":[0.0,1.0],\"title\":{\"text\":\"secs\"},\"type\":\"log\"},\"yaxis\":{\"anchor\":\"x\",\"domain\":[0.0,1.0],\"title\":{\"text\":\"top1\"}},\"legend\":{\"title\":{\"text\":\"family\"},\"tracegroupgap\":0,\"itemsizing\":\"constant\"},\"title\":{\"text\":\"Inference\"},\"height\":800,\"width\":1000},                        {\"responsive\": true}                    ).then(function(){\n",
       "                            \n",
       "var gd = document.getElementById('3cc205c9-22db-4918-a356-2071c77f8116');\n",
       "var x = new MutationObserver(function (mutations, observer) {{\n",
       "        var display = window.getComputedStyle(gd).display;\n",
       "        if (!display || display === 'none') {{\n",
       "            console.log([gd, 'removed!']);\n",
       "            Plotly.purge(gd);\n",
       "            observer.disconnect();\n",
       "        }}\n",
       "}});\n",
       "\n",
       "// Listen for the removal of the full notebook cells\n",
       "var notebookContainer = gd.closest('#notebook-container');\n",
       "if (notebookContainer) {{\n",
       "    x.observe(notebookContainer, {childList: true});\n",
       "}}\n",
       "\n",
       "// Listen for the clearing of the current output cell\n",
       "var outputEl = gd.closest('.output');\n",
       "if (outputEl) {{\n",
       "    x.observe(outputEl, {childList: true});\n",
       "}}\n",
       "\n",
       "                        })                };                });            </script>        </div>"
      ]
     },
     "metadata": {},
     "output_type": "display_data"
    }
   ],
   "source": [
    "show_subs(df, 'Inference', 'infer_img_size')"
   ]
  },
  {
   "cell_type": "markdown",
   "id": "a57d4680",
   "metadata": {
    "papermill": {
     "duration": 0.020166,
     "end_time": "2023-04-25T13:35:39.892564",
     "exception": false,
     "start_time": "2023-04-25T13:35:39.872398",
     "status": "completed"
    },
    "tags": []
   },
   "source": [
    "## Commentary on findings\n",
    "\n",
    "The [LeViT](https://github.com/facebookresearch/LeViT) family models are both fast and accurate. Apparently these models are constructed using a hybrid of convolution neural networks and transformets.\n",
    "\n",
    "The [Swin](https://github.com/microsoft/Swin-Transformer) family of transformers is apparently among the most accurate. It is described as a \"hierarchical Transformer whose representation is computed with shifted windows.\""
   ]
  },
  {
   "cell_type": "markdown",
   "id": "bc9135d1",
   "metadata": {
    "papermill": {
     "duration": 0.020037,
     "end_time": "2023-04-25T13:35:39.932887",
     "exception": false,
     "start_time": "2023-04-25T13:35:39.912850",
     "status": "completed"
    },
    "tags": []
   },
   "source": [
    "## Speed vs parameter count\n",
    "\n",
    "We finally compare speed vs parameter count. Often, parameter count is used in papers as a proxy for speed. However, as we see, there is a wide variation in speeds at each level of parameter count, so it's really not a useful proxy. There is sometimes a correlation between parameter count and needed memory, but this is also not always so useful. In the following chart:\n",
    "- the x axis shows the parameter count in a log scale\n",
    "- the y axis shows the speed in seconds in a log scale."
   ]
  },
  {
   "cell_type": "code",
   "execution_count": 8,
   "id": "623bf7d6",
   "metadata": {
    "execution": {
     "iopub.execute_input": "2023-04-25T13:35:39.974787Z",
     "iopub.status.busy": "2023-04-25T13:35:39.973998Z",
     "iopub.status.idle": "2023-04-25T13:35:40.066325Z",
     "shell.execute_reply": "2023-04-25T13:35:40.065515Z"
    },
    "papermill": {
     "duration": 0.115477,
     "end_time": "2023-04-25T13:35:40.068605",
     "exception": false,
     "start_time": "2023-04-25T13:35:39.953128",
     "status": "completed"
    },
    "tags": []
   },
   "outputs": [
    {
     "data": {
      "text/html": [
       "<div>                            <div id=\"2198d589-6238-47aa-8166-37c364b16cfa\" class=\"plotly-graph-div\" style=\"height:800px; width:1000px;\"></div>            <script type=\"text/javascript\">                require([\"plotly\"], function(Plotly) {                    window.PLOTLYENV=window.PLOTLYENV || {};                                    if (document.getElementById(\"2198d589-6238-47aa-8166-37c364b16cfa\")) {                    Plotly.newPlot(                        \"2198d589-6238-47aa-8166-37c364b16cfa\",                        [{\"customdata\":[[21485.8,\"levit\"],[17821.98,\"regnetx\"],[16673.08,\"regnety\"],[14657.83,\"levit\"],[14440.03,\"regnetx\"],[12892.86,\"levit\"],[10826.05,\"resnet\"],[9982.58,\"regnety\"],[9552.58,\"regnety\"],[9434.24,\"levit\"],[8913.81,\"resnetd\"],[8458.52,\"regnetx\"],[7937.85,\"regnetx\"],[7871.11,\"regnety\"],[6262.0,\"resnet\"],[5694.28,\"resnet\"],[5643.3,\"levit\"],[5571.88,\"resnetd\"],[5125.56,\"mobilevit\"],[5049.08,\"repvgg\"],[4891.07,\"resnetd\"],[3868.66,\"repvgg\"],[3854.54,\"crossvit\"],[3789.73,\"resnet\"],[3776.49,\"regnetx\"],[3703.17,\"resnetv2\"],[3640.93,\"crossvit\"],[3562.28,\"crossvit\"],[3528.73,\"resnet\"],[3414.56,\"resnet\"],[3408.85,\"regnety\"],[3369.92,\"resnet\"],[3201.53,\"resnetd\"],[3182.1,\"convit\"],[3098.23,\"mobilevit\"],[2844.33,\"resnetrs\"],[2715.55,\"regnetz\"],[2619.08,\"resnetblur\"],[2593.2,\"vgg\"],[2415.06,\"mobilevit\"],[2235.55,\"resnetv2\"],[2170.93,\"resnet\"],[2019.99,\"vgg\"],[1936.11,\"repvgg\"],[1869.52,\"resnet\"],[1844.12,\"crossvit\"],[1831.44,\"swin\"],[1772.58,\"regnetz\"],[1700.36,\"crossvit\"],[1677.9,\"resnet\"],[1668.56,\"swin\"],[1651.71,\"crossvit\"],[1642.03,\"vgg\"],[1632.03,\"vgg\"],[1614.79,\"repvgg\"],[1605.58,\"regnetx\"],[1586.28,\"regnetx\"],[1562.05,\"resnetv2d\"],[1507.31,\"resnet\"],[1368.52,\"convit\"],[1367.75,\"regnety\"],[1367.17,\"vgg\"],[1363.24,\"vgg\"],[1259.62,\"regnetx\"],[1243.81,\"repvgg\"],[1205.55,\"crossvit\"],[1172.17,\"crossvit\"],[1166.56,\"regnetx\"],[1163.98,\"vgg\"],[1143.01,\"regnetz\"],[1123.67,\"swin\"],[1095.82,\"resnetrs\"],[1039.59,\"regnetz\"],[1034.17,\"regnetz\"],[1009.91,\"regnetz\"],[1001.81,\"repvgg\"],[999.12,\"resnetd\"],[849.33,\"regnety\"],[849.16,\"regnetv\"],[834.99,\"resnetv2d\"],[821.03,\"swin\"],[812.87,\"repvgg\"],[797.2,\"swin\"],[777.95,\"regnetx\"],[754.35,\"regnety\"],[747.2,\"crossvit\"],[711.54,\"resnetd\"],[687.54,\"convit\"],[665.44,\"swin\"],[644.06,\"repvgg\"],[628.07,\"resnetrs\"],[623.38,\"regnetx\"],[607.41,\"regnetz\"],[598.38,\"regnetz\"],[536.38,\"regnety\"],[524.48,\"resnetd\"],[471.86,\"regnety\"],[468.27,\"regnetv\"],[457.64,\"swin\"],[456.26,\"resnetrs\"],[415.34,\"regnety\"],[414.45,\"regnety\"],[387.65,\"regnetz\"],[354.15,\"crossvit\"],[287.51,\"resnetrs\"],[280.03,\"resnetv2\"],[262.23,\"regnetx\"],[259.11,\"crossvit\"],[212.75,\"swin\"],[188.78,\"resnetrs\"],[134.22,\"resnetrs\"],[125.78,\"swin\"],[96.99,\"resnetv2\"],[92.92,\"resnetv2\"],[70.34,\"resnetv2\"],[57.82,\"resnetv2\"],[18.31,\"resnetv2\"]],\"hovertemplate\":\"<b>%{hovertext}</b><br><br>param_count_x=%{x}<br>secs=%{y}<br>infer_samples_per_sec=%{customdata[0]}<br>family=%{customdata[1]}<br>infer_img_size=%{marker.color}<extra></extra>\",\"hovertext\":[\"levit_128s\",\"regnetx_002\",\"regnety_002\",\"levit_128\",\"regnetx_004\",\"levit_192\",\"resnet18\",\"regnety_006\",\"regnety_004\",\"levit_256\",\"resnet18d\",\"regnetx_008\",\"regnetx_006\",\"regnety_008\",\"resnet34\",\"resnet26\",\"levit_384\",\"resnet34d\",\"mobilevit_xxs\",\"repvgg_b0\",\"resnet26d\",\"repvgg_a2\",\"crossvit_tiny_240\",\"resnet26t\",\"regnetx_016\",\"resnetv2_50\",\"crossvit_9_240\",\"crossvit_9_dagger_240\",\"resnet50\",\"resnet32ts\",\"regnety_016\",\"resnet33ts\",\"resnet50d\",\"convit_tiny\",\"mobilevit_xs\",\"resnetrs50\",\"regnetz_b16\",\"resnetblur50\",\"vgg11_bn\",\"mobilevit_s\",\"resnetv2_101\",\"resnet101\",\"vgg13\",\"repvgg_b1\",\"resnet51q\",\"crossvit_small_240\",\"swin_tiny_patch4_window7_224\",\"regnetz_c16\",\"crossvit_15_240\",\"resnet61q\",\"swin_s3_tiny_224\",\"crossvit_15_dagger_240\",\"vgg13_bn\",\"vgg16\",\"repvgg_b1g4\",\"regnetx_032\",\"regnetx_040\",\"resnetv2_50x1_bit_distilled\",\"resnet152\",\"convit_small\",\"regnety_032\",\"vgg19\",\"vgg16_bn\",\"regnetx_080\",\"repvgg_b2\",\"crossvit_18_240\",\"crossvit_18_dagger_240\",\"regnetx_064\",\"vgg19_bn\",\"regnetz_d8\",\"swin_small_patch4_window7_224\",\"resnetrs101\",\"regnetz_040\",\"regnetz_040h\",\"regnetz_d32\",\"repvgg_b3\",\"resnet101d\",\"regnety_040\",\"regnetv_040\",\"resnetv2_50d_evos\",\"swin_s3_small_224\",\"repvgg_b2g4\",\"swin_base_patch4_window7_224\",\"regnetx_120\",\"regnety_120\",\"crossvit_base_240\",\"resnet152d\",\"convit_base\",\"swin_s3_base_224\",\"repvgg_b3g4\",\"resnetrs152\",\"regnetx_160\",\"regnetz_e8\",\"regnetz_c16_evos\",\"regnety_080\",\"resnet200d\",\"regnety_064\",\"regnetv_064\",\"swin_large_patch4_window7_224\",\"resnetrs200\",\"regnety_320\",\"regnety_160\",\"regnetz_d8_evos\",\"crossvit_15_dagger_408\",\"resnetrs270\",\"resnetv2_152x2_bit_teacher\",\"regnetx_320\",\"crossvit_18_dagger_408\",\"swin_base_patch4_window12_384\",\"resnetrs350\",\"resnetrs420\",\"swin_large_patch4_window12_384\",\"resnetv2_152x2_bit_teacher_384\",\"resnetv2_50x3_bitm\",\"resnetv2_152x2_bitm\",\"resnetv2_101x3_bitm\",\"resnetv2_152x4_bitm\"],\"legendgroup\":\"\",\"marker\":{\"color\":[224,224,224,224,224,224,224,224,224,224,224,224,224,224,224,224,224,224,256,224,224,224,240,256,224,224,240,240,224,256,224,256,224,224,256,224,288,224,224,256,224,224,224,224,288,240,224,320,240,288,224,240,224,224,224,224,224,224,224,224,288,224,224,224,224,240,240,224,224,320,224,288,320,320,320,224,320,288,288,288,224,224,224,224,224,240,320,224,224,224,320,224,320,320,288,320,288,288,224,320,224,288,320,408,352,224,224,408,384,384,416,384,384,448,448,448,480],\"coloraxis\":\"coloraxis\",\"symbol\":\"circle\"},\"mode\":\"markers\",\"name\":\"\",\"orientation\":\"v\",\"showlegend\":false,\"x\":[7.78,2.68,3.16,9.21,5.16,10.95,11.69,6.06,4.34,18.89,11.71,7.26,6.2,6.26,21.8,16.0,39.13,21.82,1.27,15.82,16.01,28.21,7.01,16.01,9.19,25.55,8.55,8.78,25.56,17.96,11.2,19.68,25.58,5.71,2.32,35.69,9.72,25.56,132.87,5.58,44.54,44.55,133.05,57.42,35.7,26.86,28.29,13.46,27.53,36.85,28.33,28.21,133.05,138.36,39.97,15.3,22.12,25.55,60.19,27.78,19.44,143.67,138.37,39.57,89.02,43.27,44.27,26.21,143.68,23.37,49.61,63.62,27.12,28.94,27.58,123.09,44.57,20.65,20.64,25.59,49.74,61.76,87.77,46.11,51.82,105.03,60.21,86.54,71.13,83.83,86.62,54.28,57.7,13.49,39.18,64.69,30.58,30.58,196.53,93.21,145.05,83.59,23.46,28.5,129.86,236.34,107.81,44.61,87.9,163.96,191.89,196.74,236.34,217.32,236.34,387.93,936.53],\"xaxis\":\"x\",\"y\":[0.00004654236751715086,0.00005611048828469115,0.000059976920880845045,0.00006822292249261998,0.00006925193368711838,0.00007756230968148262,0.00009236979323021786,0.00010017450398594352,0.00010468376082691796,0.00010599687945186893,0.00011218547400045547,0.00011822399190402103,0.0001259786970023369,0.00012704688411164372,0.00015969338869370808,0.00017561482751111642,0.00017720128293728847,0.00017947263760167124,0.00019510063290645313,0.00019805588344807372,0.0002044542400742578,0.00025848743492578826,0.00025943432938820195,0.0002638710409448694,0.00026479614668647344,0.00027003891260730673,0.0002746551018558445,0.0002807190900209978,0.00028338807446305045,0.00029286350217890445,0.00029335406368716726,0.00029674294938752255,0.00031235065734195835,0.0003142578800163414,0.00032276493352656195,0.000351576645466595,0.00036824952587873543,0.00038181346121538863,0.0003856239395341663,0.0004140683875348853,0.0004473172150030194,0.00046063207933926936,0.000495051955702751,0.0005164995790528431,0.000534896657965681,0.0005422640609070993,0.0005460184335823177,0.0005641494319015222,0.0005881107530170082,0.0005959830740806961,0.000599319173418996,0.0006054331571522846,0.000609002271578473,0.00061273383454961,0.0006192755714365336,0.0006228278877415016,0.0006304057291272663,0.0006401843730994526,0.0006634335339114052,0.0007307163943530237,0.0007311277645768598,0.0007314379338341244,0.0007335465508641178,0.0007938902208602596,0.0008039813154742284,0.0008294969101240098,0.0008531185749507324,0.0008572212316554657,0.0008591212907438273,0.0008748829844008363,0.0008899409969119047,0.0009125586318920991,0.000961917679085024,0.0009669590106075403,0.0009901872444079175,0.0009981932701809725,0.0010008807750820723,0.0011773986554107355,0.0011776343680813981,0.0011976191331632715,0.0012179822905374956,0.0012302090125112257,0.001254390366281987,0.0012854296548621376,0.0013256445946841651,0.0013383297644539614,0.0014054023666975855,0.0014544608313698112,0.001502765087761481,0.0015526503741887404,0.0015921792156925183,0.001604157977477622,0.0016463344363774057,0.00167117884956048,0.0018643499011894553,0.0019066503965832825,0.0021192726656211586,0.0021355201059217975,0.002185123678000175,0.0021917327839389824,0.002407666008571291,0.0024128362890577875,0.002579646588417387,0.002823662289990117,0.0034781398907864076,0.0035710459593614975,0.0038134462113411888,0.0038593647485623862,0.004700352526439483,0.005297171310520182,0.007450454477723141,0.007950389569088886,0.010310341272296113,0.01076194575979337,0.014216661927779357,0.017295053614666205,0.05461496450027308],\"yaxis\":\"y\",\"type\":\"scatter\"}],                        {\"template\":{\"data\":{\"histogram2dcontour\":[{\"type\":\"histogram2dcontour\",\"colorbar\":{\"outlinewidth\":0,\"ticks\":\"\"},\"colorscale\":[[0.0,\"#0d0887\"],[0.1111111111111111,\"#46039f\"],[0.2222222222222222,\"#7201a8\"],[0.3333333333333333,\"#9c179e\"],[0.4444444444444444,\"#bd3786\"],[0.5555555555555556,\"#d8576b\"],[0.6666666666666666,\"#ed7953\"],[0.7777777777777778,\"#fb9f3a\"],[0.8888888888888888,\"#fdca26\"],[1.0,\"#f0f921\"]]}],\"choropleth\":[{\"type\":\"choropleth\",\"colorbar\":{\"outlinewidth\":0,\"ticks\":\"\"}}],\"histogram2d\":[{\"type\":\"histogram2d\",\"colorbar\":{\"outlinewidth\":0,\"ticks\":\"\"},\"colorscale\":[[0.0,\"#0d0887\"],[0.1111111111111111,\"#46039f\"],[0.2222222222222222,\"#7201a8\"],[0.3333333333333333,\"#9c179e\"],[0.4444444444444444,\"#bd3786\"],[0.5555555555555556,\"#d8576b\"],[0.6666666666666666,\"#ed7953\"],[0.7777777777777778,\"#fb9f3a\"],[0.8888888888888888,\"#fdca26\"],[1.0,\"#f0f921\"]]}],\"heatmap\":[{\"type\":\"heatmap\",\"colorbar\":{\"outlinewidth\":0,\"ticks\":\"\"},\"colorscale\":[[0.0,\"#0d0887\"],[0.1111111111111111,\"#46039f\"],[0.2222222222222222,\"#7201a8\"],[0.3333333333333333,\"#9c179e\"],[0.4444444444444444,\"#bd3786\"],[0.5555555555555556,\"#d8576b\"],[0.6666666666666666,\"#ed7953\"],[0.7777777777777778,\"#fb9f3a\"],[0.8888888888888888,\"#fdca26\"],[1.0,\"#f0f921\"]]}],\"heatmapgl\":[{\"type\":\"heatmapgl\",\"colorbar\":{\"outlinewidth\":0,\"ticks\":\"\"},\"colorscale\":[[0.0,\"#0d0887\"],[0.1111111111111111,\"#46039f\"],[0.2222222222222222,\"#7201a8\"],[0.3333333333333333,\"#9c179e\"],[0.4444444444444444,\"#bd3786\"],[0.5555555555555556,\"#d8576b\"],[0.6666666666666666,\"#ed7953\"],[0.7777777777777778,\"#fb9f3a\"],[0.8888888888888888,\"#fdca26\"],[1.0,\"#f0f921\"]]}],\"contourcarpet\":[{\"type\":\"contourcarpet\",\"colorbar\":{\"outlinewidth\":0,\"ticks\":\"\"}}],\"contour\":[{\"type\":\"contour\",\"colorbar\":{\"outlinewidth\":0,\"ticks\":\"\"},\"colorscale\":[[0.0,\"#0d0887\"],[0.1111111111111111,\"#46039f\"],[0.2222222222222222,\"#7201a8\"],[0.3333333333333333,\"#9c179e\"],[0.4444444444444444,\"#bd3786\"],[0.5555555555555556,\"#d8576b\"],[0.6666666666666666,\"#ed7953\"],[0.7777777777777778,\"#fb9f3a\"],[0.8888888888888888,\"#fdca26\"],[1.0,\"#f0f921\"]]}],\"surface\":[{\"type\":\"surface\",\"colorbar\":{\"outlinewidth\":0,\"ticks\":\"\"},\"colorscale\":[[0.0,\"#0d0887\"],[0.1111111111111111,\"#46039f\"],[0.2222222222222222,\"#7201a8\"],[0.3333333333333333,\"#9c179e\"],[0.4444444444444444,\"#bd3786\"],[0.5555555555555556,\"#d8576b\"],[0.6666666666666666,\"#ed7953\"],[0.7777777777777778,\"#fb9f3a\"],[0.8888888888888888,\"#fdca26\"],[1.0,\"#f0f921\"]]}],\"mesh3d\":[{\"type\":\"mesh3d\",\"colorbar\":{\"outlinewidth\":0,\"ticks\":\"\"}}],\"scatter\":[{\"fillpattern\":{\"fillmode\":\"overlay\",\"size\":10,\"solidity\":0.2},\"type\":\"scatter\"}],\"parcoords\":[{\"type\":\"parcoords\",\"line\":{\"colorbar\":{\"outlinewidth\":0,\"ticks\":\"\"}}}],\"scatterpolargl\":[{\"type\":\"scatterpolargl\",\"marker\":{\"colorbar\":{\"outlinewidth\":0,\"ticks\":\"\"}}}],\"bar\":[{\"error_x\":{\"color\":\"#2a3f5f\"},\"error_y\":{\"color\":\"#2a3f5f\"},\"marker\":{\"line\":{\"color\":\"#E5ECF6\",\"width\":0.5},\"pattern\":{\"fillmode\":\"overlay\",\"size\":10,\"solidity\":0.2}},\"type\":\"bar\"}],\"scattergeo\":[{\"type\":\"scattergeo\",\"marker\":{\"colorbar\":{\"outlinewidth\":0,\"ticks\":\"\"}}}],\"scatterpolar\":[{\"type\":\"scatterpolar\",\"marker\":{\"colorbar\":{\"outlinewidth\":0,\"ticks\":\"\"}}}],\"histogram\":[{\"marker\":{\"pattern\":{\"fillmode\":\"overlay\",\"size\":10,\"solidity\":0.2}},\"type\":\"histogram\"}],\"scattergl\":[{\"type\":\"scattergl\",\"marker\":{\"colorbar\":{\"outlinewidth\":0,\"ticks\":\"\"}}}],\"scatter3d\":[{\"type\":\"scatter3d\",\"line\":{\"colorbar\":{\"outlinewidth\":0,\"ticks\":\"\"}},\"marker\":{\"colorbar\":{\"outlinewidth\":0,\"ticks\":\"\"}}}],\"scattermapbox\":[{\"type\":\"scattermapbox\",\"marker\":{\"colorbar\":{\"outlinewidth\":0,\"ticks\":\"\"}}}],\"scatterternary\":[{\"type\":\"scatterternary\",\"marker\":{\"colorbar\":{\"outlinewidth\":0,\"ticks\":\"\"}}}],\"scattercarpet\":[{\"type\":\"scattercarpet\",\"marker\":{\"colorbar\":{\"outlinewidth\":0,\"ticks\":\"\"}}}],\"carpet\":[{\"aaxis\":{\"endlinecolor\":\"#2a3f5f\",\"gridcolor\":\"white\",\"linecolor\":\"white\",\"minorgridcolor\":\"white\",\"startlinecolor\":\"#2a3f5f\"},\"baxis\":{\"endlinecolor\":\"#2a3f5f\",\"gridcolor\":\"white\",\"linecolor\":\"white\",\"minorgridcolor\":\"white\",\"startlinecolor\":\"#2a3f5f\"},\"type\":\"carpet\"}],\"table\":[{\"cells\":{\"fill\":{\"color\":\"#EBF0F8\"},\"line\":{\"color\":\"white\"}},\"header\":{\"fill\":{\"color\":\"#C8D4E3\"},\"line\":{\"color\":\"white\"}},\"type\":\"table\"}],\"barpolar\":[{\"marker\":{\"line\":{\"color\":\"#E5ECF6\",\"width\":0.5},\"pattern\":{\"fillmode\":\"overlay\",\"size\":10,\"solidity\":0.2}},\"type\":\"barpolar\"}],\"pie\":[{\"automargin\":true,\"type\":\"pie\"}]},\"layout\":{\"autotypenumbers\":\"strict\",\"colorway\":[\"#636efa\",\"#EF553B\",\"#00cc96\",\"#ab63fa\",\"#FFA15A\",\"#19d3f3\",\"#FF6692\",\"#B6E880\",\"#FF97FF\",\"#FECB52\"],\"font\":{\"color\":\"#2a3f5f\"},\"hovermode\":\"closest\",\"hoverlabel\":{\"align\":\"left\"},\"paper_bgcolor\":\"white\",\"plot_bgcolor\":\"#E5ECF6\",\"polar\":{\"bgcolor\":\"#E5ECF6\",\"angularaxis\":{\"gridcolor\":\"white\",\"linecolor\":\"white\",\"ticks\":\"\"},\"radialaxis\":{\"gridcolor\":\"white\",\"linecolor\":\"white\",\"ticks\":\"\"}},\"ternary\":{\"bgcolor\":\"#E5ECF6\",\"aaxis\":{\"gridcolor\":\"white\",\"linecolor\":\"white\",\"ticks\":\"\"},\"baxis\":{\"gridcolor\":\"white\",\"linecolor\":\"white\",\"ticks\":\"\"},\"caxis\":{\"gridcolor\":\"white\",\"linecolor\":\"white\",\"ticks\":\"\"}},\"coloraxis\":{\"colorbar\":{\"outlinewidth\":0,\"ticks\":\"\"}},\"colorscale\":{\"sequential\":[[0.0,\"#0d0887\"],[0.1111111111111111,\"#46039f\"],[0.2222222222222222,\"#7201a8\"],[0.3333333333333333,\"#9c179e\"],[0.4444444444444444,\"#bd3786\"],[0.5555555555555556,\"#d8576b\"],[0.6666666666666666,\"#ed7953\"],[0.7777777777777778,\"#fb9f3a\"],[0.8888888888888888,\"#fdca26\"],[1.0,\"#f0f921\"]],\"sequentialminus\":[[0.0,\"#0d0887\"],[0.1111111111111111,\"#46039f\"],[0.2222222222222222,\"#7201a8\"],[0.3333333333333333,\"#9c179e\"],[0.4444444444444444,\"#bd3786\"],[0.5555555555555556,\"#d8576b\"],[0.6666666666666666,\"#ed7953\"],[0.7777777777777778,\"#fb9f3a\"],[0.8888888888888888,\"#fdca26\"],[1.0,\"#f0f921\"]],\"diverging\":[[0,\"#8e0152\"],[0.1,\"#c51b7d\"],[0.2,\"#de77ae\"],[0.3,\"#f1b6da\"],[0.4,\"#fde0ef\"],[0.5,\"#f7f7f7\"],[0.6,\"#e6f5d0\"],[0.7,\"#b8e186\"],[0.8,\"#7fbc41\"],[0.9,\"#4d9221\"],[1,\"#276419\"]]},\"xaxis\":{\"gridcolor\":\"white\",\"linecolor\":\"white\",\"ticks\":\"\",\"title\":{\"standoff\":15},\"zerolinecolor\":\"white\",\"automargin\":true,\"zerolinewidth\":2},\"yaxis\":{\"gridcolor\":\"white\",\"linecolor\":\"white\",\"ticks\":\"\",\"title\":{\"standoff\":15},\"zerolinecolor\":\"white\",\"automargin\":true,\"zerolinewidth\":2},\"scene\":{\"xaxis\":{\"backgroundcolor\":\"#E5ECF6\",\"gridcolor\":\"white\",\"linecolor\":\"white\",\"showbackground\":true,\"ticks\":\"\",\"zerolinecolor\":\"white\",\"gridwidth\":2},\"yaxis\":{\"backgroundcolor\":\"#E5ECF6\",\"gridcolor\":\"white\",\"linecolor\":\"white\",\"showbackground\":true,\"ticks\":\"\",\"zerolinecolor\":\"white\",\"gridwidth\":2},\"zaxis\":{\"backgroundcolor\":\"#E5ECF6\",\"gridcolor\":\"white\",\"linecolor\":\"white\",\"showbackground\":true,\"ticks\":\"\",\"zerolinecolor\":\"white\",\"gridwidth\":2}},\"shapedefaults\":{\"line\":{\"color\":\"#2a3f5f\"}},\"annotationdefaults\":{\"arrowcolor\":\"#2a3f5f\",\"arrowhead\":0,\"arrowwidth\":1},\"geo\":{\"bgcolor\":\"white\",\"landcolor\":\"#E5ECF6\",\"subunitcolor\":\"white\",\"showland\":true,\"showlakes\":true,\"lakecolor\":\"white\"},\"title\":{\"x\":0.05},\"mapbox\":{\"style\":\"light\"}}},\"xaxis\":{\"anchor\":\"y\",\"domain\":[0.0,1.0],\"title\":{\"text\":\"param_count_x\"},\"type\":\"log\"},\"yaxis\":{\"anchor\":\"x\",\"domain\":[0.0,1.0],\"title\":{\"text\":\"secs\"},\"type\":\"log\"},\"coloraxis\":{\"colorbar\":{\"title\":{\"text\":\"infer_img_size\"}},\"colorscale\":[[0.0,\"#0d0887\"],[0.1111111111111111,\"#46039f\"],[0.2222222222222222,\"#7201a8\"],[0.3333333333333333,\"#9c179e\"],[0.4444444444444444,\"#bd3786\"],[0.5555555555555556,\"#d8576b\"],[0.6666666666666666,\"#ed7953\"],[0.7777777777777778,\"#fb9f3a\"],[0.8888888888888888,\"#fdca26\"],[1.0,\"#f0f921\"]]},\"legend\":{\"tracegroupgap\":0},\"margin\":{\"t\":60},\"height\":800,\"width\":1000},                        {\"responsive\": true}                    ).then(function(){\n",
       "                            \n",
       "var gd = document.getElementById('2198d589-6238-47aa-8166-37c364b16cfa');\n",
       "var x = new MutationObserver(function (mutations, observer) {{\n",
       "        var display = window.getComputedStyle(gd).display;\n",
       "        if (!display || display === 'none') {{\n",
       "            console.log([gd, 'removed!']);\n",
       "            Plotly.purge(gd);\n",
       "            observer.disconnect();\n",
       "        }}\n",
       "}});\n",
       "\n",
       "// Listen for the removal of the full notebook cells\n",
       "var notebookContainer = gd.closest('#notebook-container');\n",
       "if (notebookContainer) {{\n",
       "    x.observe(notebookContainer, {childList: true});\n",
       "}}\n",
       "\n",
       "// Listen for the clearing of the current output cell\n",
       "var outputEl = gd.closest('.output');\n",
       "if (outputEl) {{\n",
       "    x.observe(outputEl, {childList: true});\n",
       "}}\n",
       "\n",
       "                        })                };                });            </script>        </div>"
      ]
     },
     "metadata": {},
     "output_type": "display_data"
    }
   ],
   "source": [
    "px.scatter(df, width=w, height=h,\n",
    "    x='param_count_x',  y='secs', log_x=True, log_y=True, color='infer_img_size',\n",
    "    hover_name='model', hover_data=['infer_samples_per_sec', 'family']\n",
    ")"
   ]
  },
  {
   "cell_type": "markdown",
   "id": "9f2ab267",
   "metadata": {
    "papermill": {
     "duration": 0.021409,
     "end_time": "2023-04-25T13:35:40.111517",
     "exception": false,
     "start_time": "2023-04-25T13:35:40.090108",
     "status": "completed"
    },
    "tags": []
   },
   "source": [
    "# Trained model performance\n",
    "\n",
    "We'll now replicate the above analysis for training performance. First we grab the data:"
   ]
  },
  {
   "cell_type": "code",
   "execution_count": 9,
   "id": "5c4b02df",
   "metadata": {
    "execution": {
     "iopub.execute_input": "2023-04-25T13:35:40.155829Z",
     "iopub.status.busy": "2023-04-25T13:35:40.155002Z",
     "iopub.status.idle": "2023-04-25T13:35:40.187991Z",
     "shell.execute_reply": "2023-04-25T13:35:40.187223Z"
    },
    "papermill": {
     "duration": 0.057066,
     "end_time": "2023-04-25T13:35:40.189845",
     "exception": false,
     "start_time": "2023-04-25T13:35:40.132779",
     "status": "completed"
    },
    "tags": []
   },
   "outputs": [
    {
     "data": {
      "text/html": [
       "<div>\n",
       "<style scoped>\n",
       "    .dataframe tbody tr th:only-of-type {\n",
       "        vertical-align: middle;\n",
       "    }\n",
       "\n",
       "    .dataframe tbody tr th {\n",
       "        vertical-align: top;\n",
       "    }\n",
       "\n",
       "    .dataframe thead th {\n",
       "        text-align: right;\n",
       "    }\n",
       "</style>\n",
       "<table border=\"1\" class=\"dataframe\">\n",
       "  <thead>\n",
       "    <tr style=\"text-align: right;\">\n",
       "      <th></th>\n",
       "      <th>model</th>\n",
       "      <th>train_samples_per_sec</th>\n",
       "      <th>train_step_time</th>\n",
       "      <th>train_batch_size</th>\n",
       "      <th>train_img_size</th>\n",
       "      <th>param_count_x</th>\n",
       "      <th>top1</th>\n",
       "      <th>top1_err</th>\n",
       "      <th>top5</th>\n",
       "      <th>top5_err</th>\n",
       "      <th>param_count_y</th>\n",
       "      <th>img_size</th>\n",
       "      <th>crop_pct</th>\n",
       "      <th>interpolation</th>\n",
       "      <th>secs</th>\n",
       "      <th>family</th>\n",
       "    </tr>\n",
       "  </thead>\n",
       "  <tbody>\n",
       "    <tr>\n",
       "      <th>0</th>\n",
       "      <td>levit_128s</td>\n",
       "      <td>6303.14</td>\n",
       "      <td>80.293</td>\n",
       "      <td>512</td>\n",
       "      <td>224</td>\n",
       "      <td>7.78</td>\n",
       "      <td>76.530</td>\n",
       "      <td>23.470</td>\n",
       "      <td>92.866</td>\n",
       "      <td>7.134</td>\n",
       "      <td>7.78</td>\n",
       "      <td>224</td>\n",
       "      <td>0.900</td>\n",
       "      <td>bicubic</td>\n",
       "      <td>0.000159</td>\n",
       "      <td>levit</td>\n",
       "    </tr>\n",
       "    <tr>\n",
       "      <th>1</th>\n",
       "      <td>levit_128</td>\n",
       "      <td>4434.56</td>\n",
       "      <td>114.332</td>\n",
       "      <td>512</td>\n",
       "      <td>224</td>\n",
       "      <td>9.21</td>\n",
       "      <td>78.486</td>\n",
       "      <td>21.514</td>\n",
       "      <td>94.010</td>\n",
       "      <td>5.990</td>\n",
       "      <td>9.21</td>\n",
       "      <td>224</td>\n",
       "      <td>0.900</td>\n",
       "      <td>bicubic</td>\n",
       "      <td>0.000226</td>\n",
       "      <td>levit</td>\n",
       "    </tr>\n",
       "    <tr>\n",
       "      <th>3</th>\n",
       "      <td>levit_192</td>\n",
       "      <td>3823.94</td>\n",
       "      <td>132.765</td>\n",
       "      <td>512</td>\n",
       "      <td>224</td>\n",
       "      <td>10.95</td>\n",
       "      <td>79.842</td>\n",
       "      <td>20.158</td>\n",
       "      <td>94.786</td>\n",
       "      <td>5.214</td>\n",
       "      <td>10.95</td>\n",
       "      <td>224</td>\n",
       "      <td>0.900</td>\n",
       "      <td>bicubic</td>\n",
       "      <td>0.000262</td>\n",
       "      <td>levit</td>\n",
       "    </tr>\n",
       "    <tr>\n",
       "      <th>4</th>\n",
       "      <td>resnet18</td>\n",
       "      <td>3584.19</td>\n",
       "      <td>142.504</td>\n",
       "      <td>512</td>\n",
       "      <td>224</td>\n",
       "      <td>11.69</td>\n",
       "      <td>69.748</td>\n",
       "      <td>30.252</td>\n",
       "      <td>89.078</td>\n",
       "      <td>10.922</td>\n",
       "      <td>11.69</td>\n",
       "      <td>224</td>\n",
       "      <td>0.875</td>\n",
       "      <td>bilinear</td>\n",
       "      <td>0.000279</td>\n",
       "      <td>resnet</td>\n",
       "    </tr>\n",
       "    <tr>\n",
       "      <th>9</th>\n",
       "      <td>levit_256</td>\n",
       "      <td>2923.52</td>\n",
       "      <td>174.041</td>\n",
       "      <td>512</td>\n",
       "      <td>224</td>\n",
       "      <td>18.89</td>\n",
       "      <td>81.510</td>\n",
       "      <td>18.490</td>\n",
       "      <td>95.490</td>\n",
       "      <td>4.510</td>\n",
       "      <td>18.89</td>\n",
       "      <td>224</td>\n",
       "      <td>0.900</td>\n",
       "      <td>bicubic</td>\n",
       "      <td>0.000342</td>\n",
       "      <td>levit</td>\n",
       "    </tr>\n",
       "  </tbody>\n",
       "</table>\n",
       "</div>"
      ],
      "text/plain": [
       "        model  train_samples_per_sec  train_step_time  train_batch_size  \\\n",
       "0  levit_128s                6303.14           80.293               512   \n",
       "1   levit_128                4434.56          114.332               512   \n",
       "3   levit_192                3823.94          132.765               512   \n",
       "4    resnet18                3584.19          142.504               512   \n",
       "9   levit_256                2923.52          174.041               512   \n",
       "\n",
       "   train_img_size  param_count_x    top1  top1_err    top5  top5_err  \\\n",
       "0             224           7.78  76.530    23.470  92.866     7.134   \n",
       "1             224           9.21  78.486    21.514  94.010     5.990   \n",
       "3             224          10.95  79.842    20.158  94.786     5.214   \n",
       "4             224          11.69  69.748    30.252  89.078    10.922   \n",
       "9             224          18.89  81.510    18.490  95.490     4.510   \n",
       "\n",
       "  param_count_y  img_size  crop_pct interpolation      secs  family  \n",
       "0          7.78       224     0.900       bicubic  0.000159   levit  \n",
       "1          9.21       224     0.900       bicubic  0.000226   levit  \n",
       "3         10.95       224     0.900       bicubic  0.000262   levit  \n",
       "4         11.69       224     0.875      bilinear  0.000279  resnet  \n",
       "9         18.89       224     0.900       bicubic  0.000342   levit  "
      ]
     },
     "execution_count": 9,
     "metadata": {},
     "output_type": "execute_result"
    }
   ],
   "source": [
    "tdf = get_data('train', 'train_samples_per_sec')\n",
    "tdf.head()"
   ]
  },
  {
   "cell_type": "markdown",
   "id": "acd0f6bb",
   "metadata": {
    "papermill": {
     "duration": 0.024036,
     "end_time": "2023-04-25T13:35:40.237080",
     "exception": false,
     "start_time": "2023-04-25T13:35:40.213044",
     "status": "completed"
    },
    "tags": []
   },
   "source": [
    "Now we can repeat the same family plot we did above:"
   ]
  },
  {
   "cell_type": "code",
   "execution_count": 10,
   "id": "f2e59626",
   "metadata": {
    "execution": {
     "iopub.execute_input": "2023-04-25T13:35:40.283872Z",
     "iopub.status.busy": "2023-04-25T13:35:40.283087Z",
     "iopub.status.idle": "2023-04-25T13:35:40.420333Z",
     "shell.execute_reply": "2023-04-25T13:35:40.419406Z"
    },
    "papermill": {
     "duration": 0.162634,
     "end_time": "2023-04-25T13:35:40.422845",
     "exception": false,
     "start_time": "2023-04-25T13:35:40.260211",
     "status": "completed"
    },
    "tags": []
   },
   "outputs": [
    {
     "data": {
      "text/html": [
       "<div>                            <div id=\"5de5a8eb-7554-4b72-a226-407e39a681ce\" class=\"plotly-graph-div\" style=\"height:800px; width:1000px;\"></div>            <script type=\"text/javascript\">                require([\"plotly\"], function(Plotly) {                    window.PLOTLYENV=window.PLOTLYENV || {};                                    if (document.getElementById(\"5de5a8eb-7554-4b72-a226-407e39a681ce\")) {                    Plotly.newPlot(                        \"5de5a8eb-7554-4b72-a226-407e39a681ce\",                        [{\"customdata\":[[224],[224],[224],[224],[224]],\"hovertemplate\":\"<b>%{hovertext}</b><br><br>family=levit<br>secs=%{x}<br>top1=%{y}<br>size=%{marker.size}<br>train_img_size=%{customdata[0]}<extra></extra>\",\"hovertext\":[\"levit_128s\",\"levit_128\",\"levit_192\",\"levit_256\",\"levit_384\"],\"legendgroup\":\"levit\",\"marker\":{\"color\":\"#636efa\",\"size\":[50176,50176,50176,50176,50176],\"sizemode\":\"area\",\"sizeref\":576.0,\"symbol\":\"circle\"},\"mode\":\"markers\",\"name\":\"levit\",\"orientation\":\"v\",\"showlegend\":true,\"x\":[0.00015865108501477042,0.00022550151537018326,0.00026151037934695625,0.000342053415061296,0.0005556697765651828],\"xaxis\":\"x\",\"y\":[76.53,78.486,79.842,81.51,82.586],\"yaxis\":\"y\",\"type\":\"scatter\"},{\"customdata\":[[224],[224],[224],[256],[224],[256],[256],[224],[224],[288],[288]],\"hovertemplate\":\"<b>%{hovertext}</b><br><br>family=resnet<br>secs=%{x}<br>top1=%{y}<br>size=%{marker.size}<br>train_img_size=%{customdata[0]}<extra></extra>\",\"hovertext\":[\"resnet18\",\"resnet34\",\"resnet26\",\"resnet26t\",\"resnet50\",\"resnet32ts\",\"resnet33ts\",\"resnet101\",\"resnet152\",\"resnet51q\",\"resnet61q\"],\"legendgroup\":\"resnet\",\"marker\":{\"color\":\"#EF553B\",\"size\":[50176,50176,50176,65536,50176,65536,65536,50176,50176,82944,82944],\"sizemode\":\"area\",\"sizeref\":576.0,\"symbol\":\"circle\"},\"mode\":\"markers\",\"name\":\"resnet\",\"orientation\":\"v\",\"showlegend\":true,\"x\":[0.000279003066243698,0.0004805543675183692,0.0005087349795997273,0.000814431730260211,0.0008179223137386412,0.0009786938352075321,0.0009906973518659784,0.0013745704467353953,0.0020006802312786346,0.0035980282805022847,0.004809773459670049],\"xaxis\":\"x\",\"y\":[69.748,75.11,75.292,77.882,80.374,79.004,79.214,81.938,82.822,82.36,82.524],\"yaxis\":\"y\",\"type\":\"scatter\"},{\"customdata\":[[224],[224],[224],[224],[320],[320],[320]],\"hovertemplate\":\"<b>%{hovertext}</b><br><br>family=resnetd<br>secs=%{x}<br>top1=%{y}<br>size=%{marker.size}<br>train_img_size=%{customdata[0]}<extra></extra>\",\"hovertext\":[\"resnet18d\",\"resnet34d\",\"resnet26d\",\"resnet50d\",\"resnet101d\",\"resnet152d\",\"resnet200d\"],\"legendgroup\":\"resnetd\",\"marker\":{\"color\":\"#00cc96\",\"size\":[50176,50176,50176,50176,102400,102400,102400],\"sizemode\":\"area\",\"sizeref\":576.0,\"symbol\":\"circle\"},\"mode\":\"markers\",\"name\":\"resnetd\",\"orientation\":\"v\",\"showlegend\":true,\"x\":[0.0003533543932551713,0.0005558550996926121,0.0006213611537433903,0.0009343960531110716,0.003054274457102715,0.0046277014207043365,0.006017209218364523],\"xaxis\":\"x\",\"y\":[72.26,77.116,76.696,80.53,83.022,83.68,83.962],\"yaxis\":\"y\",\"type\":\"scatter\"},{\"customdata\":[[224],[224],[224],[224],[224],[224],[224],[224],[224],[224],[224],[224]],\"hovertemplate\":\"<b>%{hovertext}</b><br><br>family=regnetx<br>secs=%{x}<br>top1=%{y}<br>size=%{marker.size}<br>train_img_size=%{customdata[0]}<extra></extra>\",\"hovertext\":[\"regnetx_002\",\"regnetx_004\",\"regnetx_006\",\"regnetx_008\",\"regnetx_016\",\"regnetx_032\",\"regnetx_040\",\"regnetx_080\",\"regnetx_064\",\"regnetx_120\",\"regnetx_160\",\"regnetx_320\"],\"legendgroup\":\"regnetx\",\"marker\":{\"color\":\"#ab63fa\",\"size\":[50176,50176,50176,50176,50176,50176,50176,50176,50176,50176,50176,50176],\"sizemode\":\"area\",\"sizeref\":576.0,\"symbol\":\"circle\"},\"mode\":\"markers\",\"name\":\"regnetx\",\"orientation\":\"v\",\"showlegend\":true,\"x\":[0.0004215904922912179,0.0008689456213830139,0.0012649261283141065,0.001689760054072322,0.002637061258933045,0.005628095452498874,0.006177796997590659,0.0066657778962804955,0.008056070248932571,0.012896569512509672,0.015382248884786955,0.021663778162911613],\"xaxis\":\"x\",\"y\":[68.762,72.396,73.852,75.038,76.95,78.172,78.482,79.194,79.072,79.596,79.856,80.246],\"yaxis\":\"y\",\"type\":\"scatter\"},{\"customdata\":[[224],[224],[224],[224],[224],[288],[288],[224],[288],[224],[288],[288]],\"hovertemplate\":\"<b>%{hovertext}</b><br><br>family=regnety<br>secs=%{x}<br>top1=%{y}<br>size=%{marker.size}<br>train_img_size=%{customdata[0]}<extra></extra>\",\"hovertext\":[\"regnety_002\",\"regnety_004\",\"regnety_006\",\"regnety_008\",\"regnety_016\",\"regnety_032\",\"regnety_040\",\"regnety_120\",\"regnety_064\",\"regnety_320\",\"regnety_080\",\"regnety_160\"],\"legendgroup\":\"regnety\",\"marker\":{\"color\":\"#FFA15A\",\"size\":[50176,50176,50176,50176,50176,82944,82944,50176,82944,50176,82944,82944],\"sizemode\":\"area\",\"sizeref\":576.0,\"symbol\":\"circle\"},\"mode\":\"markers\",\"name\":\"regnety\",\"orientation\":\"v\",\"showlegend\":true,\"x\":[0.00044342751733801594,0.0009734728644439036,0.0012694221590332081,0.0015109848599317035,0.002829975096219153,0.005617661929105107,0.008316008316008316,0.013273161667109104,0.013757050488375293,0.014817009927396653,0.015278838808250572,0.02077274615704196],\"xaxis\":\"x\",\"y\":[70.252,74.034,75.246,76.316,77.862,82.724,83.038,80.366,83.716,80.81,83.932,83.686],\"yaxis\":\"y\",\"type\":\"scatter\"},{\"customdata\":[[224],[224],[224],[224],[224],[224],[224],[224]],\"hovertemplate\":\"<b>%{hovertext}</b><br><br>family=repvgg<br>secs=%{x}<br>top1=%{y}<br>size=%{marker.size}<br>train_img_size=%{customdata[0]}<extra></extra>\",\"hovertext\":[\"repvgg_b0\",\"repvgg_a2\",\"repvgg_b1\",\"repvgg_b2\",\"repvgg_b3\",\"repvgg_b1g4\",\"repvgg_b2g4\",\"repvgg_b3g4\"],\"legendgroup\":\"repvgg\",\"marker\":{\"color\":\"#19d3f3\",\"size\":[50176,50176,50176,50176,50176,50176,50176,50176],\"sizemode\":\"area\",\"sizeref\":576.0,\"symbol\":\"circle\"},\"mode\":\"markers\",\"name\":\"repvgg\",\"orientation\":\"v\",\"showlegend\":true,\"x\":[0.0006304573968414084,0.0008755494072530513,0.0015941081761808359,0.0026313712075362473,0.003168969451134491,0.0056050669805504175,0.00977230528681716,0.011799410029498525],\"xaxis\":\"x\",\"y\":[75.152,76.46,78.366,78.792,80.492,77.594,79.366,80.212],\"yaxis\":\"y\",\"type\":\"scatter\"},{\"customdata\":[[256],[256],[256]],\"hovertemplate\":\"<b>%{hovertext}</b><br><br>family=mobilevit<br>secs=%{x}<br>top1=%{y}<br>size=%{marker.size}<br>train_img_size=%{customdata[0]}<extra></extra>\",\"hovertext\":[\"mobilevit_xxs\",\"mobilevit_xs\",\"mobilevit_s\"],\"legendgroup\":\"mobilevit\",\"marker\":{\"color\":\"#FF6692\",\"size\":[65536,65536,65536],\"sizemode\":\"area\",\"sizeref\":576.0,\"symbol\":\"circle\"},\"mode\":\"markers\",\"name\":\"mobilevit\",\"orientation\":\"v\",\"showlegend\":true,\"x\":[0.0006599091964945623,0.0010994931336653802,0.0013611738763509651],\"xaxis\":\"x\",\"y\":[68.912,74.644,78.312],\"yaxis\":\"y\",\"type\":\"scatter\"},{\"customdata\":[[240],[240],[240],[240],[240],[240],[240],[240],[240],[408],[408]],\"hovertemplate\":\"<b>%{hovertext}</b><br><br>family=crossvit<br>secs=%{x}<br>top1=%{y}<br>size=%{marker.size}<br>train_img_size=%{customdata[0]}<extra></extra>\",\"hovertext\":[\"crossvit_tiny_240\",\"crossvit_9_240\",\"crossvit_9_dagger_240\",\"crossvit_small_240\",\"crossvit_15_240\",\"crossvit_15_dagger_240\",\"crossvit_18_240\",\"crossvit_18_dagger_240\",\"crossvit_base_240\",\"crossvit_15_dagger_408\",\"crossvit_18_dagger_408\"],\"legendgroup\":\"crossvit\",\"marker\":{\"color\":\"#B6E880\",\"size\":[57600,57600,57600,57600,57600,57600,57600,57600,57600,166464,166464],\"sizemode\":\"area\",\"sizeref\":576.0,\"symbol\":\"circle\"},\"mode\":\"markers\",\"name\":\"crossvit\",\"orientation\":\"v\",\"showlegend\":true,\"x\":[0.0007573864109730144,0.0008087343307723412,0.0008364071295343722,0.0016024613806807258,0.001759138725679907,0.0018183140592043056,0.0024990628514307135,0.002577651759247326,0.004000160006400256,0.008588851670531649,0.011364927832708264],\"xaxis\":\"x\",\"y\":[73.324,73.964,76.98,81.02,81.536,82.332,82.4,82.518,82.216,83.838,84.196],\"yaxis\":\"y\",\"type\":\"scatter\"},{\"customdata\":[[224],[224],[448],[448],[224],[448],[384],[448],[448],[480]],\"hovertemplate\":\"<b>%{hovertext}</b><br><br>family=resnetv2<br>secs=%{x}<br>top1=%{y}<br>size=%{marker.size}<br>train_img_size=%{customdata[0]}<extra></extra>\",\"hovertext\":[\"resnetv2_50\",\"resnetv2_101\",\"resnetv2_50x1_bitm\",\"resnetv2_101x1_bitm\",\"resnetv2_152x2_bit_teacher\",\"resnetv2_50x3_bitm\",\"resnetv2_152x2_bit_teacher_384\",\"resnetv2_152x2_bitm\",\"resnetv2_101x3_bitm\",\"resnetv2_152x4_bitm\"],\"legendgroup\":\"resnetv2\",\"marker\":{\"color\":\"#FF97FF\",\"size\":[50176,50176,200704,200704,50176,200704,147456,200704,200704,230400],\"sizemode\":\"area\",\"sizeref\":576.0,\"symbol\":\"circle\"},\"mode\":\"markers\",\"name\":\"resnetv2\",\"orientation\":\"v\",\"showlegend\":true,\"x\":[0.0007716049382716049,0.0013201494409167118,0.007103786318107551,0.011508804235239959,0.011574074074074073,0.03143665513989312,0.03342245989304812,0.04599816007359706,0.057045065601825436,0.22271714922048996],\"xaxis\":\"x\",\"y\":[80.432,82.03,80.342,82.332,82.862,84.014,83.844,84.51,84.44,84.916],\"yaxis\":\"y\",\"type\":\"scatter\"},{\"customdata\":[[224],[224],[224]],\"hovertemplate\":\"<b>%{hovertext}</b><br><br>family=convit<br>secs=%{x}<br>top1=%{y}<br>size=%{marker.size}<br>train_img_size=%{customdata[0]}<extra></extra>\",\"hovertext\":[\"convit_tiny\",\"convit_small\",\"convit_base\"],\"legendgroup\":\"convit\",\"marker\":{\"color\":\"#FECB52\",\"size\":[50176,50176,50176],\"sizemode\":\"area\",\"sizeref\":576.0,\"symbol\":\"circle\"},\"mode\":\"markers\",\"name\":\"convit\",\"orientation\":\"v\",\"showlegend\":true,\"x\":[0.0009024537718055393,0.0022212843466092097,0.004373496610540126],\"xaxis\":\"x\",\"y\":[73.116,81.426,82.288],\"yaxis\":\"y\",\"type\":\"scatter\"},{\"customdata\":[[224],[224],[224],[224],[224],[224],[224],[224]],\"hovertemplate\":\"<b>%{hovertext}</b><br><br>family=vgg<br>secs=%{x}<br>top1=%{y}<br>size=%{marker.size}<br>train_img_size=%{customdata[0]}<extra></extra>\",\"hovertext\":[\"vgg11\",\"vgg11_bn\",\"vgg13\",\"vgg13_bn\",\"vgg16\",\"vgg16_bn\",\"vgg19\",\"vgg19_bn\"],\"legendgroup\":\"vgg\",\"marker\":{\"color\":\"#636efa\",\"size\":[50176,50176,50176,50176,50176,50176,50176,50176],\"sizemode\":\"area\",\"sizeref\":576.0,\"symbol\":\"circle\"},\"mode\":\"markers\",\"name\":\"vgg\",\"orientation\":\"v\",\"showlegend\":true,\"x\":[0.001074575542660649,0.0012416499043929573,0.0015078180365193528,0.001758118110374655,0.001863967641521743,0.0021277953911951826,0.0022130748461912982,0.002501626056937009],\"xaxis\":\"x\",\"y\":[69.024,70.36,69.926,71.594,71.594,73.35,72.368,74.214],\"yaxis\":\"y\",\"type\":\"scatter\"},{\"customdata\":[[224]],\"hovertemplate\":\"<b>%{hovertext}</b><br><br>family=resnetblur<br>secs=%{x}<br>top1=%{y}<br>size=%{marker.size}<br>train_img_size=%{customdata[0]}<extra></extra>\",\"hovertext\":[\"resnetblur50\"],\"legendgroup\":\"resnetblur\",\"marker\":{\"color\":\"#EF553B\",\"size\":[50176],\"sizemode\":\"area\",\"sizeref\":576.0,\"symbol\":\"circle\"},\"mode\":\"markers\",\"name\":\"resnetblur\",\"orientation\":\"v\",\"showlegend\":true,\"x\":[0.001099408518217199],\"xaxis\":\"x\",\"y\":[79.286],\"yaxis\":\"y\",\"type\":\"scatter\"},{\"customdata\":[[224],[288],[320],[320],[352],[384],[416]],\"hovertemplate\":\"<b>%{hovertext}</b><br><br>family=resnetrs<br>secs=%{x}<br>top1=%{y}<br>size=%{marker.size}<br>train_img_size=%{customdata[0]}<extra></extra>\",\"hovertext\":[\"resnetrs50\",\"resnetrs101\",\"resnetrs152\",\"resnetrs200\",\"resnetrs270\",\"resnetrs350\",\"resnetrs420\"],\"legendgroup\":\"resnetrs\",\"marker\":{\"color\":\"#00cc96\",\"size\":[50176,82944,102400,102400,123904,147456,173056],\"sizemode\":\"area\",\"sizeref\":576.0,\"symbol\":\"circle\"},\"mode\":\"markers\",\"name\":\"resnetrs\",\"orientation\":\"v\",\"showlegend\":true,\"x\":[0.0011601466425356164,0.0031080997078386276,0.00584316933504733,0.00808080808080808,0.013285505513484789,0.021177467174925878,0.03105590062111801],\"xaxis\":\"x\",\"y\":[79.892,82.288,83.712,84.448,84.434,84.72,85.008],\"yaxis\":\"y\",\"type\":\"scatter\"},{\"customdata\":[[224],[224],[224],[224],[224],[224],[224],[384],[384]],\"hovertemplate\":\"<b>%{hovertext}</b><br><br>family=swin<br>secs=%{x}<br>top1=%{y}<br>size=%{marker.size}<br>train_img_size=%{customdata[0]}<extra></extra>\",\"hovertext\":[\"swin_tiny_patch4_window7_224\",\"swin_s3_tiny_224\",\"swin_small_patch4_window7_224\",\"swin_s3_small_224\",\"swin_base_patch4_window7_224\",\"swin_s3_base_224\",\"swin_large_patch4_window7_224\",\"swin_base_patch4_window12_384\",\"swin_large_patch4_window12_384\"],\"legendgroup\":\"swin\",\"marker\":{\"color\":\"#ab63fa\",\"size\":[50176,50176,50176,50176,50176,50176,50176,147456,147456],\"sizemode\":\"area\",\"sizeref\":576.0,\"symbol\":\"circle\"},\"mode\":\"markers\",\"name\":\"swin\",\"orientation\":\"v\",\"showlegend\":true,\"x\":[0.0015640885274106513,0.0017278319165111619,0.002542071279678682,0.003609456776755098,0.0036254214552441724,0.004564750992833341,0.006607201850016518,0.013585110718652357,0.024378352023403216],\"xaxis\":\"x\",\"y\":[81.378,82.122,83.212,83.77,85.252,83.93,86.32,86.432,87.148],\"yaxis\":\"y\",\"type\":\"scatter\"},{\"customdata\":[[224],[288]],\"hovertemplate\":\"<b>%{hovertext}</b><br><br>family=resnetv2d<br>secs=%{x}<br>top1=%{y}<br>size=%{marker.size}<br>train_img_size=%{customdata[0]}<extra></extra>\",\"hovertext\":[\"resnetv2_50x1_bit_distilled\",\"resnetv2_50d_evos\"],\"legendgroup\":\"resnetv2d\",\"marker\":{\"color\":\"#FFA15A\",\"size\":[50176,82944],\"sizemode\":\"area\",\"sizeref\":576.0,\"symbol\":\"circle\"},\"mode\":\"markers\",\"name\":\"resnetv2d\",\"orientation\":\"v\",\"showlegend\":true,\"x\":[0.001695950071229903,0.004472271914132379],\"xaxis\":\"x\",\"y\":[82.818,81.976],\"yaxis\":\"y\",\"type\":\"scatter\"},{\"customdata\":[[320],[320],[288],[320],[320],[320],[320],[320],[320]],\"hovertemplate\":\"<b>%{hovertext}</b><br><br>family=regnetz<br>secs=%{x}<br>top1=%{y}<br>size=%{marker.size}<br>train_img_size=%{customdata[0]}<extra></extra>\",\"hovertext\":[\"regnetz_d8\",\"regnetz_c16\",\"regnetz_b16\",\"regnetz_e8\",\"regnetz_c16_evos\",\"regnetz_d8_evos\",\"regnetz_040\",\"regnetz_040h\",\"regnetz_d32\"],\"legendgroup\":\"regnetz\",\"marker\":{\"color\":\"#19d3f3\",\"size\":[102400,102400,82944,102400,102400,102400,102400,102400,102400],\"sizemode\":\"area\",\"sizeref\":576.0,\"symbol\":\"circle\"},\"mode\":\"markers\",\"name\":\"regnetz\",\"orientation\":\"v\",\"showlegend\":true,\"x\":[0.0032123353678123997,0.003997441637352095,0.005506607929515419,0.006836671908115129,0.008684324793747285,0.010453690152623877,0.010575296108291032,0.010622477161674103,0.013854253255749514],\"xaxis\":\"x\",\"y\":[84.05,82.518,80.716,85.03,82.63,84.05,84.236,84.494,84.022],\"yaxis\":\"y\",\"type\":\"scatter\"},{\"customdata\":[[288],[288]],\"hovertemplate\":\"<b>%{hovertext}</b><br><br>family=regnetv<br>secs=%{x}<br>top1=%{y}<br>size=%{marker.size}<br>train_img_size=%{customdata[0]}<extra></extra>\",\"hovertext\":[\"regnetv_040\",\"regnetv_064\"],\"legendgroup\":\"regnetv\",\"marker\":{\"color\":\"#FF6692\",\"size\":[82944,82944],\"sizemode\":\"area\",\"sizeref\":576.0,\"symbol\":\"circle\"},\"mode\":\"markers\",\"name\":\"regnetv\",\"orientation\":\"v\",\"showlegend\":true,\"x\":[0.008409014463504878,0.013925637097897228],\"xaxis\":\"x\",\"y\":[83.194,83.712],\"yaxis\":\"y\",\"type\":\"scatter\"}],                        {\"template\":{\"data\":{\"histogram2dcontour\":[{\"type\":\"histogram2dcontour\",\"colorbar\":{\"outlinewidth\":0,\"ticks\":\"\"},\"colorscale\":[[0.0,\"#0d0887\"],[0.1111111111111111,\"#46039f\"],[0.2222222222222222,\"#7201a8\"],[0.3333333333333333,\"#9c179e\"],[0.4444444444444444,\"#bd3786\"],[0.5555555555555556,\"#d8576b\"],[0.6666666666666666,\"#ed7953\"],[0.7777777777777778,\"#fb9f3a\"],[0.8888888888888888,\"#fdca26\"],[1.0,\"#f0f921\"]]}],\"choropleth\":[{\"type\":\"choropleth\",\"colorbar\":{\"outlinewidth\":0,\"ticks\":\"\"}}],\"histogram2d\":[{\"type\":\"histogram2d\",\"colorbar\":{\"outlinewidth\":0,\"ticks\":\"\"},\"colorscale\":[[0.0,\"#0d0887\"],[0.1111111111111111,\"#46039f\"],[0.2222222222222222,\"#7201a8\"],[0.3333333333333333,\"#9c179e\"],[0.4444444444444444,\"#bd3786\"],[0.5555555555555556,\"#d8576b\"],[0.6666666666666666,\"#ed7953\"],[0.7777777777777778,\"#fb9f3a\"],[0.8888888888888888,\"#fdca26\"],[1.0,\"#f0f921\"]]}],\"heatmap\":[{\"type\":\"heatmap\",\"colorbar\":{\"outlinewidth\":0,\"ticks\":\"\"},\"colorscale\":[[0.0,\"#0d0887\"],[0.1111111111111111,\"#46039f\"],[0.2222222222222222,\"#7201a8\"],[0.3333333333333333,\"#9c179e\"],[0.4444444444444444,\"#bd3786\"],[0.5555555555555556,\"#d8576b\"],[0.6666666666666666,\"#ed7953\"],[0.7777777777777778,\"#fb9f3a\"],[0.8888888888888888,\"#fdca26\"],[1.0,\"#f0f921\"]]}],\"heatmapgl\":[{\"type\":\"heatmapgl\",\"colorbar\":{\"outlinewidth\":0,\"ticks\":\"\"},\"colorscale\":[[0.0,\"#0d0887\"],[0.1111111111111111,\"#46039f\"],[0.2222222222222222,\"#7201a8\"],[0.3333333333333333,\"#9c179e\"],[0.4444444444444444,\"#bd3786\"],[0.5555555555555556,\"#d8576b\"],[0.6666666666666666,\"#ed7953\"],[0.7777777777777778,\"#fb9f3a\"],[0.8888888888888888,\"#fdca26\"],[1.0,\"#f0f921\"]]}],\"contourcarpet\":[{\"type\":\"contourcarpet\",\"colorbar\":{\"outlinewidth\":0,\"ticks\":\"\"}}],\"contour\":[{\"type\":\"contour\",\"colorbar\":{\"outlinewidth\":0,\"ticks\":\"\"},\"colorscale\":[[0.0,\"#0d0887\"],[0.1111111111111111,\"#46039f\"],[0.2222222222222222,\"#7201a8\"],[0.3333333333333333,\"#9c179e\"],[0.4444444444444444,\"#bd3786\"],[0.5555555555555556,\"#d8576b\"],[0.6666666666666666,\"#ed7953\"],[0.7777777777777778,\"#fb9f3a\"],[0.8888888888888888,\"#fdca26\"],[1.0,\"#f0f921\"]]}],\"surface\":[{\"type\":\"surface\",\"colorbar\":{\"outlinewidth\":0,\"ticks\":\"\"},\"colorscale\":[[0.0,\"#0d0887\"],[0.1111111111111111,\"#46039f\"],[0.2222222222222222,\"#7201a8\"],[0.3333333333333333,\"#9c179e\"],[0.4444444444444444,\"#bd3786\"],[0.5555555555555556,\"#d8576b\"],[0.6666666666666666,\"#ed7953\"],[0.7777777777777778,\"#fb9f3a\"],[0.8888888888888888,\"#fdca26\"],[1.0,\"#f0f921\"]]}],\"mesh3d\":[{\"type\":\"mesh3d\",\"colorbar\":{\"outlinewidth\":0,\"ticks\":\"\"}}],\"scatter\":[{\"fillpattern\":{\"fillmode\":\"overlay\",\"size\":10,\"solidity\":0.2},\"type\":\"scatter\"}],\"parcoords\":[{\"type\":\"parcoords\",\"line\":{\"colorbar\":{\"outlinewidth\":0,\"ticks\":\"\"}}}],\"scatterpolargl\":[{\"type\":\"scatterpolargl\",\"marker\":{\"colorbar\":{\"outlinewidth\":0,\"ticks\":\"\"}}}],\"bar\":[{\"error_x\":{\"color\":\"#2a3f5f\"},\"error_y\":{\"color\":\"#2a3f5f\"},\"marker\":{\"line\":{\"color\":\"#E5ECF6\",\"width\":0.5},\"pattern\":{\"fillmode\":\"overlay\",\"size\":10,\"solidity\":0.2}},\"type\":\"bar\"}],\"scattergeo\":[{\"type\":\"scattergeo\",\"marker\":{\"colorbar\":{\"outlinewidth\":0,\"ticks\":\"\"}}}],\"scatterpolar\":[{\"type\":\"scatterpolar\",\"marker\":{\"colorbar\":{\"outlinewidth\":0,\"ticks\":\"\"}}}],\"histogram\":[{\"marker\":{\"pattern\":{\"fillmode\":\"overlay\",\"size\":10,\"solidity\":0.2}},\"type\":\"histogram\"}],\"scattergl\":[{\"type\":\"scattergl\",\"marker\":{\"colorbar\":{\"outlinewidth\":0,\"ticks\":\"\"}}}],\"scatter3d\":[{\"type\":\"scatter3d\",\"line\":{\"colorbar\":{\"outlinewidth\":0,\"ticks\":\"\"}},\"marker\":{\"colorbar\":{\"outlinewidth\":0,\"ticks\":\"\"}}}],\"scattermapbox\":[{\"type\":\"scattermapbox\",\"marker\":{\"colorbar\":{\"outlinewidth\":0,\"ticks\":\"\"}}}],\"scatterternary\":[{\"type\":\"scatterternary\",\"marker\":{\"colorbar\":{\"outlinewidth\":0,\"ticks\":\"\"}}}],\"scattercarpet\":[{\"type\":\"scattercarpet\",\"marker\":{\"colorbar\":{\"outlinewidth\":0,\"ticks\":\"\"}}}],\"carpet\":[{\"aaxis\":{\"endlinecolor\":\"#2a3f5f\",\"gridcolor\":\"white\",\"linecolor\":\"white\",\"minorgridcolor\":\"white\",\"startlinecolor\":\"#2a3f5f\"},\"baxis\":{\"endlinecolor\":\"#2a3f5f\",\"gridcolor\":\"white\",\"linecolor\":\"white\",\"minorgridcolor\":\"white\",\"startlinecolor\":\"#2a3f5f\"},\"type\":\"carpet\"}],\"table\":[{\"cells\":{\"fill\":{\"color\":\"#EBF0F8\"},\"line\":{\"color\":\"white\"}},\"header\":{\"fill\":{\"color\":\"#C8D4E3\"},\"line\":{\"color\":\"white\"}},\"type\":\"table\"}],\"barpolar\":[{\"marker\":{\"line\":{\"color\":\"#E5ECF6\",\"width\":0.5},\"pattern\":{\"fillmode\":\"overlay\",\"size\":10,\"solidity\":0.2}},\"type\":\"barpolar\"}],\"pie\":[{\"automargin\":true,\"type\":\"pie\"}]},\"layout\":{\"autotypenumbers\":\"strict\",\"colorway\":[\"#636efa\",\"#EF553B\",\"#00cc96\",\"#ab63fa\",\"#FFA15A\",\"#19d3f3\",\"#FF6692\",\"#B6E880\",\"#FF97FF\",\"#FECB52\"],\"font\":{\"color\":\"#2a3f5f\"},\"hovermode\":\"closest\",\"hoverlabel\":{\"align\":\"left\"},\"paper_bgcolor\":\"white\",\"plot_bgcolor\":\"#E5ECF6\",\"polar\":{\"bgcolor\":\"#E5ECF6\",\"angularaxis\":{\"gridcolor\":\"white\",\"linecolor\":\"white\",\"ticks\":\"\"},\"radialaxis\":{\"gridcolor\":\"white\",\"linecolor\":\"white\",\"ticks\":\"\"}},\"ternary\":{\"bgcolor\":\"#E5ECF6\",\"aaxis\":{\"gridcolor\":\"white\",\"linecolor\":\"white\",\"ticks\":\"\"},\"baxis\":{\"gridcolor\":\"white\",\"linecolor\":\"white\",\"ticks\":\"\"},\"caxis\":{\"gridcolor\":\"white\",\"linecolor\":\"white\",\"ticks\":\"\"}},\"coloraxis\":{\"colorbar\":{\"outlinewidth\":0,\"ticks\":\"\"}},\"colorscale\":{\"sequential\":[[0.0,\"#0d0887\"],[0.1111111111111111,\"#46039f\"],[0.2222222222222222,\"#7201a8\"],[0.3333333333333333,\"#9c179e\"],[0.4444444444444444,\"#bd3786\"],[0.5555555555555556,\"#d8576b\"],[0.6666666666666666,\"#ed7953\"],[0.7777777777777778,\"#fb9f3a\"],[0.8888888888888888,\"#fdca26\"],[1.0,\"#f0f921\"]],\"sequentialminus\":[[0.0,\"#0d0887\"],[0.1111111111111111,\"#46039f\"],[0.2222222222222222,\"#7201a8\"],[0.3333333333333333,\"#9c179e\"],[0.4444444444444444,\"#bd3786\"],[0.5555555555555556,\"#d8576b\"],[0.6666666666666666,\"#ed7953\"],[0.7777777777777778,\"#fb9f3a\"],[0.8888888888888888,\"#fdca26\"],[1.0,\"#f0f921\"]],\"diverging\":[[0,\"#8e0152\"],[0.1,\"#c51b7d\"],[0.2,\"#de77ae\"],[0.3,\"#f1b6da\"],[0.4,\"#fde0ef\"],[0.5,\"#f7f7f7\"],[0.6,\"#e6f5d0\"],[0.7,\"#b8e186\"],[0.8,\"#7fbc41\"],[0.9,\"#4d9221\"],[1,\"#276419\"]]},\"xaxis\":{\"gridcolor\":\"white\",\"linecolor\":\"white\",\"ticks\":\"\",\"title\":{\"standoff\":15},\"zerolinecolor\":\"white\",\"automargin\":true,\"zerolinewidth\":2},\"yaxis\":{\"gridcolor\":\"white\",\"linecolor\":\"white\",\"ticks\":\"\",\"title\":{\"standoff\":15},\"zerolinecolor\":\"white\",\"automargin\":true,\"zerolinewidth\":2},\"scene\":{\"xaxis\":{\"backgroundcolor\":\"#E5ECF6\",\"gridcolor\":\"white\",\"linecolor\":\"white\",\"showbackground\":true,\"ticks\":\"\",\"zerolinecolor\":\"white\",\"gridwidth\":2},\"yaxis\":{\"backgroundcolor\":\"#E5ECF6\",\"gridcolor\":\"white\",\"linecolor\":\"white\",\"showbackground\":true,\"ticks\":\"\",\"zerolinecolor\":\"white\",\"gridwidth\":2},\"zaxis\":{\"backgroundcolor\":\"#E5ECF6\",\"gridcolor\":\"white\",\"linecolor\":\"white\",\"showbackground\":true,\"ticks\":\"\",\"zerolinecolor\":\"white\",\"gridwidth\":2}},\"shapedefaults\":{\"line\":{\"color\":\"#2a3f5f\"}},\"annotationdefaults\":{\"arrowcolor\":\"#2a3f5f\",\"arrowhead\":0,\"arrowwidth\":1},\"geo\":{\"bgcolor\":\"white\",\"landcolor\":\"#E5ECF6\",\"subunitcolor\":\"white\",\"showland\":true,\"showlakes\":true,\"lakecolor\":\"white\"},\"title\":{\"x\":0.05},\"mapbox\":{\"style\":\"light\"}}},\"xaxis\":{\"anchor\":\"y\",\"domain\":[0.0,1.0],\"title\":{\"text\":\"secs\"},\"type\":\"log\"},\"yaxis\":{\"anchor\":\"x\",\"domain\":[0.0,1.0],\"title\":{\"text\":\"top1\"}},\"legend\":{\"title\":{\"text\":\"family\"},\"tracegroupgap\":0,\"itemsizing\":\"constant\"},\"title\":{\"text\":\"Training\"},\"height\":800,\"width\":1000},                        {\"responsive\": true}                    ).then(function(){\n",
       "                            \n",
       "var gd = document.getElementById('5de5a8eb-7554-4b72-a226-407e39a681ce');\n",
       "var x = new MutationObserver(function (mutations, observer) {{\n",
       "        var display = window.getComputedStyle(gd).display;\n",
       "        if (!display || display === 'none') {{\n",
       "            console.log([gd, 'removed!']);\n",
       "            Plotly.purge(gd);\n",
       "            observer.disconnect();\n",
       "        }}\n",
       "}});\n",
       "\n",
       "// Listen for the removal of the full notebook cells\n",
       "var notebookContainer = gd.closest('#notebook-container');\n",
       "if (notebookContainer) {{\n",
       "    x.observe(notebookContainer, {childList: true});\n",
       "}}\n",
       "\n",
       "// Listen for the clearing of the current output cell\n",
       "var outputEl = gd.closest('.output');\n",
       "if (outputEl) {{\n",
       "    x.observe(outputEl, {childList: true});\n",
       "}}\n",
       "\n",
       "                        })                };                });            </script>        </div>"
      ]
     },
     "metadata": {},
     "output_type": "display_data"
    }
   ],
   "source": [
    "show_all(tdf, 'Training', 'train_img_size')"
   ]
  },
  {
   "cell_type": "markdown",
   "id": "2a963f63",
   "metadata": {
    "papermill": {
     "duration": 0.022268,
     "end_time": "2023-04-25T13:35:40.468565",
     "exception": false,
     "start_time": "2023-04-25T13:35:40.446297",
     "status": "completed"
    },
    "tags": []
   },
   "source": [
    "And we also look at a subset of models:"
   ]
  },
  {
   "cell_type": "code",
   "execution_count": 11,
   "id": "1dc5e053",
   "metadata": {
    "execution": {
     "iopub.execute_input": "2023-04-25T13:35:40.514020Z",
     "iopub.status.busy": "2023-04-25T13:35:40.513753Z",
     "iopub.status.idle": "2023-04-25T13:35:40.626299Z",
     "shell.execute_reply": "2023-04-25T13:35:40.625498Z"
    },
    "papermill": {
     "duration": 0.138141,
     "end_time": "2023-04-25T13:35:40.628679",
     "exception": false,
     "start_time": "2023-04-25T13:35:40.490538",
     "status": "completed"
    },
    "tags": []
   },
   "outputs": [
    {
     "data": {
      "text/html": [
       "<div>                            <div id=\"f50adec2-f9ed-4c70-a3e4-733d375480f5\" class=\"plotly-graph-div\" style=\"height:800px; width:1000px;\"></div>            <script type=\"text/javascript\">                require([\"plotly\"], function(Plotly) {                    window.PLOTLYENV=window.PLOTLYENV || {};                                    if (document.getElementById(\"f50adec2-f9ed-4c70-a3e4-733d375480f5\")) {                    Plotly.newPlot(                        \"f50adec2-f9ed-4c70-a3e4-733d375480f5\",                        [{\"customdata\":[[224],[224],[224],[224],[224]],\"hovertemplate\":\"<b>%{hovertext}</b><br><br>family=levit<br>secs=%{x}<br>top1=%{y}<br>size=%{marker.size}<br>train_img_size=%{customdata[0]}<extra></extra>\",\"hovertext\":[\"levit_128s\",\"levit_128\",\"levit_192\",\"levit_256\",\"levit_384\"],\"legendgroup\":\"levit\",\"marker\":{\"color\":\"#636efa\",\"size\":[50176,50176,50176,50176,50176],\"sizemode\":\"area\",\"sizeref\":368.64,\"symbol\":\"circle\"},\"mode\":\"markers\",\"name\":\"levit\",\"orientation\":\"v\",\"showlegend\":true,\"x\":[0.00015865108501477042,0.00022550151537018326,0.00026151037934695625,0.000342053415061296,0.0005556697765651828],\"xaxis\":\"x\",\"y\":[76.53,78.486,79.842,81.51,82.586],\"yaxis\":\"y\",\"type\":\"scatter\"},{\"hovertemplate\":\"<b>OLS trendline</b><br>top1 = 11.4401 * log10(secs) + 120.403<br>R<sup>2</sup>=0.944202<br><br>family=levit<br>secs=%{x}<br>top1=%{y} <b>(trend)</b><extra></extra>\",\"legendgroup\":\"levit\",\"marker\":{\"color\":\"#636efa\",\"symbol\":\"circle\"},\"mode\":\"lines\",\"name\":\"levit\",\"showlegend\":false,\"x\":[0.00015865108501477042,0.00022550151537018326,0.00026151037934695625,0.000342053415061296,0.0005556697765651828],\"xaxis\":\"x\",\"y\":[76.93587257041375,78.68284246652384,79.41888952763452,80.75285719856814,83.16353823685978],\"yaxis\":\"y\",\"type\":\"scatter\"},{\"customdata\":[[224],[224],[224],[256],[224],[256],[256],[224],[224],[288],[288]],\"hovertemplate\":\"<b>%{hovertext}</b><br><br>family=resnet<br>secs=%{x}<br>top1=%{y}<br>size=%{marker.size}<br>train_img_size=%{customdata[0]}<extra></extra>\",\"hovertext\":[\"resnet18\",\"resnet34\",\"resnet26\",\"resnet26t\",\"resnet50\",\"resnet32ts\",\"resnet33ts\",\"resnet101\",\"resnet152\",\"resnet51q\",\"resnet61q\"],\"legendgroup\":\"resnet\",\"marker\":{\"color\":\"#EF553B\",\"size\":[50176,50176,50176,65536,50176,65536,65536,50176,50176,82944,82944],\"sizemode\":\"area\",\"sizeref\":368.64,\"symbol\":\"circle\"},\"mode\":\"markers\",\"name\":\"resnet\",\"orientation\":\"v\",\"showlegend\":true,\"x\":[0.000279003066243698,0.0004805543675183692,0.0005087349795997273,0.000814431730260211,0.0008179223137386412,0.0009786938352075321,0.0009906973518659784,0.0013745704467353953,0.0020006802312786346,0.0035980282805022847,0.004809773459670049],\"xaxis\":\"x\",\"y\":[69.748,75.11,75.292,77.882,80.374,79.004,79.214,81.938,82.822,82.36,82.524],\"yaxis\":\"y\",\"type\":\"scatter\"},{\"hovertemplate\":\"<b>OLS trendline</b><br>top1 = 9.6318 * log10(secs) + 107.366<br>R<sup>2</sup>=0.783987<br><br>family=resnet<br>secs=%{x}<br>top1=%{y} <b>(trend)</b><extra></extra>\",\"legendgroup\":\"resnet\",\"marker\":{\"color\":\"#EF553B\",\"symbol\":\"circle\"},\"mode\":\"lines\",\"name\":\"resnet\",\"showlegend\":false,\"x\":[0.000279003066243698,0.0004805543675183692,0.0005087349795997273,0.000814431730260211,0.0008179223137386412,0.0009786938352075321,0.0009906973518659784,0.0013745704467353953,0.0020006802312786346,0.0035980282805022847,0.004809773459670049],\"xaxis\":\"x\",\"y\":[73.13031127032704,75.40470352735171,75.64308174714776,77.61146707190882,77.62935690569128,78.38000964239907,78.43100185556662,79.80089491068142,81.37098192795938,83.82600268521719,85.04018845574932],\"yaxis\":\"y\",\"type\":\"scatter\"},{\"customdata\":[[224],[224],[224],[224],[320],[320],[320]],\"hovertemplate\":\"<b>%{hovertext}</b><br><br>family=resnetd<br>secs=%{x}<br>top1=%{y}<br>size=%{marker.size}<br>train_img_size=%{customdata[0]}<extra></extra>\",\"hovertext\":[\"resnet18d\",\"resnet34d\",\"resnet26d\",\"resnet50d\",\"resnet101d\",\"resnet152d\",\"resnet200d\"],\"legendgroup\":\"resnetd\",\"marker\":{\"color\":\"#00cc96\",\"size\":[50176,50176,50176,50176,102400,102400,102400],\"sizemode\":\"area\",\"sizeref\":368.64,\"symbol\":\"circle\"},\"mode\":\"markers\",\"name\":\"resnetd\",\"orientation\":\"v\",\"showlegend\":true,\"x\":[0.0003533543932551713,0.0005558550996926121,0.0006213611537433903,0.0009343960531110716,0.003054274457102715,0.0046277014207043365,0.006017209218364523],\"xaxis\":\"x\",\"y\":[72.26,77.116,76.696,80.53,83.022,83.68,83.962],\"yaxis\":\"y\",\"type\":\"scatter\"},{\"hovertemplate\":\"<b>OLS trendline</b><br>top1 = 8.4217 * log10(secs) + 103.687<br>R<sup>2</sup>=0.886480<br><br>family=resnetd<br>secs=%{x}<br>top1=%{y} <b>(trend)</b><extra></extra>\",\"legendgroup\":\"resnetd\",\"marker\":{\"color\":\"#00cc96\",\"symbol\":\"circle\"},\"mode\":\"lines\",\"name\":\"resnetd\",\"showlegend\":false,\"x\":[0.0003533543932551713,0.0005558550996926121,0.0006213611537433903,0.0009343960531110716,0.003054274457102715,0.0046277014207043365,0.006017209218364523],\"xaxis\":\"x\",\"y\":[74.61747678050332,76.2744550068185,76.68191781720965,78.17413225032574,82.5060602554907,84.02581678521597,84.98614110443597],\"yaxis\":\"y\",\"type\":\"scatter\"},{\"customdata\":[[224],[224],[224],[224],[224],[288],[288],[224],[288],[224],[288],[288]],\"hovertemplate\":\"<b>%{hovertext}</b><br><br>family=regnety<br>secs=%{x}<br>top1=%{y}<br>size=%{marker.size}<br>train_img_size=%{customdata[0]}<extra></extra>\",\"hovertext\":[\"regnety_002\",\"regnety_004\",\"regnety_006\",\"regnety_008\",\"regnety_016\",\"regnety_032\",\"regnety_040\",\"regnety_120\",\"regnety_064\",\"regnety_320\",\"regnety_080\",\"regnety_160\"],\"legendgroup\":\"regnety\",\"marker\":{\"color\":\"#ab63fa\",\"size\":[50176,50176,50176,50176,50176,82944,82944,50176,82944,50176,82944,82944],\"sizemode\":\"area\",\"sizeref\":368.64,\"symbol\":\"circle\"},\"mode\":\"markers\",\"name\":\"regnety\",\"orientation\":\"v\",\"showlegend\":true,\"x\":[0.00044342751733801594,0.0009734728644439036,0.0012694221590332081,0.0015109848599317035,0.002829975096219153,0.005617661929105107,0.008316008316008316,0.013273161667109104,0.013757050488375293,0.014817009927396653,0.015278838808250572,0.02077274615704196],\"xaxis\":\"x\",\"y\":[70.252,74.034,75.246,76.316,77.862,82.724,83.038,80.366,83.716,80.81,83.932,83.686],\"yaxis\":\"y\",\"type\":\"scatter\"},{\"hovertemplate\":\"<b>OLS trendline</b><br>top1 = 7.5135 * log10(secs) + 96.8802<br>R<sup>2</sup>=0.885147<br><br>family=regnety<br>secs=%{x}<br>top1=%{y} <b>(trend)</b><extra></extra>\",\"legendgroup\":\"regnety\",\"marker\":{\"color\":\"#ab63fa\",\"symbol\":\"circle\"},\"mode\":\"lines\",\"name\":\"regnety\",\"showlegend\":false,\"x\":[0.00044342751733801594,0.0009734728644439036,0.0012694221590332081,0.0015109848599317035,0.002829975096219153,0.005617661929105107,0.008316008316008316,0.013273161667109104,0.013757050488375293,0.014817009927396653,0.015278838808250572,0.02077274615704196],\"xaxis\":\"x\",\"y\":[71.68607419123339,74.25194263456441,75.11811532944947,75.68654174254237,77.73413883809515,79.97145538667459,81.25144965351272,82.77713644179305,82.89397844130431,83.13617783774733,83.23633108413543,84.23865841894818],\"yaxis\":\"y\",\"type\":\"scatter\"},{\"customdata\":[[224],[224],[224],[224],[224],[224],[224],[224]],\"hovertemplate\":\"<b>%{hovertext}</b><br><br>family=vgg<br>secs=%{x}<br>top1=%{y}<br>size=%{marker.size}<br>train_img_size=%{customdata[0]}<extra></extra>\",\"hovertext\":[\"vgg11\",\"vgg11_bn\",\"vgg13\",\"vgg13_bn\",\"vgg16\",\"vgg16_bn\",\"vgg19\",\"vgg19_bn\"],\"legendgroup\":\"vgg\",\"marker\":{\"color\":\"#FFA15A\",\"size\":[50176,50176,50176,50176,50176,50176,50176,50176],\"sizemode\":\"area\",\"sizeref\":368.64,\"symbol\":\"circle\"},\"mode\":\"markers\",\"name\":\"vgg\",\"orientation\":\"v\",\"showlegend\":true,\"x\":[0.001074575542660649,0.0012416499043929573,0.0015078180365193528,0.001758118110374655,0.001863967641521743,0.0021277953911951826,0.0022130748461912982,0.002501626056937009],\"xaxis\":\"x\",\"y\":[69.024,70.36,69.926,71.594,71.594,73.35,72.368,74.214],\"yaxis\":\"y\",\"type\":\"scatter\"},{\"hovertemplate\":\"<b>OLS trendline</b><br>top1 = 12.958 * log10(secs) + 107.366<br>R<sup>2</sup>=0.887398<br><br>family=vgg<br>secs=%{x}<br>top1=%{y} <b>(trend)</b><extra></extra>\",\"legendgroup\":\"vgg\",\"marker\":{\"color\":\"#FFA15A\",\"symbol\":\"circle\"},\"mode\":\"lines\",\"name\":\"vgg\",\"showlegend\":false,\"x\":[0.001074575542660649,0.0012416499043929573,0.0015078180365193528,0.001758118110374655,0.001863967641521743,0.0021277953911951826,0.0022130748461912982,0.002501626056937009],\"xaxis\":\"x\",\"y\":[68.89683377875009,69.71010679889514,70.8031116267968,71.66739909526987,71.99640701122325,72.74138211097761,72.96252651556347,73.65223306252335],\"yaxis\":\"y\",\"type\":\"scatter\"},{\"customdata\":[[224],[224],[224],[224],[224],[224],[224],[384],[384]],\"hovertemplate\":\"<b>%{hovertext}</b><br><br>family=swin<br>secs=%{x}<br>top1=%{y}<br>size=%{marker.size}<br>train_img_size=%{customdata[0]}<extra></extra>\",\"hovertext\":[\"swin_tiny_patch4_window7_224\",\"swin_s3_tiny_224\",\"swin_small_patch4_window7_224\",\"swin_s3_small_224\",\"swin_base_patch4_window7_224\",\"swin_s3_base_224\",\"swin_large_patch4_window7_224\",\"swin_base_patch4_window12_384\",\"swin_large_patch4_window12_384\"],\"legendgroup\":\"swin\",\"marker\":{\"color\":\"#19d3f3\",\"size\":[50176,50176,50176,50176,50176,50176,50176,147456,147456],\"sizemode\":\"area\",\"sizeref\":368.64,\"symbol\":\"circle\"},\"mode\":\"markers\",\"name\":\"swin\",\"orientation\":\"v\",\"showlegend\":true,\"x\":[0.0015640885274106513,0.0017278319165111619,0.002542071279678682,0.003609456776755098,0.0036254214552441724,0.004564750992833341,0.006607201850016518,0.013585110718652357,0.024378352023403216],\"xaxis\":\"x\",\"y\":[81.378,82.122,83.212,83.77,85.252,83.93,86.32,86.432,87.148],\"yaxis\":\"y\",\"type\":\"scatter\"},{\"hovertemplate\":\"<b>OLS trendline</b><br>top1 = 4.70102 * log10(secs) + 95.3895<br>R<sup>2</sup>=0.857526<br><br>family=swin<br>secs=%{x}<br>top1=%{y} <b>(trend)</b><extra></extra>\",\"legendgroup\":\"swin\",\"marker\":{\"color\":\"#19d3f3\",\"symbol\":\"circle\"},\"mode\":\"lines\",\"name\":\"swin\",\"showlegend\":false,\"x\":[0.0015640885274106513,0.0017278319165111619,0.002542071279678682,0.003609456776755098,0.0036254214552441724,0.004564750992833341,0.006607201850016518,0.013585110718652357,0.024378352023403216],\"xaxis\":\"x\",\"y\":[82.19963247512837,82.40290516970776,83.19120084208586,83.90694991501036,83.91596014131392,84.38633718706168,85.14132263937779,86.61295507329952,87.80673655701408],\"yaxis\":\"y\",\"type\":\"scatter\"}],                        {\"template\":{\"data\":{\"histogram2dcontour\":[{\"type\":\"histogram2dcontour\",\"colorbar\":{\"outlinewidth\":0,\"ticks\":\"\"},\"colorscale\":[[0.0,\"#0d0887\"],[0.1111111111111111,\"#46039f\"],[0.2222222222222222,\"#7201a8\"],[0.3333333333333333,\"#9c179e\"],[0.4444444444444444,\"#bd3786\"],[0.5555555555555556,\"#d8576b\"],[0.6666666666666666,\"#ed7953\"],[0.7777777777777778,\"#fb9f3a\"],[0.8888888888888888,\"#fdca26\"],[1.0,\"#f0f921\"]]}],\"choropleth\":[{\"type\":\"choropleth\",\"colorbar\":{\"outlinewidth\":0,\"ticks\":\"\"}}],\"histogram2d\":[{\"type\":\"histogram2d\",\"colorbar\":{\"outlinewidth\":0,\"ticks\":\"\"},\"colorscale\":[[0.0,\"#0d0887\"],[0.1111111111111111,\"#46039f\"],[0.2222222222222222,\"#7201a8\"],[0.3333333333333333,\"#9c179e\"],[0.4444444444444444,\"#bd3786\"],[0.5555555555555556,\"#d8576b\"],[0.6666666666666666,\"#ed7953\"],[0.7777777777777778,\"#fb9f3a\"],[0.8888888888888888,\"#fdca26\"],[1.0,\"#f0f921\"]]}],\"heatmap\":[{\"type\":\"heatmap\",\"colorbar\":{\"outlinewidth\":0,\"ticks\":\"\"},\"colorscale\":[[0.0,\"#0d0887\"],[0.1111111111111111,\"#46039f\"],[0.2222222222222222,\"#7201a8\"],[0.3333333333333333,\"#9c179e\"],[0.4444444444444444,\"#bd3786\"],[0.5555555555555556,\"#d8576b\"],[0.6666666666666666,\"#ed7953\"],[0.7777777777777778,\"#fb9f3a\"],[0.8888888888888888,\"#fdca26\"],[1.0,\"#f0f921\"]]}],\"heatmapgl\":[{\"type\":\"heatmapgl\",\"colorbar\":{\"outlinewidth\":0,\"ticks\":\"\"},\"colorscale\":[[0.0,\"#0d0887\"],[0.1111111111111111,\"#46039f\"],[0.2222222222222222,\"#7201a8\"],[0.3333333333333333,\"#9c179e\"],[0.4444444444444444,\"#bd3786\"],[0.5555555555555556,\"#d8576b\"],[0.6666666666666666,\"#ed7953\"],[0.7777777777777778,\"#fb9f3a\"],[0.8888888888888888,\"#fdca26\"],[1.0,\"#f0f921\"]]}],\"contourcarpet\":[{\"type\":\"contourcarpet\",\"colorbar\":{\"outlinewidth\":0,\"ticks\":\"\"}}],\"contour\":[{\"type\":\"contour\",\"colorbar\":{\"outlinewidth\":0,\"ticks\":\"\"},\"colorscale\":[[0.0,\"#0d0887\"],[0.1111111111111111,\"#46039f\"],[0.2222222222222222,\"#7201a8\"],[0.3333333333333333,\"#9c179e\"],[0.4444444444444444,\"#bd3786\"],[0.5555555555555556,\"#d8576b\"],[0.6666666666666666,\"#ed7953\"],[0.7777777777777778,\"#fb9f3a\"],[0.8888888888888888,\"#fdca26\"],[1.0,\"#f0f921\"]]}],\"surface\":[{\"type\":\"surface\",\"colorbar\":{\"outlinewidth\":0,\"ticks\":\"\"},\"colorscale\":[[0.0,\"#0d0887\"],[0.1111111111111111,\"#46039f\"],[0.2222222222222222,\"#7201a8\"],[0.3333333333333333,\"#9c179e\"],[0.4444444444444444,\"#bd3786\"],[0.5555555555555556,\"#d8576b\"],[0.6666666666666666,\"#ed7953\"],[0.7777777777777778,\"#fb9f3a\"],[0.8888888888888888,\"#fdca26\"],[1.0,\"#f0f921\"]]}],\"mesh3d\":[{\"type\":\"mesh3d\",\"colorbar\":{\"outlinewidth\":0,\"ticks\":\"\"}}],\"scatter\":[{\"fillpattern\":{\"fillmode\":\"overlay\",\"size\":10,\"solidity\":0.2},\"type\":\"scatter\"}],\"parcoords\":[{\"type\":\"parcoords\",\"line\":{\"colorbar\":{\"outlinewidth\":0,\"ticks\":\"\"}}}],\"scatterpolargl\":[{\"type\":\"scatterpolargl\",\"marker\":{\"colorbar\":{\"outlinewidth\":0,\"ticks\":\"\"}}}],\"bar\":[{\"error_x\":{\"color\":\"#2a3f5f\"},\"error_y\":{\"color\":\"#2a3f5f\"},\"marker\":{\"line\":{\"color\":\"#E5ECF6\",\"width\":0.5},\"pattern\":{\"fillmode\":\"overlay\",\"size\":10,\"solidity\":0.2}},\"type\":\"bar\"}],\"scattergeo\":[{\"type\":\"scattergeo\",\"marker\":{\"colorbar\":{\"outlinewidth\":0,\"ticks\":\"\"}}}],\"scatterpolar\":[{\"type\":\"scatterpolar\",\"marker\":{\"colorbar\":{\"outlinewidth\":0,\"ticks\":\"\"}}}],\"histogram\":[{\"marker\":{\"pattern\":{\"fillmode\":\"overlay\",\"size\":10,\"solidity\":0.2}},\"type\":\"histogram\"}],\"scattergl\":[{\"type\":\"scattergl\",\"marker\":{\"colorbar\":{\"outlinewidth\":0,\"ticks\":\"\"}}}],\"scatter3d\":[{\"type\":\"scatter3d\",\"line\":{\"colorbar\":{\"outlinewidth\":0,\"ticks\":\"\"}},\"marker\":{\"colorbar\":{\"outlinewidth\":0,\"ticks\":\"\"}}}],\"scattermapbox\":[{\"type\":\"scattermapbox\",\"marker\":{\"colorbar\":{\"outlinewidth\":0,\"ticks\":\"\"}}}],\"scatterternary\":[{\"type\":\"scatterternary\",\"marker\":{\"colorbar\":{\"outlinewidth\":0,\"ticks\":\"\"}}}],\"scattercarpet\":[{\"type\":\"scattercarpet\",\"marker\":{\"colorbar\":{\"outlinewidth\":0,\"ticks\":\"\"}}}],\"carpet\":[{\"aaxis\":{\"endlinecolor\":\"#2a3f5f\",\"gridcolor\":\"white\",\"linecolor\":\"white\",\"minorgridcolor\":\"white\",\"startlinecolor\":\"#2a3f5f\"},\"baxis\":{\"endlinecolor\":\"#2a3f5f\",\"gridcolor\":\"white\",\"linecolor\":\"white\",\"minorgridcolor\":\"white\",\"startlinecolor\":\"#2a3f5f\"},\"type\":\"carpet\"}],\"table\":[{\"cells\":{\"fill\":{\"color\":\"#EBF0F8\"},\"line\":{\"color\":\"white\"}},\"header\":{\"fill\":{\"color\":\"#C8D4E3\"},\"line\":{\"color\":\"white\"}},\"type\":\"table\"}],\"barpolar\":[{\"marker\":{\"line\":{\"color\":\"#E5ECF6\",\"width\":0.5},\"pattern\":{\"fillmode\":\"overlay\",\"size\":10,\"solidity\":0.2}},\"type\":\"barpolar\"}],\"pie\":[{\"automargin\":true,\"type\":\"pie\"}]},\"layout\":{\"autotypenumbers\":\"strict\",\"colorway\":[\"#636efa\",\"#EF553B\",\"#00cc96\",\"#ab63fa\",\"#FFA15A\",\"#19d3f3\",\"#FF6692\",\"#B6E880\",\"#FF97FF\",\"#FECB52\"],\"font\":{\"color\":\"#2a3f5f\"},\"hovermode\":\"closest\",\"hoverlabel\":{\"align\":\"left\"},\"paper_bgcolor\":\"white\",\"plot_bgcolor\":\"#E5ECF6\",\"polar\":{\"bgcolor\":\"#E5ECF6\",\"angularaxis\":{\"gridcolor\":\"white\",\"linecolor\":\"white\",\"ticks\":\"\"},\"radialaxis\":{\"gridcolor\":\"white\",\"linecolor\":\"white\",\"ticks\":\"\"}},\"ternary\":{\"bgcolor\":\"#E5ECF6\",\"aaxis\":{\"gridcolor\":\"white\",\"linecolor\":\"white\",\"ticks\":\"\"},\"baxis\":{\"gridcolor\":\"white\",\"linecolor\":\"white\",\"ticks\":\"\"},\"caxis\":{\"gridcolor\":\"white\",\"linecolor\":\"white\",\"ticks\":\"\"}},\"coloraxis\":{\"colorbar\":{\"outlinewidth\":0,\"ticks\":\"\"}},\"colorscale\":{\"sequential\":[[0.0,\"#0d0887\"],[0.1111111111111111,\"#46039f\"],[0.2222222222222222,\"#7201a8\"],[0.3333333333333333,\"#9c179e\"],[0.4444444444444444,\"#bd3786\"],[0.5555555555555556,\"#d8576b\"],[0.6666666666666666,\"#ed7953\"],[0.7777777777777778,\"#fb9f3a\"],[0.8888888888888888,\"#fdca26\"],[1.0,\"#f0f921\"]],\"sequentialminus\":[[0.0,\"#0d0887\"],[0.1111111111111111,\"#46039f\"],[0.2222222222222222,\"#7201a8\"],[0.3333333333333333,\"#9c179e\"],[0.4444444444444444,\"#bd3786\"],[0.5555555555555556,\"#d8576b\"],[0.6666666666666666,\"#ed7953\"],[0.7777777777777778,\"#fb9f3a\"],[0.8888888888888888,\"#fdca26\"],[1.0,\"#f0f921\"]],\"diverging\":[[0,\"#8e0152\"],[0.1,\"#c51b7d\"],[0.2,\"#de77ae\"],[0.3,\"#f1b6da\"],[0.4,\"#fde0ef\"],[0.5,\"#f7f7f7\"],[0.6,\"#e6f5d0\"],[0.7,\"#b8e186\"],[0.8,\"#7fbc41\"],[0.9,\"#4d9221\"],[1,\"#276419\"]]},\"xaxis\":{\"gridcolor\":\"white\",\"linecolor\":\"white\",\"ticks\":\"\",\"title\":{\"standoff\":15},\"zerolinecolor\":\"white\",\"automargin\":true,\"zerolinewidth\":2},\"yaxis\":{\"gridcolor\":\"white\",\"linecolor\":\"white\",\"ticks\":\"\",\"title\":{\"standoff\":15},\"zerolinecolor\":\"white\",\"automargin\":true,\"zerolinewidth\":2},\"scene\":{\"xaxis\":{\"backgroundcolor\":\"#E5ECF6\",\"gridcolor\":\"white\",\"linecolor\":\"white\",\"showbackground\":true,\"ticks\":\"\",\"zerolinecolor\":\"white\",\"gridwidth\":2},\"yaxis\":{\"backgroundcolor\":\"#E5ECF6\",\"gridcolor\":\"white\",\"linecolor\":\"white\",\"showbackground\":true,\"ticks\":\"\",\"zerolinecolor\":\"white\",\"gridwidth\":2},\"zaxis\":{\"backgroundcolor\":\"#E5ECF6\",\"gridcolor\":\"white\",\"linecolor\":\"white\",\"showbackground\":true,\"ticks\":\"\",\"zerolinecolor\":\"white\",\"gridwidth\":2}},\"shapedefaults\":{\"line\":{\"color\":\"#2a3f5f\"}},\"annotationdefaults\":{\"arrowcolor\":\"#2a3f5f\",\"arrowhead\":0,\"arrowwidth\":1},\"geo\":{\"bgcolor\":\"white\",\"landcolor\":\"#E5ECF6\",\"subunitcolor\":\"white\",\"showland\":true,\"showlakes\":true,\"lakecolor\":\"white\"},\"title\":{\"x\":0.05},\"mapbox\":{\"style\":\"light\"}}},\"xaxis\":{\"anchor\":\"y\",\"domain\":[0.0,1.0],\"title\":{\"text\":\"secs\"},\"type\":\"log\"},\"yaxis\":{\"anchor\":\"x\",\"domain\":[0.0,1.0],\"title\":{\"text\":\"top1\"}},\"legend\":{\"title\":{\"text\":\"family\"},\"tracegroupgap\":0,\"itemsizing\":\"constant\"},\"title\":{\"text\":\"Training\"},\"height\":800,\"width\":1000},                        {\"responsive\": true}                    ).then(function(){\n",
       "                            \n",
       "var gd = document.getElementById('f50adec2-f9ed-4c70-a3e4-733d375480f5');\n",
       "var x = new MutationObserver(function (mutations, observer) {{\n",
       "        var display = window.getComputedStyle(gd).display;\n",
       "        if (!display || display === 'none') {{\n",
       "            console.log([gd, 'removed!']);\n",
       "            Plotly.purge(gd);\n",
       "            observer.disconnect();\n",
       "        }}\n",
       "}});\n",
       "\n",
       "// Listen for the removal of the full notebook cells\n",
       "var notebookContainer = gd.closest('#notebook-container');\n",
       "if (notebookContainer) {{\n",
       "    x.observe(notebookContainer, {childList: true});\n",
       "}}\n",
       "\n",
       "// Listen for the clearing of the current output cell\n",
       "var outputEl = gd.closest('.output');\n",
       "if (outputEl) {{\n",
       "    x.observe(outputEl, {childList: true});\n",
       "}}\n",
       "\n",
       "                        })                };                });            </script>        </div>"
      ]
     },
     "metadata": {},
     "output_type": "display_data"
    }
   ],
   "source": [
    "show_subs(tdf, 'Training', 'train_img_size')"
   ]
  }
 ],
 "metadata": {
  "kernelspec": {
   "display_name": "Python 3",
   "language": "python",
   "name": "python3"
  },
  "language_info": {
   "codemirror_mode": {
    "name": "ipython",
    "version": 3
   },
   "file_extension": ".py",
   "mimetype": "text/x-python",
   "name": "python",
   "nbconvert_exporter": "python",
   "pygments_lexer": "ipython3",
   "version": "3.7.12"
  },
  "papermill": {
   "default_parameters": {},
   "duration": 18.444461,
   "end_time": "2023-04-25T13:35:41.775840",
   "environment_variables": {},
   "exception": null,
   "input_path": "__notebook__.ipynb",
   "output_path": "__notebook__.ipynb",
   "parameters": {},
   "start_time": "2023-04-25T13:35:23.331379",
   "version": "2.3.4"
  }
 },
 "nbformat": 4,
 "nbformat_minor": 5
}
